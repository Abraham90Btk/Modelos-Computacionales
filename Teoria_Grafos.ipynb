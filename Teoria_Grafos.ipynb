{
 "cells": [
  {
   "cell_type": "markdown",
   "metadata": {},
   "source": [
    "## Teoría de gráfos\n"
   ]
  },
  {
   "cell_type": "markdown",
   "metadata": {},
   "source": [
    "### Fundamentos de Teoria de grafos\n",
    "\n",
    "- Hay muchos conceptos clave que debemos tener en cuenta cuando tratamos con gráficos. En esta sección los discutiremos de manera somera. \n",
    "\n",
    "    - **Vértice**: Es un punto donde se encuentran varias líneas. También se conoce como el nodo. Generalmente se denota por un alfabeto como se muestra en la figura.\n",
    "    \n",
    "    <center><img src=\"./imagenes/Grafo_uno.png\" width=\"50px\"/></center>\n",
    "\n",
    "    - **Arista (borde)**: Es una línea que une dos vértices.\n",
    "       <center><img src=\"./imagenes/Grafo_dos.png\" width=\"150px\"/></center>\n",
    "    - **Grafo**: es una combinación de vértices (nodos) y aristas. $G = (V, E)$ donde $V$ representa el conjunto de todos los vértices y $E$ representa el conjunto de todos los bordes del gráfico.\n",
    "           <center><img src=\"./imagenes/Grafo_tres.png\" width=\"150px\"/></center>\n",
    "    - **Grado del vértice**: El grado de un vértice es el número de aristas conectadas a él. En el siguiente ejemplo, Grado del vértice A, grado(A) = 3 Grado del    vértice B, grado(B) = 2.\n",
    "           <center><img src=\"./imagenes/Grafo_cuatro.png\" width=\"150px\"/></center>\n",
    "\n",
    "    - **Arista Paralela**: Si dos vértices están conectados por más de una arista, entonces estas aristas se llaman aristas paralelas.\n",
    "           <center><img src=\"./imagenes/Grafo_cinco.png\" width=\"150px\"/></center>\n",
    "\n",
    "    - **Multi Graph**: Estos son los grafos que tienen bordes paralelos:\n",
    "           <center><img src=\"./imagenes/Grafo_seis.png\" width=\"150px\"/></center>\n",
    "\n",
    "\n",
    "\n",
    "\n"
   ]
  },
  {
   "cell_type": "markdown",
   "metadata": {},
   "source": [
    "## Propiedades básicas y terminologías relacionadas con Grafos\n",
    "\n",
    "Hasta ahora, hemos visto cómo se ve un grafo y sus diferentes componentes. Ahora nos centraremos en algunas propiedades y terminologías básicas relacionadas con un grafo. Usaremos el siguiente gráfico (denominado G) y entenderemos cada terminología usando el mismo:\n",
    "\n",
    "<center><img src=\"./imagenes/Grafo_siete.png\" width=\"150px\"/></center>\n",
    "\n",
    "\n",
    "\n",
    "- **Distancia entre dos vértices**: Es el número de aristas en el camino más corto entre dos vértices.\n",
    "\n",
    "- **Excentricidad de un vértice**: Es el máximo de distancias entre un vértice y todos los demás vértices. Para calcular la excentricidad de cualquier vértice, debemos conocer la distancia entre ese vértice y todos los demás vértices.\n",
    "\n",
    "- **Radio de un grafo conectado**: la excentricidad mínima de todos los vértices de un grafo se conoce como el radio de ese gráfico. Primero tenemos que calcular la excentricidad para cada vértice.\n",
    "\n",
    "- **Diámetro de un grafo conectado**: el radio de un grafo es el valor mínimo de la excentricidad para todos los vértices, de manera similar, el diámetro de un grafo es el valor máximo de la excentricidad para todos los vértices.\n",
    "\n",
    "- **Punto central de un grafo**: El vértice para el cual la excentricidad es igual al radio del gráfico se conoce como punto central del gráfico. Un gráfico también puede tener más de un punto central."
   ]
  },
  {
   "cell_type": "markdown",
   "metadata": {},
   "source": [
    "## Tipos de grafos\n",
    "\n",
    "- **Grafo nulo**: estos son los grafos que no contienen ningún borde. No hay conexión entre los vértices.\n",
    "           <center><img src=\"./imagenes/Grafo_ocho.png\" width=\"150px\"/></center>\n",
    "\n",
    "\n",
    "- **Grafo no Dirigido**: Son los grafos que tienen aristas, pero estas aristas no tienen ninguna dirección en particular.\n",
    "           <center><img src=\"./imagenes/Grafo_nueve.png\" width=\"150px\"/></center>\n",
    "\n",
    "- **Grafo dirigido**: cuando los bordes de un grafo tienen una dirección específica, se denominan grafos dirigidos.\n",
    "           <center><img src=\"./imagenes/Grafo_diez.png\" width=\"150px\"/></center>\n",
    "\n",
    "\n",
    "  - Considere el ejemplo de las conexiones de Facebook y Twitter. Cuando agrega a alguien a su lista de amigos en Facebook, también se le agregará a su lista de amigos. Esta es una relación bidireccional y ese gráfico de conexión será no dirigido. Mientras que si sigues a una persona en Twitter, es posible que esa persona no te siga. Este es un gráfico dirigido.\n",
    "- **Grafo Conectado**: Cuando no existe un vértice inalcanzable, es decir, existe un camino entre cada par de vértices, tales grafos se denominan grafos conectados.\n",
    "           <center><img src=\"./imagenes/Grafo_once.png\" width=\"200px\"/></center>\n",
    "- **Grafo desconectado**: estos son aquellos grafos que tienen vértices inalcanzables, es decir, no existe un camino entre cada par de vértices.\n",
    "           <center><img src=\"./imagenes/Grafo_doce.png\" width=\"200px\"/></center>\n",
    "\n",
    "Si un grafo está coenctado, siempre hay un camino desde cada vértice a todos los demás vértices de ese grafo. Mientras que si un grafo está desconectado, siempre habrá al menos un vértice que no tendrá conexiones con todos los demás vértices del grafo. Esto puede ayudar a las aerolíneas a decidir si todos los aeropuertos están conectados o no. Pueden visualizar las conexiones, y si hay algún aeropuerto no conectado, se pueden introducir nuevos vuelos para mejorar la situación existente.     \n",
    "\n",
    "- **Gráfico regular**: cuando todos los vértices de un grafo tienen el mismo grado, estos grafos se denominan k-grafos regulares (donde k es el grado de cualquier vértice). Considere los dos grafos que se muestran a continuación:\n",
    "         <center><img src=\"./imagenes/Grafo_trece.png\" width=\"220px\"/></center>\n",
    "   - Para el Graph – 1, el grado de cada vértice es 2, por lo que Graph – 1 es un gráfico regular. El gráfico 2 no es un gráfico regular ya que el grado de cada vértice no es el mismo (para A y D el grado es 3, mientras que para B y D es 2).\n",
    "\n",
    "[Mas información sobre Grafos](https://stackabuse.com/courses/graphs-in-python-theory-and-implementation/lessons/representing-graphs-in-code/)\n"
   ]
  },
  {
   "cell_type": "markdown",
   "metadata": {},
   "source": [
    "## Teoría de grafos aplicada en Python"
   ]
  },
  {
   "cell_type": "markdown",
   "metadata": {},
   "source": [
    "En Python, networkx se usa a menudo para la teoría de grafos aplicada. El paquete tiene una funcionalidad útil para resumir rápidamente las características de un grafo. Puede revisar los pasos a continuación y seguirlos mientras creamos un grafo y tratamos de entender como se compone:"
   ]
  },
  {
   "cell_type": "code",
   "execution_count": 4,
   "metadata": {},
   "outputs": [],
   "source": [
    "import networkx as nx\n",
    "# Inicializa un grafo\n",
    "P = nx.Graph() # Crea un objeto vacío\n",
    "# Puedes agregar nodos utilizando el método add_nodes_from()\n",
    "P.add_nodes_from(['A','B','C','D', 'E'])\n",
    "# Utiliza el método add_edges_from para agregar relaciones por pares \n",
    "P.add_edges_from ([('B','C'), ('A','C'), ('B','D'), ('D','A'), ('D','E'), ('B','E')])"
   ]
  },
  {
   "cell_type": "markdown",
   "metadata": {},
   "source": [
    "Los argumentos como `<object>.nodes()` o `<object>.edges()` son formas rápidas de ver todos los nodos y bordes del sistema grafo."
   ]
  },
  {
   "cell_type": "markdown",
   "metadata": {},
   "source": []
  },
  {
   "cell_type": "code",
   "execution_count": 5,
   "metadata": {},
   "outputs": [
    {
     "name": "stdout",
     "output_type": "stream",
     "text": [
      "['A', 'B', 'C', 'D', 'E']\n",
      "[('A', 'C'), ('A', 'D'), ('B', 'C'), ('B', 'D'), ('B', 'E'), ('D', 'E')]\n"
     ]
    }
   ],
   "source": [
    "print(P.nodes())\n",
    "print(P.edges())"
   ]
  },
  {
   "cell_type": "markdown",
   "metadata": {},
   "source": [
    "Finalmente, `nx.draw` se usa para visualizar el grafo."
   ]
  },
  {
   "cell_type": "code",
   "execution_count": 6,
   "metadata": {},
   "outputs": [
    {
     "data": {
      "image/png": "[encoded data removed]",
      "text/plain": [
       "<Figure size 432x288 with 1 Axes>"
      ]
     },
     "metadata": {},
     "output_type": "display_data"
    }
   ],
   "source": [
    "%matplotlib inline\n",
    "#import matplotlib.pyplot as plt\n",
    "nx.draw(P, with_labels = True)"
   ]
  },
  {
   "cell_type": "markdown",
   "metadata": {},
   "source": [
    "[Tutorial networkx](https://www.geeksforgeeks.org/operations-on-graph-and-special-graphs-using-networkx-module-python/)"
   ]
  },
  {
   "cell_type": "markdown",
   "metadata": {},
   "source": [
    "## Utiliza datos reales (los que usaste en MATLAB) para crear un grafo"
   ]
  },
  {
   "cell_type": "code",
   "execution_count": null,
   "metadata": {},
   "outputs": [],
   "source": []
  }
 ],
 "metadata": {
  "kernelspec": {
   "display_name": "Python 3.9.12 ('base')",
   "language": "python",
   "name": "python3"
  },
  "language_info": {
   "codemirror_mode": {
    "name": "ipython",
    "version": 3
   },
   "file_extension": ".py",
   "mimetype": "text/x-python",
   "name": "python",
   "nbconvert_exporter": "python",
   "pygments_lexer": "ipython3",
   "version": "3.9.12"
  },
  "orig_nbformat": 4,
  "vscode": {
   "interpreter": {
    "hash": "213a5d771efc885c0a0d146cb9398e98aa15d9474476d60ee972b98bffb9e082"
   }
  }
 },
 "nbformat": 4,
 "nbformat_minor": 2
}
