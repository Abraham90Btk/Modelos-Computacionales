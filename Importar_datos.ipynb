{
 "cells": [
  {
   "cell_type": "markdown",
   "metadata": {},
   "source": [
    "## Importar datos a Python\n",
    "\n",
    "Ahora que sabemos cómo trabajar con datos, es hora de aprender a importar datos de fuentes y archivos externos a Python.\n",
    "\n",
    "## Objetivos de aprendizaje\n",
    " - Importar archivos txt\n",
    " - Importar archivos csv\n",
    " - Importar archivos mat\n",
    " - Crear solicitudes de API."
   ]
  },
  {
   "cell_type": "markdown",
   "metadata": {},
   "source": [
    "## Importar archivos `txt`"
   ]
  },
  {
   "cell_type": "markdown",
   "metadata": {},
   "source": [
    "Ocurre más a menudo de lo que deseamos, pero de vez en cuando todavía tenemos que lidiar con archivos `.txt`, por lo que necesitamos saber cómo importarlos. Podemos hacer esto con la ayuda de la función `open()`.  Es importante especificar en qué modo quieres abrir el archivo. Hay muchas opciones diferentes, pero todas son bastante intuitivas:\n",
    "\n",
    "- `w`: Escribe el archivo\n",
    "- `a`: Anexa el archivo\n",
    "- `r`: Lee el archivo"
   ]
  },
  {
   "cell_type": "markdown",
   "metadata": {},
   "source": [
    "Utilizala ayuda de la función `open()` incorporada. Las opciones de modo son:\n",
    "\n",
    "- `r`: Abre el archivo en modo de solo lectura. Comienza a leer desde el principio del archivo y es el modo predeterminado para la función open().\n",
    "- `rb`: Abre el archivo como de solo lectura en formato binario y comienza a leer desde el principio del archivo. Si bien el formato binario se puede usar para diferentes propósitos, generalmente se usa cuando se trata de cosas como imágenes, videos, etc.\n",
    "- `r+`: Abre un archivo para lectura y escritura, colocando el puntero al principio del archivo.\n",
    "- `w`: se abre en modo de solo escritura. El puntero se coloca al principio del archivo y esto sobrescribirá cualquier archivo existente con el mismo nombre. Crea un nuevo archivo si no existe uno con el mismo nombre.\n",
    "- `wb`: Abre un archivo de solo escritura en modo binario.\n",
    "- `w+`: Abre un archivo para escritura y lectura.\n",
    "- `wb+`: Abre un archivo para escribir y leer en modo binario.\n",
    "- `a`: Abre un archivo para agregarle nueva información. El puntero se coloca al final del archivo. Se crea un nuevo archivo si no existe uno con el mismo nombre.\n",
    "- `ab`: Abre un archivo para agregarlo en modo binario.\n",
    "- `a+`: Abre un archivo para agregar y leer.\n",
    "- `ab+`: Abre un archivo para agregarlo y leerlo en modo binario.\n",
    "\n",
    "### Escribir un archivo `txt`"
   ]
  },
  {
   "cell_type": "code",
   "execution_count": 1,
   "metadata": {},
   "outputs": [],
   "source": [
    "my_string = \"Hello, Python!\"\n",
    "\n",
    "with open(\"new_file.txt\", mode=\"w\") as file:\n",
    "    file.write(my_string)"
   ]
  },
  {
   "cell_type": "markdown",
   "metadata": {},
   "source": [
    "- Usamos el comando `with` aquí para evitar la conexión abierta al archivo. Trata de verlo como si fuera una declaración `while`: \"mientras abrimos el archivo y guardamos el objeto de E/S resultante en el archivo de variables, estamos escribiendo el archivo. Cuando finaliza `file.write()`, cerramos la conexión con el expediente\".\n",
    "\n",
    "- Ten en cuenta que si el archivo con ese nombre no existe, Python lo creará. Si el archivo ya existe, Python sobrescribirá los datos existentes en el archivo con los nuevos datos. Si no desea borrar los datos, sino agregar nuevas líneas al archivo, debe usar el modo agregar.\n",
    "\n",
    "### Agregar inofrmación al archivo `txt`"
   ]
  },
  {
   "cell_type": "code",
   "execution_count": 2,
   "metadata": {},
   "outputs": [],
   "source": [
    "my_string = \" How are you doing today, Python?\"\n",
    "\n",
    "with open(\"new_file.txt\", mode=\"a\") as file:\n",
    "    file.write(my_string)"
   ]
  },
  {
   "cell_type": "markdown",
   "metadata": {},
   "source": [
    "Para agregar texto al archivo, usamos el modo de agregar `(mode='a')`. En este caso, Python agregará una nueva cadena al final del archivo. Lo único que ha cambiado aquí es el modo, seguimos usando el método `.write()`.\n",
    "\n",
    "### Lectura de archivos `txt`"
   ]
  },
  {
   "cell_type": "code",
   "execution_count": 3,
   "metadata": {},
   "outputs": [
    {
     "name": "stdout",
     "output_type": "stream",
     "text": [
      "Hello, Python! How are you doing today, Python?\n"
     ]
    }
   ],
   "source": [
    "#Metodo #1\n",
    "with open(\"new_file.txt\", mode=\"r\") as file:\n",
    "    output = file.read()\n",
    "\n",
    "print(output)"
   ]
  },
  {
   "cell_type": "code",
   "execution_count": 14,
   "metadata": {},
   "outputs": [],
   "source": [
    "my_string =  \"This is line one,\"  + \"\\nandthis is line two\" \n",
    "with open(\"new_file2.txt\", mode=\"a\") as file:\n",
    "    file.write(my_string)\n"
   ]
  },
  {
   "cell_type": "code",
   "execution_count": 15,
   "metadata": {},
   "outputs": [
    {
     "name": "stdout",
     "output_type": "stream",
     "text": [
      "['This is line one,\\n', 'andthis is line two']\n"
     ]
    }
   ],
   "source": [
    "\n",
    "with open(\"new_file2.txt\", mode=\"r\") as file:\n",
    "    output = file.readlines()\n",
    "\n",
    "print(output)"
   ]
  },
  {
   "cell_type": "markdown",
   "metadata": {},
   "source": [
    "####  Ejercicio #1\n",
    "\n",
    "- Escribe la cadena en un archivo `txt`\n",
    "- Agregue el archivo para agregar otra cadena. ¡Nota! Si usa el método `\"w\"` en lugar de `\"a\"`, la nueva cadena sobrescribirá los datos existentes en el archivo.  \n",
    "- Leer en el archivo (debe especificar el método apropiado)\n",
    "\n",
    "    ~~~python\n",
    "    neuro = \"Neuroscience (or neurobiology) is the scientific study \\\n",
    "    of the nervous system.\"\n",
    "\n",
    "    # write the file\n",
    "    with open('neuroscience.txt', mode=___) as file:\n",
    "        file.write(neuro)\n",
    "\n",
    "    neuro_cont = \" It is a multidisciplinary science that combines \\\n",
    "    physiology, anatomy, molecular biology, developmental biology, \\\n",
    "    cytology, computer science and mathematical modeling to \\\n",
    "    understand the fundamental and emergent properties of neurons \\\n",
    "    and neural circuits.\"\n",
    "\n",
    "    # add new string to the file (append mode)\n",
    "    with open('neuroscience.txt', mode=___) as file:\n",
    "        file.write(neuro_cont)\n",
    "\n",
    "    # read the file and save the output\n",
    "    with ___('___', mode=___) as ___:\n",
    "        imported = ___.read()\n",
    "\n",
    "    print(imported)\n",
    "    ~~~\n"
   ]
  },
  {
   "cell_type": "markdown",
   "metadata": {},
   "source": [
    "#### Ejercicio 2.\n",
    "Guarda guardar una lista, no una cadena. Esto se vuelve un poco complicado. Queremos guardar un archivo txt con cada valor de la lista en la nueva línea. Esto puede ser posible escribiendo cada valor por separado en un bucle `for` y agregando una cadena `\"\\n\" ` a cada valor, que es responsable de crear una nueva línea en el archivo.\n",
    "\n",
    "\n",
    "<center><img src=\"./imagenes/ejemploTXT.png\" width=\"200px\"/></center>\n",
    "\n",
    "\n",
    "\n",
    "Sin embargo, ahora, si volvemos a leer el archivo en Python usando el método read(), guardará el resultado como una cadena, que se verá así:\n",
    "\n",
    "Podemos usar el método `.readlines()` que devolverá la lista con las cadenas de cada línea de archivo. El único problema es que todos los valores tienen el signo de nueva línea \"\\n\" al final (['malignant\\n', 'malignant\\n', 'benign\\n', 'malignant\\n', 'malignant\\n', 'benigno\\n', 'benigno\\n', 'benigno\\n']). ¿Puedes arreglarlo?\n",
    "\n",
    "~~~python\n",
    "outcomes =  ['malignant', 'malignant', 'benign', 'malignant',\n",
    "             'malignant', 'benign', 'benign', 'benign']\n",
    "\n",
    "#Guarda el string a un archivo de texto\n",
    "with open('outcome.txt', mode='w') as file:\n",
    "    for val in outcomes:       # write each value from the list at a new line\n",
    "        file.write(val + \"\\n\") # adding \"\\n\" creates a new line in a file\n",
    "\n",
    "# importa el archivo a un string\n",
    "___ ___('___', mode=___) as ___:\n",
    "    outcomes_str = ___.___()\n",
    "\n",
    "# importar el archivo a una lista\n",
    "with open('outcome.txt', mode='r') as file:\n",
    "    outcomes_list = file.readlines()\n",
    "\n",
    "print(\"Imported string:\")\n",
    "print(outcomes_str)\n",
    "\n",
    "print(\"Imported list:\")\n",
    "print(outcomes_list)\n",
    "\n",
    "# clean the values in a list\n",
    "outcomes_list = list(___) \n",
    "print(\"\\nFixed list:\")\n",
    "print(outcomes_list)\n",
    "~~~"
   ]
  },
  {
   "cell_type": "markdown",
   "metadata": {},
   "source": [
    "## Importar archivos `csv`\n",
    "\n",
    "- Un archivo de valores separados por comas (CSV) es un archivo de texto delimitado que usa una coma para separar los valores. \n",
    "- Cada línea del archivo es un registro de datos. Cada registro consta de uno o más campos, separados por comas. \n",
    "\n",
    "- El uso de la coma como separador de campo es el origen del nombre de este formato de archivo. Un archivo CSV generalmente almacena datos tabulares (números y texto) en texto sin formato, en cuyo caso cada línea tendrá la misma cantidad de campos.\n",
    "\n",
    "**Fuente:** [Wikipedia](https://en.wikipedia.org/wiki/Comma-separated_values)\n",
    "\n",
    "\n",
    "#### Lectura de archivos CSV con `numpy`\n"
   ]
  },
  {
   "cell_type": "code",
   "execution_count": null,
   "metadata": {},
   "outputs": [],
   "source": [
    "import numpy as np\n",
    "frmi_smpl = np.loadtxt(fname=\"fmri_sample.csv\", delimiter=\",\")\n",
    "frmi_smpl.shape"
   ]
  },
  {
   "cell_type": "markdown",
   "metadata": {},
   "source": [
    "#### Escritura de archivos `CSV` con `numpy`"
   ]
  },
  {
   "cell_type": "code",
   "execution_count": null,
   "metadata": {},
   "outputs": [],
   "source": [
    "np.savetxt(fname=\"one_subject.csv\", X=frmi_smpl[0,:], delimiter=\",\")"
   ]
  },
  {
   "cell_type": "markdown",
   "metadata": {},
   "source": [
    "#### Lectura de archivos `CSV/EXCEL` con `pandas` (1)"
   ]
  },
  {
   "cell_type": "code",
   "execution_count": null,
   "metadata": {},
   "outputs": [],
   "source": [
    "oasis_df = pd.read_csv(filepath_or_buffer=\"oasis_cross-sectional.csv\", sep=\",\") # CSV files\n",
    "display(oasis_df.head())"
   ]
  },
  {
   "cell_type": "code",
   "execution_count": null,
   "metadata": {},
   "outputs": [],
   "source": [
    "oasis_df = pd.read_excel(io=\"oasis_cross-sectional.csv\", sheet_name=0) # Excel files\n",
    "display(oasis_df.head())"
   ]
  },
  {
   "cell_type": "markdown",
   "metadata": {},
   "source": [
    "#### Lectura de archivos `CSV/EXCEL` con `pandas` (2)\n",
    "- URL que contenga el archivo\n"
   ]
  },
  {
   "cell_type": "code",
   "execution_count": null,
   "metadata": {},
   "outputs": [],
   "source": [
    "URL = \"https://raw.githubusercontent.com/ruslan-kl/py-for-neuro/binder/exercises/data/oasis_cross-sectional.csv\"\n",
    "dementia_df = pd.read_csv(filepath_or_buffer=URL)"
   ]
  },
  {
   "cell_type": "markdown",
   "metadata": {},
   "source": [
    "- Archivo comprimido"
   ]
  },
  {
   "cell_type": "markdown",
   "metadata": {},
   "source": [
    "dementia_df = pd.read_csv(filepath_or_buffer=\"oasis_cross-sectional.zip\")\n"
   ]
  },
  {
   "cell_type": "code",
   "execution_count": null,
   "metadata": {},
   "outputs": [],
   "source": [
    "dementia_df.to_csv(path_or_buf=\"dementia_df.csv\", sep=\",\", index=True) # CSV file\n",
    "\n",
    "dementia_df.to_excel( # Excel file\n",
    "    excel_writer=\"dementia_df.xslx\",\n",
    "    sheet_name='Main Data',\n",
    "    index=False)"
   ]
  },
  {
   "cell_type": "markdown",
   "metadata": {},
   "source": [
    "#### Ejercicio #3\n",
    "Ejercicio. conjunto de datos de resonancia magnética funcional\n",
    "- Cargue los datos del experimento fMRI. Ruta al archivo \"ejercicios/datos/fmri_datos.csv\". Tenga en cuenta que las columnas de un archivo están separadas por `;`.\n",
    "- Cree un nuevo DataFrame parietal_df con observaciones de la región parietal (`df[\"region\"] == \"parietal\"`);\n",
    "- Guarde el marco de datos resultante como un archivo de Excel.\n",
    "\n",
    "~~~python\n",
    "import pandas as pd\n",
    "\n",
    "# Lee el archivo\n",
    "df = pd.___(___)\n",
    "display(df.head())\n",
    "\n",
    "# Utiliza la región parietal\n",
    "parietal_df = ___\n",
    "# Guarda la información como un archiv Excel\n",
    "___.___(\"parietal_sample.xlsx\")\n",
    "~~~"
   ]
  },
  {
   "cell_type": "markdown",
   "metadata": {},
   "source": [
    "## Importar archivos `mat`\n"
   ]
  },
  {
   "cell_type": "markdown",
   "metadata": {},
   "source": [
    "- MATLAB es un lenguaje de programación multiparadigma patentado y un entorno de computación numérica desarrollado por MathWorks. MATLAB permite la manipulación de matrices, el trazado de funciones y datos, la implementación de algoritmos, la creación de interfaces de usuario y la interfaz con programas escritos en otros lenguajes.\n",
    "\n",
    "- Podemos cargar archivos `MAT` en Python con la ayuda del paquete `SciPy`. Estamos interesados en la función `loadmat()` dentro del módulo `io`."
   ]
  },
  {
   "cell_type": "code",
   "execution_count": null,
   "metadata": {},
   "outputs": [],
   "source": [
    "from scipy.io import loadmat\n",
    "h1_data = loadmat(file_name=\"H1_neuron.mat\", squeeze_me=True)\n",
    "h1_data"
   ]
  },
  {
   "cell_type": "markdown",
   "metadata": {},
   "source": [
    "La función `squeeze_me` es responsable de squeezing las dimensiones de la matriz unitaria. Por ejemplo, si la variable en  MATLAB se almacenó en una forma (5,1,1), si establecemos establecer squeeze_me=True la importará con la forma (5,) a Python.\n",
    "\n",
    "El objeto resultante es un diccionario. Cada clave representa una variable guardada de MATLAB. Además, hay tres claves adicionales con la información del archivo. rho es un vector que da la secuencia de spikes de eventos o no eventos en los tiempos muestreados (cada 2 ms). Cuando un elemento de rho es uno, esto indica la presencia de un spike en el momento correspondiente, mientras que un valor cero indica que no hay pico. La variable stim da la secuencia de valores de estímulo en los tiempos muestreados."
   ]
  },
  {
   "cell_type": "markdown",
   "metadata": {},
   "source": [
    "#### Ejercicio #4\n",
    " Tasa de disparo de la neurona H1\n",
    "\n",
    "- Cargue en el archivo MAT H1_neuron.mat que contiene datos de la respuesta de una neurona H1 de mosca a un estímulo de movimiento visual de ruido blanco aproximado. Ruta al archivo: \"path/datos/H1_neuron.mat\";\n",
    "- Haga un gráfico de los valores de un estímulo (gráfico de líneas) y agregue líneas verticales para esos puntos de tiempo cuando ocurrió el pico. Use solo las primeras 250 observaciones para esta gráfica.\n",
    "\n",
    "~~~python\n",
    "from scipy.io import loadmat\n",
    "import matplotlib.pyplot as plt\n",
    "import numpy as np\n",
    "\n",
    "# import the file\n",
    "h1_data = ___(\"path/data/H1_neuron.mat\", squeeze_me=True)\n",
    "\n",
    "# amount of timepoints to keep\n",
    "n = 250\n",
    "# slice of an `rho` array\n",
    "spikes = ___\n",
    "# slice of an `stim` array\n",
    "stimulus = ___\n",
    "# time points for the slice\n",
    "timepoints = ___\n",
    "# select only those when spike occurred\n",
    "timepoints = ___\n",
    "\n",
    "plt.figure(figsize=(10,5), facecolor=\"white\")\n",
    "plt.vlines(\n",
    "    x=timepoints,        # time points when spike occurred\n",
    "    ymin=stimulus.min(), # lower end of a line\n",
    "    ymax=stimulus.max(), # upper end of a line\n",
    "    linewidth=1,\n",
    "    label=\"Spike\")\n",
    "# plot stimulus values\n",
    "plt.plot(stimulus, label=\"Stimulus\")\n",
    "plt.legend()\n",
    "plt.title(\"Fly H1 neuron response to\\napproximate white-noise visual motion stimulus\")\n",
    "plt.xlabel('Time step')\n",
    "plt.ylabel('Stimulus value, mV')\n",
    "plt.show()\n",
    "~~~"
   ]
  },
  {
   "cell_type": "markdown",
   "metadata": {},
   "source": [
    "## Importar archivos `JSON`\n",
    "\n",
    "- JSON (Notación de objetos de JavaScript) es un formato de archivo estándar abierto y un formato de intercambio de datos que utiliza texto legible por humanos para almacenar y transmitir objetos de datos que consisten en pares de valor de atributo y tipos de datos de matriz (o cualquier otro valor serializable).\n",
    "-  Es un formato de datos muy común, con una amplia gama de aplicaciones.\n",
    "\n",
    "**Fuente** [Wikipedia](https://en.wikipedia.org/wiki/JSON)\n",
    "\n",
    "Los archivos JSON son útiles para la especificación de parámetros. Por ejemplo, todos los conjuntos de datos en el sitio web de OpenNeuro tienen un archivo JSON con la descripción. Ejemplo de dicho archivo de datos de Pavlov, Y. G. y Kotchoubey, B. (2021):\n",
    "\n",
    "\n",
    "<center><img src=\"./imagenes/JSON_image.png\" width=\"400px\"/></center>"
   ]
  },
  {
   "cell_type": "markdown",
   "metadata": {},
   "source": [
    "La estructura del archivo siempre tiene un formato de `\"key-value\"`. Para este ejemplo, tenemos parámetros de conjunto de datos como nombre, autores y versión. Los valores pueden ser cadenas, listas u otro objeto clave-valor anidado."
   ]
  },
  {
   "cell_type": "markdown",
   "metadata": {},
   "source": [
    "~~~python\n",
    "import json\n",
    "#Lectura\n",
    "with open(file=\"path/to/the/file.json\", mode=\"r\") as file:\n",
    "    output = json.load(fp=file)\n",
    "#Escritura\n",
    "with open(file=\"path/to/the/file.json\", mode=\"w\") as file:\n",
    "    json.dump(obj=<object to write>, fp=file)\n",
    "~~~\n",
    "\n",
    "[Documentacion JSON](https://docs.python.org/3/library/json.html)"
   ]
  },
  {
   "cell_type": "markdown",
   "metadata": {},
   "source": [
    "#### Ejercicio 5\n",
    "Guarde un diccionario como un archivo JSON \"dataset_description.json\".\n",
    "\n",
    "- Lea el archivo que acaba de guardar.\n",
    "- Guarde el nombre del primer autor en una variable first_author_name accediendo a él a través de la variable de salida (no lo escriba simplemente).\n",
    "\n",
    "Tenga en cuenta que en este ejemplo el valor de la clave `Authors` es una lista con dos diccionarios.\n",
    "\n",
    "~~~python\n",
    "import json\n",
    "import pprint\n",
    "\n",
    "dataset_description = {\n",
    "    \"Name\": \"Our cool data set\",\n",
    "    \"Authors\": [\n",
    "        {\n",
    "            \"Name\": \"Bob\",\n",
    "            \"Institution\": \"X\"\n",
    "        },\n",
    "        {\n",
    "            \"Name\": \"Ben\",\n",
    "            \"Institution\": \"Y\"\n",
    "        }\n",
    "    ],\n",
    "    \"Version\": \"0.0.1\"\n",
    "}\n",
    "\n",
    "# write JSON file\n",
    "with open(file=\"dataset_description.json\", mode=___) as file:\n",
    "    json.dump(obj=dataset_description, fp=file)\n",
    "\n",
    "# read JSON file\n",
    "____:\n",
    "    output = json.load(fp=___)\n",
    "\n",
    "pprint.pprint(output)\n",
    "\n",
    "# get the name of the first author\n",
    "first_author_name = ___\n",
    "print(f\"\\nFirst author is {first_author_name}\")\n",
    "~~~"
   ]
  },
  {
   "cell_type": "markdown",
   "metadata": {},
   "source": [
    "## API Requests\n",
    "\n",
    "\n",
    "<center><img src=\"./imagenes/API.png\" width=\"400px\"/></center>\n",
    "\n",
    "**Fuente:** [DEV comunity](https://dev.to/austinbrownopspark/an-overview-of-apis-and-rest-1093)"
   ]
  },
  {
   "cell_type": "markdown",
   "metadata": {},
   "source": [
    "## Elementos básicos de una API\n",
    "\n",
    "- Acceso: ¿tienes permiso para acceder?\n",
    "- Solicitud: ¿Qué quieres conseguir?\n",
    "- Respuesta: los datos resultantes\n",
    "\n",
    "## API abiertas desde el espacio\n",
    "Open Notify es un proyecto de código abierto para proporcionar una interfaz de programación simple para algunos de los increíbles datos de la NASA.\n",
    "\n",
    "[Open Notify website](http://open-notify.org/)\n",
    "\n",
    "[SS Current Location API](http://open-notify.org/Open-Notify-API/ISS-Location-Now/)"
   ]
  },
  {
   "cell_type": "code",
   "execution_count": null,
   "metadata": {},
   "outputs": [],
   "source": [
    "import requests\n",
    "\n",
    "URL = \"http://api.open-notify.org/iss-now.json\"\n",
    "response = requests.get(URL)\n",
    "print(response.status_code)\n",
    "print(response.content)\n",
    "print(response.json())"
   ]
  },
  {
   "cell_type": "markdown",
   "metadata": {},
   "source": [
    "## Importar archivos pickled"
   ]
  },
  {
   "cell_type": "markdown",
   "metadata": {},
   "source": []
  }
 ],
 "metadata": {
  "kernelspec": {
   "display_name": "Python 3.9.12 ('base')",
   "language": "python",
   "name": "python3"
  },
  "language_info": {
   "codemirror_mode": {
    "name": "ipython",
    "version": 3
   },
   "file_extension": ".py",
   "mimetype": "text/x-python",
   "name": "python",
   "nbconvert_exporter": "python",
   "pygments_lexer": "ipython3",
   "version": "3.9.12"
  },
  "orig_nbformat": 4,
  "vscode": {
   "interpreter": {
    "hash": "213a5d771efc885c0a0d146cb9398e98aa15d9474476d60ee972b98bffb9e082"
   }
  }
 },
 "nbformat": 4,
 "nbformat_minor": 2
}
