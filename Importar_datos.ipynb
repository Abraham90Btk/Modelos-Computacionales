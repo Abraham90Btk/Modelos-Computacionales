{
 "cells": [
  {
   "cell_type": "markdown",
   "metadata": {},
   "source": [
    "## Importar datos a Python\n",
    "\n",
    "Ahora que sabemos cómo trabajar con datos, es hora de aprender a importar datos de fuentes y archivos externos a Python.\n",
    "\n",
    "## Objetivos de aprendizaje\n",
    " - Importar archivos txt\n",
    " - Importar archivos csv\n",
    " - Importar archivos mat\n",
    " - Crear solicitudes de API."
   ]
  },
  {
   "cell_type": "markdown",
   "metadata": {},
   "source": [
    "## Importar archivos `txt`"
   ]
  },
  {
   "cell_type": "markdown",
   "metadata": {},
   "source": [
    "Ocurre más a menudo de lo que deseamos, pero de vez en cuando todavía tenemos que lidiar con archivos `.txt`, por lo que necesitamos saber cómo importarlos. Podemos hacer esto con la ayuda de la función `open()`.  Es importante especificar en qué modo quieres abrir el archivo. Hay muchas opciones diferentes, pero todas son bastante intuitivas:\n",
    "\n",
    "- `w`: Escribe el archivo\n",
    "- `a`: Anexa el archivo\n",
    "- `r`: Lee el archivo"
   ]
  },
  {
   "cell_type": "markdown",
   "metadata": {},
   "source": [
    "Utilizala ayuda de la función `open()` incorporada. Las opciones de modo son:\n",
    "\n",
    "- `r`: Abre el archivo en modo de solo lectura. Comienza a leer desde el principio del archivo y es el modo predeterminado para la función open().\n",
    "- `rb`: Abre el archivo como de solo lectura en formato binario y comienza a leer desde el principio del archivo. Si bien el formato binario se puede usar para diferentes propósitos, generalmente se usa cuando se trata de cosas como imágenes, videos, etc.\n",
    "- `r+`: Abre un archivo para lectura y escritura, colocando el puntero al principio del archivo.\n",
    "- `w`: se abre en modo de solo escritura. El puntero se coloca al principio del archivo y esto sobrescribirá cualquier archivo existente con el mismo nombre. Crea un nuevo archivo si no existe uno con el mismo nombre.\n",
    "- `wb`: Abre un archivo de solo escritura en modo binario.\n",
    "- `w+`: Abre un archivo para escritura y lectura.\n",
    "- `wb+`: Abre un archivo para escribir y leer en modo binario.\n",
    "- `a`: Abre un archivo para agregarle nueva información. El puntero se coloca al final del archivo. Se crea un nuevo archivo si no existe uno con el mismo nombre.\n",
    "- `ab`: Abre un archivo para agregarlo en modo binario.\n",
    "- `a+`: Abre un archivo para agregar y leer.\n",
    "- `ab+`: Abre un archivo para agregarlo y leerlo en modo binario.\n",
    "\n",
    "### Escribir un archivo `txt`"
   ]
  },
  {
   "cell_type": "code",
   "execution_count": 5,
   "metadata": {},
   "outputs": [],
   "source": [
    "my_string = \"Hola, Python!\"\n",
    "\n",
    "with open(\"new_file.txt\", mode=\"w\") as file:\n",
    "    file.write(my_string)"
   ]
  },
  {
   "cell_type": "markdown",
   "metadata": {},
   "source": [
    "- Usamos el comando `with` aquí para evitar la conexión abierta al archivo. Trata de verlo como si fuera una declaración `while`: \"mientras abrimos el archivo y guardamos el objeto de E/S resultante en el archivo de variables, estamos escribiendo el archivo. Cuando finaliza `file.write()`, cerramos la conexión con el expediente\".\n",
    "\n",
    "- Ten en cuenta que si el archivo con ese nombre no existe, Python lo creará. Si el archivo ya existe, Python sobrescribirá los datos existentes en el archivo con los nuevos datos. Si no desea borrar los datos, sino agregar nuevas líneas al archivo, debe usar el modo agregar.\n",
    "\n",
    "### Agregar inofrmación al archivo `txt`"
   ]
  },
  {
   "cell_type": "code",
   "execution_count": 6,
   "metadata": {},
   "outputs": [],
   "source": [
    "my_string = \"Continuamos con la clase de Modelos, en Python?\"\n",
    "\n",
    "with open(\"new_file.txt\", mode=\"a\") as file:\n",
    "    file.write(my_string)"
   ]
  },
  {
   "cell_type": "markdown",
   "metadata": {},
   "source": [
    "Para agregar texto al archivo, usamos el modo de agregar `(mode='a')`. En este caso, Python agregará una nueva cadena al final del archivo. Lo único que ha cambiado aquí es el modo, seguimos usando el método `.write()`.\n",
    "\n",
    "### Lectura de archivos `txt`"
   ]
  },
  {
   "cell_type": "code",
   "execution_count": 7,
   "metadata": {},
   "outputs": [
    {
     "name": "stdout",
     "output_type": "stream",
     "text": [
      "Hola, Python!Continuamos con la clase de Modelos, en Python?\n"
     ]
    }
   ],
   "source": [
    "#Metodo #1\n",
    "with open(\"new_file.txt\", mode=\"r\") as file:\n",
    "    output = file.read()\n",
    "\n",
    "print(output)"
   ]
  },
  {
   "cell_type": "code",
   "execution_count": 8,
   "metadata": {},
   "outputs": [],
   "source": [
    "my_string =  \"This is line one,\"  + \"\\nandthis is line two\" \n",
    "with open(\"new_file2.txt\", mode=\"a\") as file:\n",
    "    file.write(my_string)\n"
   ]
  },
  {
   "cell_type": "code",
   "execution_count": 9,
   "metadata": {},
   "outputs": [
    {
     "name": "stdout",
     "output_type": "stream",
     "text": [
      "['This is line one,\\n', 'andthis is line two']\n"
     ]
    }
   ],
   "source": [
    "\n",
    "with open(\"new_file2.txt\", mode=\"r\") as file:\n",
    "    output = file.readlines()\n",
    "\n",
    "print(output)"
   ]
  },
  {
   "cell_type": "markdown",
   "metadata": {},
   "source": [
    "####  Ejercicio #1\n",
    "\n",
    "- Escribe la cadena en un archivo `txt`\n",
    "- Agregue el archivo para agregar otra cadena. ¡Nota! Si usa el método `\"w\"` en lugar de `\"a\"`, la nueva cadena sobrescribirá los datos existentes en el archivo.  \n",
    "- Leer en el archivo (debe especificar el método apropiado)\n",
    "\n",
    "    ~~~python\n",
    "    neuro = \"Neuroscience (or neurobiology) is the scientific study \\\n",
    "    of the nervous system.\"\n",
    "\n",
    "    # write the file\n",
    "    with open('neuroscience.txt', mode='w') as file:\n",
    "        file.write(neuro)\n",
    "\n",
    "    neuro_cont = \" It is a multidisciplinary science that combines \\\n",
    "    physiology, anatomy, molecular biology, developmental biology, \\\n",
    "    cytology, computer science and mathematical modeling to \\\n",
    "    understand the fundamental and emergent properties of neurons \\\n",
    "    and neural circuits.\"\n",
    "\n",
    "    # add new string to the file (append mode)\n",
    "    with open('neuroscience.txt', mode=___) as file:\n",
    "        file.write(neuro_cont)\n",
    "\n",
    "    # read the file and save the output\n",
    "    with ___('___', mode=___) as ___:\n",
    "        imported = ___.read()\n",
    "\n",
    "    print(imported)\n",
    "    ~~~\n"
   ]
  },
  {
   "cell_type": "code",
   "execution_count": 10,
   "metadata": {},
   "outputs": [
    {
     "name": "stdout",
     "output_type": "stream",
     "text": [
      "Neuroscience (or neurobiology) is the scientific study     of the nervous system. It is a multidisciplinary science that combines physiology, anatomy, molecular biology, developmental biology, cytology, computer science and mathematical modeling to understand the fundamental and emergent properties of neurons and neural circuits.\n"
     ]
    }
   ],
   "source": [
    "neuro = \"Neuroscience (or neurobiology) is the scientific study \\\n",
    "    of the nervous system.\"\n",
    "\n",
    "    # write the file\n",
    "with open('neuroscience.txt', mode=\"w\") as file:\n",
    "    file.write(neuro)\n",
    "\n",
    "neuro_cont = \" It is a multidisciplinary science that combines \\\n",
    "physiology, anatomy, molecular biology, developmental biology, \\\n",
    "cytology, computer science and mathematical modeling to \\\n",
    "understand the fundamental and emergent properties of neurons \\\n",
    "and neural circuits.\"\n",
    "\n",
    "# add new string to the file (append mode)\n",
    "with open('neuroscience.txt', mode=\"a\") as file:\n",
    "    file.write(neuro_cont)\n",
    "\n",
    "# read the file and save the output\n",
    "with open('neuroscience.txt', mode= \"r\") as file:\n",
    "    imported = file.read()\n",
    "\n",
    "print(imported)\n"
   ]
  },
  {
   "cell_type": "markdown",
   "metadata": {},
   "source": [
    "#### Ejercicio 2.\n",
    "Guarda guardar una lista, no una cadena. Esto se vuelve un poco complicado. Queremos guardar un archivo txt con cada valor de la lista en la nueva línea. Esto puede ser posible escribiendo cada valor por separado en un bucle `for` y agregando una cadena `\"\\n\" ` a cada valor, que es responsable de crear una nueva línea en el archivo.\n",
    "\n",
    "\n",
    "<center><img src=\"./imagenes/ejemploTXT.png\" width=\"200px\"/></center>\n",
    "\n",
    "\n",
    "\n",
    "Sin embargo, ahora, si volvemos a leer el archivo en Python usando el método read(), guardará el resultado como una cadena, que se verá así:\n",
    "\n",
    "Podemos usar el método `.readlines()` que devolverá la lista con las cadenas de cada línea de archivo. El único problema es que todos los valores tienen el signo de nueva línea \"\\n\" al final (['malignant\\n', 'malignant\\n', 'benign\\n', 'malignant\\n', 'malignant\\n', 'benigno\\n', 'benigno\\n', 'benigno\\n']). ¿Puedes arreglarlo?\n",
    "\n",
    "~~~python\n",
    "outcomes =  ['malignant', 'malignant', 'benign', 'malignant',\n",
    "             'malignant', 'benign', 'benign', 'benign']\n",
    "\n",
    "#Guarda el string a un archivo de texto\n",
    "with open('outcome.txt', mode='w') as file:\n",
    "    for val in outcomes:       # write each value from the list at a new line\n",
    "        file.write(val + \"\\n\") # adding \"\\n\" creates a new line in a file\n",
    "\n",
    "# importa el archivo a un string\n",
    "___ ___('___', mode=___) as ___:\n",
    "    outcomes_str = ___.___()\n",
    "\n",
    "# importar el archivo a una lista\n",
    "with open('outcome.txt', mode='r') as file:\n",
    "    outcomes_list = file.readlines()\n",
    "\n",
    "print(\"Imported string:\")\n",
    "print(outcomes_str)\n",
    "\n",
    "print(\"Imported list:\")\n",
    "print(outcomes_list)\n",
    "\n",
    "# clean the values in a list\n",
    "outcomes_list = list(___) \n",
    "print(\"\\nFixed list:\")\n",
    "print(outcomes_list)\n",
    "~~~"
   ]
  },
  {
   "cell_type": "code",
   "execution_count": 11,
   "metadata": {},
   "outputs": [
    {
     "name": "stdout",
     "output_type": "stream",
     "text": [
      "Imported string:\n",
      "malignant\n",
      "malignant\n",
      "benign\n",
      "malignant\n",
      "malignant\n",
      "benign\n",
      "benign\n",
      "benign\n",
      "\n",
      "Imported list:\n",
      "['malignant\\n', 'malignant\\n', 'benign\\n', 'malignant\\n', 'malignant\\n', 'benign\\n', 'benign\\n', 'benign\\n']\n",
      "\n",
      "Fixed list:\n",
      "['malignant', 'malignant', 'benign', 'malignant', 'malignant', 'benign', 'benign', 'benign']\n"
     ]
    }
   ],
   "source": [
    "outcomes =  ['malignant', 'malignant', 'benign', 'malignant',\n",
    "             'malignant', 'benign', 'benign', 'benign']\n",
    "\n",
    "#Guarda el string a un archivo de texto\n",
    "with open('outcome.txt', mode='w') as file:\n",
    "    for val in outcomes:       # write each value from the list at a new line\n",
    "        file.write(val + \"\\n\") # adding \"\\n\" creates a new line in a file\n",
    "\n",
    "# importa el archivo a un string\n",
    "with open('outcome.txt', mode=\"r\") as file:\n",
    "    outcomes_str = file.read()\n",
    "\n",
    "# importar el archivo a una lista\n",
    "with open('outcome.txt', mode='r') as file:\n",
    "    outcomes_list = file.readlines()\n",
    "\n",
    "print(\"Imported string:\")\n",
    "print(outcomes_str)\n",
    "\n",
    "print(\"Imported list:\")\n",
    "print(outcomes_list)\n",
    "\n",
    "# clean the values in a list\n",
    "outcomes_list = list(map(lambda x: x.replace(\"\\n\", \"\"), outcomes_list))\n",
    "print(\"\\nFixed list:\")\n",
    "print(outcomes_list)\n"
   ]
  },
  {
   "cell_type": "markdown",
   "metadata": {},
   "source": [
    "## Importar archivos `csv`\n",
    "\n",
    "- Un archivo de valores separados por comas (CSV) es un archivo de texto delimitado que usa una coma para separar los valores. \n",
    "- Cada línea del archivo es un registro de datos. Cada registro consta de uno o más campos, separados por comas. \n",
    "\n",
    "- El uso de la coma como separador de campo es el origen del nombre de este formato de archivo. Un archivo CSV generalmente almacena datos tabulares (números y texto) en texto sin formato, en cuyo caso cada línea tendrá la misma cantidad de campos.\n",
    "\n",
    "**Fuente:** [Wikipedia](https://en.wikipedia.org/wiki/Comma-separated_values)\n",
    "\n",
    "\n",
    "#### Lectura de archivos CSV con `numpy`\n"
   ]
  },
  {
   "cell_type": "code",
   "execution_count": null,
   "metadata": {},
   "outputs": [],
   "source": [
    "import numpy as np\n",
    "frmi_smpl = np.loadtxt(fname=\"fmri_sample.csv\", delimiter=\",\")\n",
    "frmi_smpl.shape"
   ]
  },
  {
   "cell_type": "markdown",
   "metadata": {},
   "source": [
    "#### Escritura de archivos `CSV` con `numpy`"
   ]
  },
  {
   "cell_type": "code",
   "execution_count": null,
   "metadata": {},
   "outputs": [],
   "source": [
    "np.savetxt(fname=\"one_subject.csv\", X=frmi_smpl[0,:], delimiter=\",\")"
   ]
  },
  {
   "cell_type": "markdown",
   "metadata": {},
   "source": [
    "#### Lectura de archivos `CSV/EXCEL` con `pandas` (1)"
   ]
  },
  {
   "cell_type": "code",
   "execution_count": null,
   "metadata": {},
   "outputs": [],
   "source": [
    "oasis_df = pd.read_csv(filepath_or_buffer=\"oasis_cross-sectional.csv\", sep=\",\") # CSV files\n",
    "display(oasis_df.head())"
   ]
  },
  {
   "cell_type": "code",
   "execution_count": null,
   "metadata": {},
   "outputs": [],
   "source": [
    "oasis_df = pd.read_excel(io=\"oasis_cross-sectional.csv\", sheet_name=0) # Excel files\n",
    "display(oasis_df.head())"
   ]
  },
  {
   "cell_type": "markdown",
   "metadata": {},
   "source": [
    "#### Lectura de archivos `CSV/EXCEL` con `pandas` (2)\n",
    "- URL que contenga el archivo\n"
   ]
  },
  {
   "cell_type": "code",
   "execution_count": null,
   "metadata": {},
   "outputs": [],
   "source": [
    "URL = \"https://raw.githubusercontent.com/ruslan-kl/py-for-neuro/binder/exercises/data/oasis_cross-sectional.csv\"\n",
    "dementia_df = pd.read_csv(filepath_or_buffer=URL)"
   ]
  },
  {
   "cell_type": "markdown",
   "metadata": {},
   "source": [
    "- Archivo comprimido"
   ]
  },
  {
   "cell_type": "markdown",
   "metadata": {},
   "source": [
    "dementia_df = pd.read_csv(filepath_or_buffer=\"oasis_cross-sectional.zip\")\n"
   ]
  },
  {
   "cell_type": "code",
   "execution_count": null,
   "metadata": {},
   "outputs": [],
   "source": [
    "dementia_df.to_csv(path_or_buf=\"dementia_df.csv\", sep=\",\", index=True) # CSV file\n",
    "\n",
    "dementia_df.to_excel( # Excel file\n",
    "    excel_writer=\"dementia_df.xslx\",\n",
    "    sheet_name='Main Data',\n",
    "    index=False)"
   ]
  },
  {
   "cell_type": "markdown",
   "metadata": {},
   "source": [
    "#### Ejercicio #3\n",
    "Ejercicio. conjunto de datos de resonancia magnética funcional\n",
    "- Cargue los datos del experimento fMRI. Ruta al archivo \"ejercicios/datos/fmri_datos.csv\". Tenga en cuenta que las columnas de un archivo están separadas por `;`.\n",
    "- Cree un nuevo DataFrame parietal_df con observaciones de la región parietal (`df[\"region\"] == \"parietal\"`);\n",
    "- Guarde el marco de datos resultante como un archivo de Excel.\n",
    "\n",
    "~~~python\n",
    "import pandas as pd\n",
    "\n",
    "# Lee el archivo\n",
    "df = pd.___(___)\n",
    "display(df.head())\n",
    "\n",
    "# Utiliza la región parietal\n",
    "parietal_df = ___\n",
    "# Guarda la información como un archiv Excel\n",
    "___.___(\"parietal_sample.xlsx\")\n",
    "~~~"
   ]
  },
  {
   "cell_type": "markdown",
   "metadata": {},
   "source": [
    "## Importar archivos `mat`\n"
   ]
  },
  {
   "cell_type": "markdown",
   "metadata": {},
   "source": [
    "- MATLAB es un lenguaje de programación multiparadigma patentado y un entorno de computación numérica desarrollado por MathWorks. MATLAB permite la manipulación de matrices, el trazado de funciones y datos, la implementación de algoritmos, la creación de interfaces de usuario y la interfaz con programas escritos en otros lenguajes.\n",
    "\n",
    "- Podemos cargar archivos `MAT` en Python con la ayuda del paquete `SciPy`. Estamos interesados en la función `loadmat()` dentro del módulo `io`."
   ]
  },
  {
   "cell_type": "code",
   "execution_count": null,
   "metadata": {},
   "outputs": [],
   "source": [
    "from scipy.io import loadmat\n",
    "h1_data = loadmat(file_name=\"H1_neuron.mat\", squeeze_me=True)\n",
    "h1_data"
   ]
  },
  {
   "cell_type": "markdown",
   "metadata": {},
   "source": [
    "La función `squeeze_me` es responsable de squeezing las dimensiones de la matriz unitaria. Por ejemplo, si la variable en  MATLAB se almacenó en una forma (5,1,1), si establecemos establecer squeeze_me=True la importará con la forma (5,) a Python.\n",
    "\n",
    "El objeto resultante es un diccionario. Cada clave representa una variable guardada de MATLAB. Además, hay tres claves adicionales con la información del archivo. rho es un vector que da la secuencia de spikes de eventos o no eventos en los tiempos muestreados (cada 2 ms). Cuando un elemento de rho es uno, esto indica la presencia de un spike en el momento correspondiente, mientras que un valor cero indica que no hay pico. La variable stim da la secuencia de valores de estímulo en los tiempos muestreados."
   ]
  },
  {
   "cell_type": "markdown",
   "metadata": {},
   "source": [
    "#### Ejercicio #4\n",
    " Tasa de disparo de la neurona H1\n",
    "\n",
    "- Cargue en el archivo MAT H1_neuron.mat que contiene datos de la respuesta de una neurona H1 de mosca a un estímulo de movimiento visual de ruido blanco aproximado. Ruta al archivo: \"path/datos/H1_neuron.mat\";\n",
    "- Haga un gráfico de los valores de un estímulo (gráfico de líneas) y agregue líneas verticales para esos puntos de tiempo cuando ocurrió el pico. Use solo las primeras 250 observaciones para esta gráfica.\n",
    "\n",
    "~~~python\n",
    "from scipy.io import loadmat\n",
    "import matplotlib.pyplot as plt\n",
    "import numpy as np\n",
    "\n",
    "# import the file\n",
    "h1_data = ___(\"path/data/H1_neuron.mat\", squeeze_me=True)\n",
    "\n",
    "# amount of timepoints to keep\n",
    "n = 250\n",
    "# slice of an `rho` array\n",
    "spikes = ___\n",
    "# slice of an `stim` array\n",
    "stimulus = ___\n",
    "# time points for the slice\n",
    "timepoints = ___\n",
    "# select only those when spike occurred\n",
    "timepoints = ___\n",
    "\n",
    "plt.figure(figsize=(10,5), facecolor=\"white\")\n",
    "plt.vlines(\n",
    "    x=timepoints,        # time points when spike occurred\n",
    "    ymin=stimulus.min(), # lower end of a line\n",
    "    ymax=stimulus.max(), # upper end of a line\n",
    "    linewidth=1,\n",
    "    label=\"Spike\")\n",
    "# plot stimulus values\n",
    "plt.plot(stimulus, label=\"Stimulus\")\n",
    "plt.legend()\n",
    "plt.title(\"Fly H1 neuron response to\\napproximate white-noise visual motion stimulus\")\n",
    "plt.xlabel('Time step')\n",
    "plt.ylabel('Stimulus value, mV')\n",
    "plt.show()\n",
    "~~~"
   ]
  },
  {
   "cell_type": "markdown",
   "metadata": {},
   "source": [
    "## Importar archivos `JSON`\n",
    "\n",
    "- JSON (Notación de objetos de JavaScript) es un formato de archivo estándar abierto y un formato de intercambio de datos que utiliza texto legible por humanos para almacenar y transmitir objetos de datos que consisten en pares de valor de atributo y tipos de datos de matriz (o cualquier otro valor serializable).\n",
    "-  Es un formato de datos muy común, con una amplia gama de aplicaciones.\n",
    "\n",
    "**Fuente** [Wikipedia](https://en.wikipedia.org/wiki/JSON)\n",
    "\n",
    "Los archivos JSON son útiles para la especificación de parámetros. Por ejemplo, todos los conjuntos de datos en el sitio web de OpenNeuro tienen un archivo JSON con la descripción. Ejemplo de dicho archivo de datos de Pavlov, Y. G. y Kotchoubey, B. (2021):\n",
    "\n",
    "\n",
    "<center><img src=\"./imagenes/JSON_image.png\" width=\"400px\"/></center>"
   ]
  },
  {
   "cell_type": "markdown",
   "metadata": {},
   "source": [
    "La estructura del archivo siempre tiene un formato de `\"key-value\"`. Para este ejemplo, tenemos parámetros de conjunto de datos como nombre, autores y versión. Los valores pueden ser cadenas, listas u otro objeto clave-valor anidado."
   ]
  },
  {
   "cell_type": "markdown",
   "metadata": {},
   "source": [
    "~~~python\n",
    "import json\n",
    "#Lectura\n",
    "with open(file=\"path/to/the/file.json\", mode=\"r\") as file:\n",
    "    output = json.load(fp=file)\n",
    "#Escritura\n",
    "with open(file=\"path/to/the/file.json\", mode=\"w\") as file:\n",
    "    json.dump(obj=<object to write>, fp=file)\n",
    "~~~\n",
    "\n",
    "[Documentación JSON](https://docs.python.org/3/library/json.html)"
   ]
  },
  {
   "cell_type": "markdown",
   "metadata": {},
   "source": [
    "#### Ejercicio 5\n",
    "Guarde un diccionario como un archivo JSON \"dataset_description.json\".\n",
    "\n",
    "- Lea el archivo que acaba de guardar.\n",
    "- Guarde el nombre del primer autor en una variable first_author_name accediendo a él a través de la variable de salida (no lo escriba simplemente).\n",
    "\n",
    "Tenga en cuenta que en este ejemplo el valor de la clave `Authors` es una lista con dos diccionarios.\n",
    "\n",
    "~~~python\n",
    "import json\n",
    "import pprint\n",
    "\n",
    "dataset_description = {\n",
    "    \"Name\": \"Our cool data set\",\n",
    "    \"Authors\": [\n",
    "        {\n",
    "            \"Name\": \"Bob\",\n",
    "            \"Institution\": \"X\"\n",
    "        },\n",
    "        {\n",
    "            \"Name\": \"Ben\",\n",
    "            \"Institution\": \"Y\"\n",
    "        }\n",
    "    ],\n",
    "    \"Version\": \"0.0.1\"\n",
    "}\n",
    "\n",
    "# write JSON file\n",
    "with open(file=\"dataset_description.json\", mode=___) as file:\n",
    "    json.dump(obj=dataset_description, fp=file)\n",
    "\n",
    "# read JSON file\n",
    "____:\n",
    "    output = json.load(fp=___)\n",
    "\n",
    "pprint.pprint(output)\n",
    "\n",
    "# get the name of the first author\n",
    "first_author_name = ___\n",
    "print(f\"\\nFirst author is {first_author_name}\")\n",
    "~~~"
   ]
  },
  {
   "cell_type": "markdown",
   "metadata": {},
   "source": [
    "## API Requests\n",
    "\n",
    "\n",
    "<center><img src=\"./imagenes/API.png\" width=\"500px\"/></center>\n",
    "\n",
    "**Fuente:** [DEV comunity](https://dev.to/austinbrownopspark/an-overview-of-apis-and-rest-1093)\n",
    "\n",
    "- API significa Interfaz de programación de aplicaciones. En pocas palabras, es un conjunto de protocolos para permitir la interacción entre el cliente y el servidor (base de datos).\n",
    "\n",
    "- Piensa en Twitter. Si desea obtener los datos sobre sus tweets o me gusta enviados, no hay forma de descargar un archivo CSV con sus datos. Sin embargo, existe una API oficial que le permite conectarse a la base de datos de Twitter y recuperar los datos.\n",
    "\n",
    "- Creamos una solicitud, que tiene 4 métodos principales:\n",
    "    - `GET`\n",
    "    - `POST`\n",
    "    - `PUT`\n",
    "    - `DELETE`\n",
    "\n",
    "- El servidor nos retorna los datos como respuesta, generalmente en formato JSON o XML.\n",
    "\n",
    "**Fuente:** [Más sobre APIs](https://www.analyticsvidhya.com/blog/2016/11/an-introduction-to-apis-application-programming-interfaces-5-apis-a-data-scientist-must-know/)"
   ]
  },
  {
   "cell_type": "markdown",
   "metadata": {},
   "source": [
    "## Elementos básicos de una API\n",
    "\n",
    "- Acceso: ¿tienes permiso para acceder?\n",
    "- Solicitud: ¿Qué quieres conseguir?\n",
    "- Respuesta: los datos resultantes\n",
    "\n",
    "- No todas las API están disponibles públicamente. Algunas API requieren algún tipo de autenticación. Puede ser una clave que demuestre que tiene `acceso` al servidor.\n",
    "\n",
    "- Las `solicitudes` generalmente se realizan por URL, donde puede especificar algunos parámetros adicionales. Por ejemplo, los `parámetros` podrían ser las fechas de las que desea obtener sus tweets.\n",
    "\n",
    "- Y finalmente obtienes los datos resultantes como `respuesta`."
   ]
  },
  {
   "cell_type": "markdown",
   "metadata": {},
   "source": [
    "## API abiertas desde el espacio\n",
    "\n",
    "- Hay varios paquetes para manejar solicitudes en Python, como httplib, urllib2, solicitudes. Aquí nos centraremos sólo en el último.\n",
    "\n",
    "- Esta es ejemplo simple de una API para devolver la ubicación actual de la ISS (Estación espacial internacional). Devuelve la latitud y longitud actuales de la estación espacial con una marca de tiempo de Unix ([timestamp Unix](https://es.wikipedia.org/wiki/Tiempo_Unix)) para el tiempo en que la ubicación fue válida. Esta API no acepta entradas. Según la documentación, la URL de la API es: http://api.open-notify.org/iss-now.json.\n",
    "\n",
    "- Después de `OBTENER(GET)` la respuesta de esa URL, podemos verificar su estado para asegurarnos de que todo esté bien.\n",
    "\n",
    "\n",
    "\n",
    "Open Notify es un proyecto de código abierto para proporcionar una interfaz de programación simple para algunos de los increíbles datos de la NASA.\n",
    "\n",
    "[Open Notify website](http://open-notify.org/) || [SS Current Location API](http://open-notify.org/Open-Notify-API/ISS-Location-Now/)\n"
   ]
  },
  {
   "cell_type": "code",
   "execution_count": 19,
   "metadata": {},
   "outputs": [
    {
     "name": "stdout",
     "output_type": "stream",
     "text": [
      "200\n"
     ]
    }
   ],
   "source": [
    "import requests\n",
    "\n",
    "URL = \"http://api.open-notify.org/iss-now.json\"\n",
    "response = requests.get(URL)\n",
    "print(response.status_code)"
   ]
  },
  {
   "cell_type": "markdown",
   "metadata": {},
   "source": [
    "<center><img src=\"./imagenes/JSON_status.png\" width=\"700px\"/></center>\n",
    "\n",
    "De forma general, algunos de los códigos se presentan aquí. La idea principal es:\n",
    "\n",
    "- Los códigos 2xx indican éxito;\n",
    "- Los códigos 3xx indican redirección;\n",
    "- Los códigos 4xx indican un error por parte del cliente;\n",
    "- Los códigos 5xx indican un error del lado del servidor.\n",
    "\n",
    "[Más sobre status de los códgios](https://developer.mozilla.org/en-US/docs/Web/HTTP/Status)\n",
    "\n",
    "Después de que vimos que el código de estado era `200` (lo que significa que la solicitud se cumplió), podemos extraer los datos resultantes. Hay un atributo `.content` para extraer los datos sin procesar como una cadena binaria (observe la letra `b` delante de la cadena), que no es realmente útil en ese caso. Sin embargo, sabemos que la API devuelve datos como un archivo JSON (lo sabemos por la documentación de la API y hay una parte `.json` en la URL de la API).\n",
    "\n",
    "Hay un método .json() para convertir datos sin procesar en el diccionario de Python.\n"
   ]
  },
  {
   "cell_type": "code",
   "execution_count": 20,
   "metadata": {},
   "outputs": [
    {
     "name": "stdout",
     "output_type": "stream",
     "text": [
      "b'{\"iss_position\": {\"longitude\": \"5.0791\", \"latitude\": \"48.3021\"}, \"message\": \"success\", \"timestamp\": 1665752254}'\n"
     ]
    }
   ],
   "source": [
    "print(response.content)\n"
   ]
  },
  {
   "cell_type": "code",
   "execution_count": 21,
   "metadata": {},
   "outputs": [
    {
     "name": "stdout",
     "output_type": "stream",
     "text": [
      "{'iss_position': {'longitude': '5.0791', 'latitude': '48.3021'}, 'message': 'success', 'timestamp': 1665752254}\n"
     ]
    }
   ],
   "source": [
    "a = response.json()\n",
    "print(a)"
   ]
  },
  {
   "cell_type": "code",
   "execution_count": 22,
   "metadata": {},
   "outputs": [
    {
     "name": "stdout",
     "output_type": "stream",
     "text": [
      "{'iss_position': {'longitude': '5.8557', 'latitude': '48.0899'}, 'message': 'success', 'timestamp': 1665752263}\n"
     ]
    },
    {
     "data": {
      "application/vnd.plotly.v1+json": {
       "config": {
        "plotlyServerURL": "https://plot.ly"
       },
       "data": [
        {
         "lat": [
          "48.0899"
         ],
         "lon": [
          "5.8557"
         ],
         "marker": {
          "color": "red"
         },
         "mode": "markers",
         "text": [
          "ISS is over here!"
         ],
         "type": "scattergeo"
        }
       ],
       "layout": {
        "geo": {
         "scope": "world"
        },
        "template": {
         "data": {
          "bar": [
           {
            "error_x": {
             "color": "#2a3f5f"
            },
            "error_y": {
             "color": "#2a3f5f"
            },
            "marker": {
             "line": {
              "color": "#E5ECF6",
              "width": 0.5
             },
             "pattern": {
              "fillmode": "overlay",
              "size": 10,
              "solidity": 0.2
             }
            },
            "type": "bar"
           }
          ],
          "barpolar": [
           {
            "marker": {
             "line": {
              "color": "#E5ECF6",
              "width": 0.5
             },
             "pattern": {
              "fillmode": "overlay",
              "size": 10,
              "solidity": 0.2
             }
            },
            "type": "barpolar"
           }
          ],
          "carpet": [
           {
            "aaxis": {
             "endlinecolor": "#2a3f5f",
             "gridcolor": "white",
             "linecolor": "white",
             "minorgridcolor": "white",
             "startlinecolor": "#2a3f5f"
            },
            "baxis": {
             "endlinecolor": "#2a3f5f",
             "gridcolor": "white",
             "linecolor": "white",
             "minorgridcolor": "white",
             "startlinecolor": "#2a3f5f"
            },
            "type": "carpet"
           }
          ],
          "choropleth": [
           {
            "colorbar": {
             "outlinewidth": 0,
             "ticks": ""
            },
            "type": "choropleth"
           }
          ],
          "contour": [
           {
            "colorbar": {
             "outlinewidth": 0,
             "ticks": ""
            },
            "colorscale": [
             [
              0,
              "#0d0887"
             ],
             [
              0.1111111111111111,
              "#46039f"
             ],
             [
              0.2222222222222222,
              "#7201a8"
             ],
             [
              0.3333333333333333,
              "#9c179e"
             ],
             [
              0.4444444444444444,
              "#bd3786"
             ],
             [
              0.5555555555555556,
              "#d8576b"
             ],
             [
              0.6666666666666666,
              "#ed7953"
             ],
             [
              0.7777777777777778,
              "#fb9f3a"
             ],
             [
              0.8888888888888888,
              "#fdca26"
             ],
             [
              1,
              "#f0f921"
             ]
            ],
            "type": "contour"
           }
          ],
          "contourcarpet": [
           {
            "colorbar": {
             "outlinewidth": 0,
             "ticks": ""
            },
            "type": "contourcarpet"
           }
          ],
          "heatmap": [
           {
            "colorbar": {
             "outlinewidth": 0,
             "ticks": ""
            },
            "colorscale": [
             [
              0,
              "#0d0887"
             ],
             [
              0.1111111111111111,
              "#46039f"
             ],
             [
              0.2222222222222222,
              "#7201a8"
             ],
             [
              0.3333333333333333,
              "#9c179e"
             ],
             [
              0.4444444444444444,
              "#bd3786"
             ],
             [
              0.5555555555555556,
              "#d8576b"
             ],
             [
              0.6666666666666666,
              "#ed7953"
             ],
             [
              0.7777777777777778,
              "#fb9f3a"
             ],
             [
              0.8888888888888888,
              "#fdca26"
             ],
             [
              1,
              "#f0f921"
             ]
            ],
            "type": "heatmap"
           }
          ],
          "heatmapgl": [
           {
            "colorbar": {
             "outlinewidth": 0,
             "ticks": ""
            },
            "colorscale": [
             [
              0,
              "#0d0887"
             ],
             [
              0.1111111111111111,
              "#46039f"
             ],
             [
              0.2222222222222222,
              "#7201a8"
             ],
             [
              0.3333333333333333,
              "#9c179e"
             ],
             [
              0.4444444444444444,
              "#bd3786"
             ],
             [
              0.5555555555555556,
              "#d8576b"
             ],
             [
              0.6666666666666666,
              "#ed7953"
             ],
             [
              0.7777777777777778,
              "#fb9f3a"
             ],
             [
              0.8888888888888888,
              "#fdca26"
             ],
             [
              1,
              "#f0f921"
             ]
            ],
            "type": "heatmapgl"
           }
          ],
          "histogram": [
           {
            "marker": {
             "pattern": {
              "fillmode": "overlay",
              "size": 10,
              "solidity": 0.2
             }
            },
            "type": "histogram"
           }
          ],
          "histogram2d": [
           {
            "colorbar": {
             "outlinewidth": 0,
             "ticks": ""
            },
            "colorscale": [
             [
              0,
              "#0d0887"
             ],
             [
              0.1111111111111111,
              "#46039f"
             ],
             [
              0.2222222222222222,
              "#7201a8"
             ],
             [
              0.3333333333333333,
              "#9c179e"
             ],
             [
              0.4444444444444444,
              "#bd3786"
             ],
             [
              0.5555555555555556,
              "#d8576b"
             ],
             [
              0.6666666666666666,
              "#ed7953"
             ],
             [
              0.7777777777777778,
              "#fb9f3a"
             ],
             [
              0.8888888888888888,
              "#fdca26"
             ],
             [
              1,
              "#f0f921"
             ]
            ],
            "type": "histogram2d"
           }
          ],
          "histogram2dcontour": [
           {
            "colorbar": {
             "outlinewidth": 0,
             "ticks": ""
            },
            "colorscale": [
             [
              0,
              "#0d0887"
             ],
             [
              0.1111111111111111,
              "#46039f"
             ],
             [
              0.2222222222222222,
              "#7201a8"
             ],
             [
              0.3333333333333333,
              "#9c179e"
             ],
             [
              0.4444444444444444,
              "#bd3786"
             ],
             [
              0.5555555555555556,
              "#d8576b"
             ],
             [
              0.6666666666666666,
              "#ed7953"
             ],
             [
              0.7777777777777778,
              "#fb9f3a"
             ],
             [
              0.8888888888888888,
              "#fdca26"
             ],
             [
              1,
              "#f0f921"
             ]
            ],
            "type": "histogram2dcontour"
           }
          ],
          "mesh3d": [
           {
            "colorbar": {
             "outlinewidth": 0,
             "ticks": ""
            },
            "type": "mesh3d"
           }
          ],
          "parcoords": [
           {
            "line": {
             "colorbar": {
              "outlinewidth": 0,
              "ticks": ""
             }
            },
            "type": "parcoords"
           }
          ],
          "pie": [
           {
            "automargin": true,
            "type": "pie"
           }
          ],
          "scatter": [
           {
            "marker": {
             "colorbar": {
              "outlinewidth": 0,
              "ticks": ""
             }
            },
            "type": "scatter"
           }
          ],
          "scatter3d": [
           {
            "line": {
             "colorbar": {
              "outlinewidth": 0,
              "ticks": ""
             }
            },
            "marker": {
             "colorbar": {
              "outlinewidth": 0,
              "ticks": ""
             }
            },
            "type": "scatter3d"
           }
          ],
          "scattercarpet": [
           {
            "marker": {
             "colorbar": {
              "outlinewidth": 0,
              "ticks": ""
             }
            },
            "type": "scattercarpet"
           }
          ],
          "scattergeo": [
           {
            "marker": {
             "colorbar": {
              "outlinewidth": 0,
              "ticks": ""
             }
            },
            "type": "scattergeo"
           }
          ],
          "scattergl": [
           {
            "marker": {
             "colorbar": {
              "outlinewidth": 0,
              "ticks": ""
             }
            },
            "type": "scattergl"
           }
          ],
          "scattermapbox": [
           {
            "marker": {
             "colorbar": {
              "outlinewidth": 0,
              "ticks": ""
             }
            },
            "type": "scattermapbox"
           }
          ],
          "scatterpolar": [
           {
            "marker": {
             "colorbar": {
              "outlinewidth": 0,
              "ticks": ""
             }
            },
            "type": "scatterpolar"
           }
          ],
          "scatterpolargl": [
           {
            "marker": {
             "colorbar": {
              "outlinewidth": 0,
              "ticks": ""
             }
            },
            "type": "scatterpolargl"
           }
          ],
          "scatterternary": [
           {
            "marker": {
             "colorbar": {
              "outlinewidth": 0,
              "ticks": ""
             }
            },
            "type": "scatterternary"
           }
          ],
          "surface": [
           {
            "colorbar": {
             "outlinewidth": 0,
             "ticks": ""
            },
            "colorscale": [
             [
              0,
              "#0d0887"
             ],
             [
              0.1111111111111111,
              "#46039f"
             ],
             [
              0.2222222222222222,
              "#7201a8"
             ],
             [
              0.3333333333333333,
              "#9c179e"
             ],
             [
              0.4444444444444444,
              "#bd3786"
             ],
             [
              0.5555555555555556,
              "#d8576b"
             ],
             [
              0.6666666666666666,
              "#ed7953"
             ],
             [
              0.7777777777777778,
              "#fb9f3a"
             ],
             [
              0.8888888888888888,
              "#fdca26"
             ],
             [
              1,
              "#f0f921"
             ]
            ],
            "type": "surface"
           }
          ],
          "table": [
           {
            "cells": {
             "fill": {
              "color": "#EBF0F8"
             },
             "line": {
              "color": "white"
             }
            },
            "header": {
             "fill": {
              "color": "#C8D4E3"
             },
             "line": {
              "color": "white"
             }
            },
            "type": "table"
           }
          ]
         },
         "layout": {
          "annotationdefaults": {
           "arrowcolor": "#2a3f5f",
           "arrowhead": 0,
           "arrowwidth": 1
          },
          "autotypenumbers": "strict",
          "coloraxis": {
           "colorbar": {
            "outlinewidth": 0,
            "ticks": ""
           }
          },
          "colorscale": {
           "diverging": [
            [
             0,
             "#8e0152"
            ],
            [
             0.1,
             "#c51b7d"
            ],
            [
             0.2,
             "#de77ae"
            ],
            [
             0.3,
             "#f1b6da"
            ],
            [
             0.4,
             "#fde0ef"
            ],
            [
             0.5,
             "#f7f7f7"
            ],
            [
             0.6,
             "#e6f5d0"
            ],
            [
             0.7,
             "#b8e186"
            ],
            [
             0.8,
             "#7fbc41"
            ],
            [
             0.9,
             "#4d9221"
            ],
            [
             1,
             "#276419"
            ]
           ],
           "sequential": [
            [
             0,
             "#0d0887"
            ],
            [
             0.1111111111111111,
             "#46039f"
            ],
            [
             0.2222222222222222,
             "#7201a8"
            ],
            [
             0.3333333333333333,
             "#9c179e"
            ],
            [
             0.4444444444444444,
             "#bd3786"
            ],
            [
             0.5555555555555556,
             "#d8576b"
            ],
            [
             0.6666666666666666,
             "#ed7953"
            ],
            [
             0.7777777777777778,
             "#fb9f3a"
            ],
            [
             0.8888888888888888,
             "#fdca26"
            ],
            [
             1,
             "#f0f921"
            ]
           ],
           "sequentialminus": [
            [
             0,
             "#0d0887"
            ],
            [
             0.1111111111111111,
             "#46039f"
            ],
            [
             0.2222222222222222,
             "#7201a8"
            ],
            [
             0.3333333333333333,
             "#9c179e"
            ],
            [
             0.4444444444444444,
             "#bd3786"
            ],
            [
             0.5555555555555556,
             "#d8576b"
            ],
            [
             0.6666666666666666,
             "#ed7953"
            ],
            [
             0.7777777777777778,
             "#fb9f3a"
            ],
            [
             0.8888888888888888,
             "#fdca26"
            ],
            [
             1,
             "#f0f921"
            ]
           ]
          },
          "colorway": [
           "#636efa",
           "#EF553B",
           "#00cc96",
           "#ab63fa",
           "#FFA15A",
           "#19d3f3",
           "#FF6692",
           "#B6E880",
           "#FF97FF",
           "#FECB52"
          ],
          "font": {
           "color": "#2a3f5f"
          },
          "geo": {
           "bgcolor": "white",
           "lakecolor": "white",
           "landcolor": "#E5ECF6",
           "showlakes": true,
           "showland": true,
           "subunitcolor": "white"
          },
          "hoverlabel": {
           "align": "left"
          },
          "hovermode": "closest",
          "mapbox": {
           "style": "light"
          },
          "paper_bgcolor": "white",
          "plot_bgcolor": "#E5ECF6",
          "polar": {
           "angularaxis": {
            "gridcolor": "white",
            "linecolor": "white",
            "ticks": ""
           },
           "bgcolor": "#E5ECF6",
           "radialaxis": {
            "gridcolor": "white",
            "linecolor": "white",
            "ticks": ""
           }
          },
          "scene": {
           "xaxis": {
            "backgroundcolor": "#E5ECF6",
            "gridcolor": "white",
            "gridwidth": 2,
            "linecolor": "white",
            "showbackground": true,
            "ticks": "",
            "zerolinecolor": "white"
           },
           "yaxis": {
            "backgroundcolor": "#E5ECF6",
            "gridcolor": "white",
            "gridwidth": 2,
            "linecolor": "white",
            "showbackground": true,
            "ticks": "",
            "zerolinecolor": "white"
           },
           "zaxis": {
            "backgroundcolor": "#E5ECF6",
            "gridcolor": "white",
            "gridwidth": 2,
            "linecolor": "white",
            "showbackground": true,
            "ticks": "",
            "zerolinecolor": "white"
           }
          },
          "shapedefaults": {
           "line": {
            "color": "#2a3f5f"
           }
          },
          "ternary": {
           "aaxis": {
            "gridcolor": "white",
            "linecolor": "white",
            "ticks": ""
           },
           "baxis": {
            "gridcolor": "white",
            "linecolor": "white",
            "ticks": ""
           },
           "bgcolor": "#E5ECF6",
           "caxis": {
            "gridcolor": "white",
            "linecolor": "white",
            "ticks": ""
           }
          },
          "title": {
           "x": 0.05
          },
          "xaxis": {
           "automargin": true,
           "gridcolor": "white",
           "linecolor": "white",
           "ticks": "",
           "title": {
            "standoff": 15
           },
           "zerolinecolor": "white",
           "zerolinewidth": 2
          },
          "yaxis": {
           "automargin": true,
           "gridcolor": "white",
           "linecolor": "white",
           "ticks": "",
           "title": {
            "standoff": 15
           },
           "zerolinecolor": "white",
           "zerolinewidth": 2
          }
         }
        },
        "title": {
         "text": "<b>The Location of ISS @2022-10-14 07:57:43</b>"
        }
       }
      }
     },
     "metadata": {},
     "output_type": "display_data"
    }
   ],
   "source": [
    "import requests\n",
    "import plotly.graph_objects as go\n",
    "from datetime import datetime\n",
    "\n",
    "URL = \"http://api.open-notify.org/iss-now.json\"\n",
    "response = requests.get(URL)\n",
    "iss_data = response.json()\n",
    "print(response.json())\n",
    "fig = go.Figure(\n",
    "    data=go.Scattergeo(\n",
    "        lon=[iss_data['iss_position']['longitude']],\n",
    "        lat=[iss_data['iss_position']['latitude']],\n",
    "        text=['ISS is over here!'],\n",
    "        mode='markers',\n",
    "        marker=dict(color='red')))\n",
    "fig.update_layout(\n",
    "    title = f'<b>The Location of ISS @{datetime.fromtimestamp(iss_data[\"timestamp\"])}</b>',\n",
    "    geo_scope='world')\n",
    "fig.show()"
   ]
  },
  {
   "cell_type": "markdown",
   "metadata": {},
   "source": [
    "La estación espacial internacional (ISS) es un puesto de avanzada orbital que da vueltas muy por encima de nuestras cabezas. A veces es por encima de la cabeza, pero ¿cuándo?. Depende de tu ubicación. Dada una ubicación en la Tierra (latitud, longitud y altitud), la API de tiempos de paso de la Estación Espacial Internacional calculará las próximas n veces que la ISS estará sobrevolando.\n",
    "\n",
    "Esta API tiene un conjunto de parámetros que se pueden agregar a la URL para modificar la salida:\n",
    "\n",
    "lat: la latitud del lugar para predecir pases, requerido;\n",
    "lon: la longitud del lugar para predecir pases, requerido;\n",
    "alt: la altitud del lugar para predecir pases;\n",
    "n: el número de pases a devolver.\n",
    "Puede especificar estos parámetros en un diccionario separado y pasarlo al argumento params en la función `request.get()`. La función pondrá estos parámetros en una URL después del ? signo separado por &. O puede agregar manualmente estos valores en la URL sin el argumento params."
   ]
  },
  {
   "cell_type": "code",
   "execution_count": 24,
   "metadata": {},
   "outputs": [
    {
     "name": "stdout",
     "output_type": "stream",
     "text": [
      "404\n"
     ]
    }
   ],
   "source": [
    "import requests\n",
    "\n",
    "URL = \"http://api.open-notify.org/iss-pass.json\"\n",
    "\n",
    "parameters = {\n",
    "    \"lat\": 52.1205, # Magdeburg, DE\n",
    "    \"lon\": 11.6276,\n",
    "    \"n\": 3}\n",
    "\n",
    "response = requests.get(URL, params=parameters)\n",
    "print(response.status_code)"
   ]
  },
  {
   "cell_type": "markdown",
   "metadata": {},
   "source": [
    "#### Ejercicio #6 \n",
    "Abrir API desde el espacio\n",
    "Open Notify es un proyecto de código abierto para proporcionar una interfaz de programación simple para algunos de los increíbles datos de la NASA. Hago parte del trabajo para tomar datos sin procesar y convertirlos en API relacionadas con el espacio y las naves espaciales.\n",
    "\n",
    "Existe una API que permite obtener el número de personas en el espacio en este momento: Cuántas personas hay en el espacio ahora mismo. No hay autenticación para esta API, por lo que no necesitamos ninguna clave. Además, según la documentación, no podemos especificar ningún parámetro adicional.\n",
    "\n",
    "[Open Notify Website](http://open-notify.org/)\n",
    "\n",
    "API URL: http://api.open-notify.org/astros.json"
   ]
  },
  {
   "cell_type": "code",
   "execution_count": null,
   "metadata": {},
   "outputs": [],
   "source": [
    "# URL of an API request\n",
    "URL = ___\n",
    "# GET method\n",
    "response = requests.get(URL)\n",
    "# check the status code\n",
    "print(f\"Status code: {response.status_code}\")\n",
    "# convert result to the dictionary\n",
    "output = response.json()\n",
    "​\n",
    "# get all the names in a list\n",
    "names = []\n",
    "for person in ___:\n",
    "    names.___(___)\n",
    "​\n",
    "print(names)"
   ]
  },
  {
   "cell_type": "markdown",
   "metadata": {},
   "source": [
    "#### Ejercicio #7\n",
    "Allen Brain Map\n",
    "\n",
    "- El Instituto Allen para la Ciencia del Cerebro utiliza un enfoque único para generar datos, herramientas y conocimientos para que los investigadores exploren la complejidad biológica del cerebro de los mamíferos. Este portal brinda acceso a datos de alta calidad y aplicaciones basadas en la web creadas para el beneficio de la comunidad de investigación global.\n",
    "\n",
    "[Website](https://portal.brain-map.org/)\n",
    "\n",
    "- La API de descarga de imágenes [API](http://help.brain-map.org/display/api/Downloading+an+Image#DownloadinganImage-ImageDownloadService) ofrece imágenes bidimensionales completas y parciales presentadas en el sitio web Allen Brain Atlas. Algunas imágenes se pueden descargar con datos de expresión o proyección. También se pueden descargar los bloques de color y los datos de límites de las imágenes de glioblastoma.\n",
    "\n",
    "API URL: http://api.brain-map.org/api/v2/image_download/[SubImage.id]\n",
    "\n",
    "- Esta API devuelve una imagen, no un archivo JSON/XML y puede tomar varios parámetros, por ejemplo:"
   ]
  },
  {
   "cell_type": "markdown",
   "metadata": {},
   "source": [
    "- `quality:` integer, a calidad jpeg de la imagen devuelta. Debe ser un número entero desde 0, para la calidad más baja, hasta 100.\n",
    "- `downsample`: integer, número de veces para reducir la resolución de la imagen original. Por ejemplo, downsample=1 reduce a la mitad el número de píxeles de la imagen original, tanto horizontal como verticalmente..\n",
    "- `width:` integer,número de columnas en la imagen de salida, especificado en coordenadas de píxeles de resolución de nivel (nivel deseado).\n",
    "- `height:` integer, number of rows in the output image, specified in tier-resolution (desired tier) pixel coordinates\n",
    "\n",
    "\n",
    "Tu objetivo es:\n",
    "\n",
    "1. Obtenga la imagen para el sujeto ID 69750516.\n",
    "2. Actualice los parámetros de solicitud: configure la calidad al 50%, configure la reducción de muestra a 2, la imagen resultante debe tener el tamaño (5000, 5000)\n",
    "3. Imprima el código de estado y trace la imagen resultante."
   ]
  },
  {
   "cell_type": "code",
   "execution_count": null,
   "metadata": {},
   "outputs": [],
   "source": [
    "import io\n",
    "import numpy as np\n",
    "import matplotlib.pyplot as plt\n",
    "import requests\n",
    "from PIL import Image\n",
    "\n",
    "ID = ___ # subject ID\n",
    "# API URL\n",
    "URL = \"http://api.brain-map.org/api/v2/image_download/\"\n",
    "# additional parameters for request\n",
    "params = {\n",
    "    \"quality\": ___,\n",
    "    \"downsample\": ___,\n",
    "\t\"width\": ___,\n",
    "\t\"height\": ___\n",
    "\t}\n",
    "\n",
    "response = ___.___(___, ___=___)\n",
    "print(f\"Status code: {___}\")\n",
    "\n",
    "# convert result binary image to numpy array\n",
    "img = Image.open(io.BytesIO(response.content))\n",
    "img = np.asarray(img)\n",
    "\n",
    "# plot the image\n",
    "plt.figure(figsize=(7,7), facecolor=\"white\")\n",
    "plt.imshow(img)\n",
    "plt.axis(\"off\")\n",
    "plt.show()"
   ]
  },
  {
   "cell_type": "markdown",
   "metadata": {},
   "source": [
    "## Importar archivos pickled"
   ]
  },
  {
   "cell_type": "markdown",
   "metadata": {},
   "source": [
    "- Imagina que quieres compartir un diccionario con tu compañero de trabajo. Cuando el diccionario es relativamente \"simple\", puede simplemente copiar y pegar los valores en el chat o correo electrónico. Pero, ¿qué sucede si su diccionario contiene una matriz del experimento EEG con la forma (64,1000,100)? Esas son muchas observaciones para copiar. En tal caso, compartir un objeto como como un archivo `pickled` puede resultar útil.\n",
    "\n",
    "- El módulo `pickle` implementa protocolos binarios para serializar y deserializar una estructura de objeto de Python. `Pickling` es el proceso mediante el cual una jerarquía de objetos de Python se convierte en un flujo de bytes, y `Unpickling` es la operación inversa, mediante la cual un flujo de bytes (de un archivo binario o un objeto similar a bytes) se vuelve a convertir en una jerarquía de objetos. \n",
    "\n",
    "**Fuente:** [Documentación](https://docs.python.org/3/library/pickle.html)\n",
    "\n",
    "En palabras simples: puedes guardar casi cualquier Python en un archivo pickle para compartirlo o usarlo más tarde. Sin embargo, hay algunas  desventajas de los archivos `pickled`:\n",
    "\n",
    "El módulo `pickle` NO es seguro. \n",
    "Es solo para Python: los pickles no se pueden cargar en ningún otro lenguaje de programación (a diferencia de los archivos JSON).\n",
    "Para leer/escribir archivos pickle en Python usamos el paquete `pickle`."
   ]
  },
  {
   "cell_type": "code",
   "execution_count": null,
   "metadata": {},
   "outputs": [],
   "source": [
    "import pickle"
   ]
  },
  {
   "cell_type": "markdown",
   "metadata": {},
   "source": [
    "- Leer archivo\n",
    "~~~python\n",
    "with open(file=\"path/to/the/file.pickle\", mode=\"rb\") as file:\n",
    "    output = pickle.load(file=file)\n",
    "~~~"
   ]
  },
  {
   "cell_type": "markdown",
   "metadata": {},
   "source": [
    "- Escribir archivo\n",
    "~~~python\n",
    "with open(file=\"path/to/the/file.pickle\", mode=\"wb\") as file:\n",
    "    pickle.dump(obj=<object to write>, file=file)\n",
    "~~~"
   ]
  },
  {
   "cell_type": "markdown",
   "metadata": {},
   "source": [
    "#### Ejercicio 8\n",
    "- Cargue el conjunto de datos con datos de fMRI (\"path/datos/fmri_data.csv\"). El archivo CSV está separado por ”;“.\n",
    "\n",
    "- Cree un nuevo diccionario frmi con dos claves: \"parietal\" que contiene un DataFrame con observaciones solo de la región \n",
    "parietal y \"frontal\" que contiene un DataFrame con observaciones solo de la región frontal.\n",
    "\n",
    "- Guarde el diccionario resultante en el archivo pickle \"frmi_dict.pickle\".\n",
    "\n",
    "- Lea hacia atrás el archivo pickle resultante e imprima las primeras 5 filas de cada uno de los DataFrames en un diccionario.\n",
    "\n",
    "\n",
    "~~~python\n",
    "import pandas as pd\n",
    "\n",
    "# read in the fMRI file\n",
    "fmri_df = pd.read_csv(___)\n",
    "\n",
    "# split into two DataFrames according to the region\n",
    "frmi = {\n",
    "    \"parietal\": ___,\n",
    "    \"frontal\": ___\n",
    "}\n",
    "\n",
    "# write the resulting dictionary as pickle file\n",
    "with open(file=\"frmi_dict.pickle\", mode=\"wb\") as ___:\n",
    "    pickle.dump(obj=___, file=___)\n",
    "\n",
    "# read in pickle file\n",
    "with open(file=___, mode=___) as ___:\n",
    "    output = pickle.load(file=___)\n",
    "\n",
    "# print out the keys of the loaded dictionary\n",
    "display(output['parietal'].head())\n",
    "display(output['frontal'].head())\n",
    "~~~"
   ]
  },
  {
   "cell_type": "markdown",
   "metadata": {},
   "source": []
  }
 ],
 "metadata": {
  "kernelspec": {
   "display_name": "Python 3.9.12 ('base')",
   "language": "python",
   "name": "python3"
  },
  "language_info": {
   "codemirror_mode": {
    "name": "ipython",
    "version": 3
   },
   "file_extension": ".py",
   "mimetype": "text/x-python",
   "name": "python",
   "nbconvert_exporter": "python",
   "pygments_lexer": "ipython3",
   "version": "3.9.12"
  },
  "orig_nbformat": 4,
  "vscode": {
   "interpreter": {
    "hash": "213a5d771efc885c0a0d146cb9398e98aa15d9474476d60ee972b98bffb9e082"
   }
  }
 },
 "nbformat": 4,
 "nbformat_minor": 2
}
