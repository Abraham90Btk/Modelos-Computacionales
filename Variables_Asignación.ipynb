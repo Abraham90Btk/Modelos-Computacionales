{
 "cells": [
  {
   "cell_type": "markdown",
   "metadata": {},
   "source": [
    "## Python\n",
    "---\n",
    "\n",
    "No te preocupes si no has trabajdo nunca una línea de código en ningún lenguaje de programación, así que al aprender a usar Python, también aprenderás a programar. \n",
    "\n",
    "El uso de Python para la ciencia de datos y la programación no son exactamente lo mismo: la programación describe una gama más amplia de habilidades que el uso de un lenguaje de programación para hacer ciencia de datos. Además de aprender las \"palabras\" (comandos) y la \"sintaxis\" (cómo definir y combinar comandos) de un lenguaje de programación, la programación abarca formas particulares de pensar. \n",
    "\n",
    "Una habilidad de programación importante es la **operacionalización**: analizar y desglosar problemas e identificar la secuencia de pasos para resolverlos. Otro es prestar mucha atención a los detalles de cómo escribe y formatea su código (de repente,no realizar indentar una linea puede hacer que el código funcione de una manera totalmente diferente, ¡o nada!).\n",
    "\n",
    "\n",
    "\n"
   ]
  },
  {
   "cell_type": "markdown",
   "metadata": {},
   "source": [
    "<div class=\"alert alert-block alert-info\">\n",
    "    <h3>Everything is an Object</h3>\n",
    "    \n",
    "\"Todo en Python es un objeto\". Si aún no ha escuchado esta frase, probablemente la escuchará eventualmente de todos modos. Puede tener un poco de sentido cuando no sabes mucho sobre programación. Puede pensar en ello de manera que todo lo que cree en Python será un objeto de un tipo específico. El número entero `5` es un objeto, la función `m()`s un objeto, incluso la hoja de Excel importada también es un objeto."
   ]
  },
  {
   "cell_type": "markdown",
   "metadata": {},
   "source": [
    "## Variables y asignación, declaraciones (statements), expresiones numéricas\n",
    "---\n",
    "\n",
    "### Objetivos de aprendizaje\n",
    "- Escrbiir programas para asignar valores a las variables y realizar operaciones.\n",
    "- Realice un seguimiento correcto de los cambios en las variables.\n",
    "---\n"
   ]
  },
  {
   "cell_type": "markdown",
   "metadata": {},
   "source": [
    "### Statements\n",
    "* Una declaración es una unidad de código que el intérprete de Python puede ejecutar. \n",
    "\n",
    "* Cuando escribe una instrucción en modo interactivo, el intérprete la ejecuta y muestra el resultado, si lo hay.\n",
    "\n",
    "* Un script generalmente contiene una secuencia de instrucciones. Si hay más de una sentencia, los resultados aparecen uno a la vez a medida que se ejecutan las sentencias."
   ]
  },
  {
   "cell_type": "code",
   "execution_count": null,
   "metadata": {},
   "outputs": [],
   "source": [
    "print(1)\n",
    "x = 2\n",
    "print(x)"
   ]
  },
  {
   "cell_type": "markdown",
   "metadata": {},
   "source": [
    "## Expresiones numéricas\n",
    "\n",
    "* Debido a la falta de símbolos matemáticos en los teclados de las computadoras, usamos el \"lenguaje de la computadora\" para expresar las operaciones matemáticas clásicas.\n",
    "\n",
    "* El símbolo de asterísco indica una operación de multipliación.\n",
    "* Para el caso de la operación de exponenciación (elevar un número a una potencia) el símbolo que se utiliza en Python es diferente al que usamos en matemáticas.\n",
    "\n",
    "| Operador | Operación  |\n",
    "| --- | --- |\n",
    "| + | Suma |\n",
    "| - | Resta  |\n",
    "| * | Multiplicación  |\n",
    "| / | División  |\n",
    "| ** | Exponenciación |\n",
    "| % | Residuo |\n"
   ]
  },
  {
   "cell_type": "markdown",
   "metadata": {},
   "source": [
    "## Variables\n",
    "\n",
    "* Una variable es un lugar con nombre en la memoria donde un programador puede almacenar datos y luego recuperar los datos usando la variable \"nombre\".\n",
    "\n",
    "* Los programadores pueden elegir los nombres de las variables.\n",
    "\n",
    "* Puede cambiar el contenido de una variable en una declaración posterior.\n",
    "\n",
    "### Utiliza variables para guardar valores.\n",
    "*   **Variables** nombres para valores.\n",
    "*   En Python el símbolo `=`  **asigna** el valor a la derecha del nombre que está a la izqueirda.\n",
    "*   La variable se crea cuando se le asigna un valor.\n",
    "*   Por ejemplo, Python le asigna un valor a la variable `age`\n",
    "    y un nombre entre comillas a la variable `first_name`. "
   ]
  },
  {
   "cell_type": "code",
   "execution_count": 2,
   "metadata": {},
   "outputs": [],
   "source": [
    "age = 42\n",
    "first_name = 'Ahmed'"
   ]
  },
  {
   "cell_type": "markdown",
   "metadata": {},
   "source": [
    "*   Nombre de las variables\n",
    "    * **Solamente** pueden tenerletras, números, y el símbolo de gión bajo `_` (generalmente se utiliza para separar el nombre de una variable cuando es muy largo)\n",
    "    * No pueden empezar con un número\n",
    "    *  **Distingue entre mayúsculas y minúsculas (nombre, Nombre y NOMBRE son diferentes variables).\n",
    "*   Las variables que empiezan con un guión bajo como `_aarons_real_age` tiene un significado espacial. Evita iniciar el nombre de una variable con este formato."
   ]
  },
  {
   "cell_type": "markdown",
   "metadata": {},
   "source": [
    "### Uso de la función `print` para mostrar valores\n",
    "\n",
    "\n",
    "\n",
    "*   Python tiene una función llamada `print` que muestra cosas como texto.\n",
    "*   Llama, corre, ejecuta la función mediante el nombre de esta.\n",
    "*   Introduce valores a la función (lo que deseas mostrar) dentro de los paréntesis.\n",
    "*   Para mostrar una cadena con la función `print` introduela dentro de comillas simples o doblesTo \n",
    "*   Los valores que introducimos(pasamos) a la función se llaman **argumentos**"
   ]
  },
  {
   "cell_type": "code",
   "execution_count": 3,
   "metadata": {},
   "outputs": [
    {
     "name": "stdout",
     "output_type": "stream",
     "text": [
      "Ahmed is 42 years old\n"
     ]
    }
   ],
   "source": [
    "print(first_name, 'is', age, 'years old')"
   ]
  },
  {
   "cell_type": "markdown",
   "metadata": {},
   "source": [
    "* La función print agrega de manera automática un espacio simple entre los items para separarlos.\n",
    "\n",
    "* También se ajusta una nueva línea al final."
   ]
  },
  {
   "cell_type": "markdown",
   "metadata": {},
   "source": [
    "### Las Variables deben crearse antes de usarse\n",
    "\n",
    "*   Si una variable no existe o si el nombre de la varibale está mal escrito, tendrás como resultado     un error."
   ]
  },
  {
   "cell_type": "code",
   "execution_count": 7,
   "metadata": {},
   "outputs": [
    {
     "ename": "NameError",
     "evalue": "name 'last_name' is not defined",
     "output_type": "error",
     "traceback": [
      "\u001b[1;31m---------------------------------------------------------------------------\u001b[0m",
      "\u001b[1;31mNameError\u001b[0m                                 Traceback (most recent call last)",
      "Input \u001b[1;32mIn [7]\u001b[0m, in \u001b[0;36m<cell line: 1>\u001b[1;34m()\u001b[0m\n\u001b[1;32m----> 1\u001b[0m \u001b[38;5;28mprint\u001b[39m(\u001b[43mlast_name\u001b[49m)\n",
      "\u001b[1;31mNameError\u001b[0m: name 'last_name' is not defined"
     ]
    }
   ],
   "source": [
    "print(last_name)"
   ]
  },
  {
   "cell_type": "markdown",
   "metadata": {},
   "source": [
    "*   La linea que muestra el mensaje con error es muy informativa.\n",
    "\n",
    "## Las Variables persisten entre celdas\n",
    "\n",
    "Es importante tener en cuenta que lo que realmente importa en un Jupyter Notebook es el *orden de ejecución* de las celdas, no el orden en que aparecen. Python recordará *todo* el código que se ejecutó anteriormente, incluidas las variables que haya definido, independientemente del orden en el Notebook. Por lo tanto, si define variables más abajo en el Notebook y luego (re)ejecuta las celdas más arriba, las definidas más abajo seguirán estando presentes. Como ejemplo, considere lo siguiente\n",
    "\n"
   ]
  },
  {
   "cell_type": "code",
   "execution_count": 4,
   "metadata": {},
   "outputs": [
    {
     "ename": "NameError",
     "evalue": "name 'myval' is not defined",
     "output_type": "error",
     "traceback": [
      "\u001b[1;31m---------------------------------------------------------------------------\u001b[0m",
      "\u001b[1;31mNameError\u001b[0m                                 Traceback (most recent call last)",
      "Input \u001b[1;32mIn [4]\u001b[0m, in \u001b[0;36m<cell line: 1>\u001b[1;34m()\u001b[0m\n\u001b[1;32m----> 1\u001b[0m \u001b[38;5;28mprint\u001b[39m(\u001b[43mmyval\u001b[49m)\n\u001b[0;32m      2\u001b[0m myval \u001b[38;5;241m=\u001b[39m \u001b[38;5;241m1\u001b[39m\n",
      "\u001b[1;31mNameError\u001b[0m: name 'myval' is not defined"
     ]
    }
   ],
   "source": [
    "print(myval)\n",
    "myval = 1"
   ]
  },
  {
   "cell_type": "markdown",
   "metadata": {},
   "source": [
    "Ahora bien, si ejecutas lo anterior en el siguiente orden: primera celda *después* de la segunda, como resultado obtendrás `1`. Recuerda que puedes intercambiar las celdas arrastránolas entre ellas."
   ]
  },
  {
   "cell_type": "code",
   "execution_count": 5,
   "metadata": {},
   "outputs": [
    {
     "name": "stdout",
     "output_type": "stream",
     "text": [
      "1\n"
     ]
    }
   ],
   "source": [
    "myval = 1\n",
    "print(myval)"
   ]
  },
  {
   "cell_type": "markdown",
   "metadata": {},
   "source": [
    "\n",
    "Si no recuerdas el orden de ejecucción de las celdas, no olvides que puede ser útil usar la opción de menú `Kernel` -`Restart & Run All` que borra el intérprete y ejecuta todo de arriba a abajo. .\n"
   ]
  },
  {
   "cell_type": "markdown",
   "metadata": {},
   "source": [
    "### Puedes utilizar las variables para operaciones\n",
    "\n",
    "*   Podmeos usara las variables para realizar operaciones.\n",
    "    *   Recuerda, assignamos el valor `42` a la variable `age` hace unos momentos.\n"
   ]
  },
  {
   "cell_type": "code",
   "execution_count": 6,
   "metadata": {},
   "outputs": [
    {
     "name": "stdout",
     "output_type": "stream",
     "text": [
      "Age in three years: 45\n"
     ]
    }
   ],
   "source": [
    "age = age + 3\n",
    "print('Age in three years:', age)"
   ]
  },
  {
   "cell_type": "markdown",
   "metadata": {},
   "source": [
    "## Python distingue entre mayúsculas y minúsculas.\n",
    "\n",
    "    \n",
    "*   Python sabe que las letras mayúsuclas y minúsculas son diferentes. Puedes probar ejecutando `print(Age)`.\n",
    "\n",
    "* Existen convenciones para el uso de letras mayúsculas al comienzo de los nombres de las variables; solo deben usarse en circunstancias específicas en Python, por lo que es una buena práctica usar solo letras minúsculas para los nombres de las variables.\n",
    "\n"
   ]
  },
  {
   "cell_type": "markdown",
   "metadata": {},
   "source": [
    "## Use nombres de variables significativos.\n",
    "\n",
    "*   A Python no le importa cómo llames a las variables siempre que obedezcan las reglas (caracteres       alfanuméricos y guiones bajos).\n"
   ]
  },
  {
   "cell_type": "code",
   "execution_count": null,
   "metadata": {},
   "outputs": [],
   "source": [
    "flabadab = 42\n",
    "ewr_422_yY = 'Ahmed'\n",
    "print(ewr_422_yY, 'is', flabadab, 'years old')"
   ]
  },
  {
   "cell_type": "markdown",
   "metadata": {},
   "source": [
    "* Sin embargo, si usa nombres de variables significativos, ayudará a otras personas (¡y sobre todo a ti mismo!) a comprender lo que hace el programa."
   ]
  },
  {
   "cell_type": "markdown",
   "metadata": {},
   "source": [
    "<div class=\"alert alert-block alert-info\">\n",
    "    <h3>Style note:</h3>\n",
    "    \n",
    "Although Python allows you to use virtually any characters in variable names, there are style conventions that you should learn and follow. [Python PEP 8](https://www.python.org/dev/peps/pep-0008/#naming-conventions) (PEPs are the \"Python Enhancement Proposals\" that provide standards for the language) specifies that regular variables \"should be lowercase, with words separated by underscores as necessary to improve readability\". \n",
    "    \n",
    "So, **you should only use lower-case letters**in variable names. This is because upper-case letters are used for specific purposes in Python. As well, if your variable name is more than one word (such as `first_name`), you should use underscores to separate the words. This naming convention is called **snake case**.\n",
    "    \n",
    "You may encounter different conventions as standard in other programming languages (or in examples of Python that don't properly follow style conventions), such as [**camel case**](https://en.wikipedia.org/wiki/Camel_case) which would be `FirstName` or possibly `firstName` (for the aficionados: the first is is a sub-type of camel case called **Pascal case**, while the second is **dromedary case**). \n",
    "    \n",
    "There is a good reason for following these conventions: when a seasoned Python programmer sees something in camel case, they will expect it to be a class or type variable, not a regular variable. Following Python's conventions thus improves the readability, sharability, and transparency of code.\n",
    "</div>"
   ]
  },
  {
   "cell_type": "markdown",
   "metadata": {},
   "source": [
    "## Intercambio de valores (Swapping Values\n",
    "\n",
    ". Adivina cuáles serán los valores finales de `x` e `y`, luego ejecuta el código tú mismo para verificar tu suposición.\n",
    "\n",
    "Intente seguir lo que sucede en la siguiente secuencia de comandos. Adivina cuales seran los valores finales de `x` e `y`. Ejecuta el código para verificar tu pronóstico.\n",
    "\n",
    "~~~python\n",
    "x = 1.0   \n",
    "y = 3.0    \n",
    "swap = x  \n",
    "x = y      \n",
    "y = swap \n",
    "~~~\n",
    "\n",
    "Estas tres líneas intercambian los valores en  `x` e `y` usando la variable de intercambio para el almacenamiento temporal. Este es un lenguaje de programación bastante común."
   ]
  },
  {
   "cell_type": "markdown",
   "metadata": {},
   "source": [
    "## Las variables solo cambian de valor cuando se les asigna algo\n",
    "\n",
    "*  Si hacemos que una celda de una hoja de cálculo dependa de otra y actualizamos esta última, la primera se actualiza automáticamente\n",
    "*   Esto **no** sucede en los lenguajes de programación\n",
    "\n",
    "~~~python\n",
    "first = 1\n",
    "second = 5 * first\n",
    "first = 2\n",
    "print('first is', first, 'and second is', second)\n",
    "~~~\n",
    "\n",
    "Después de eso, 'segundo' no recuerda de dónde vino.\n",
    "\n",
    "*   Python lee el valor de la variable `first` al hacer la multiplicación, crea un nuevo valor y lo asgina a una variable llamada second.\n",
    "  \n",
    "*  Después, la variable `second` no sabe de donde vino."
   ]
  },
  {
   "cell_type": "markdown",
   "metadata": {},
   "source": [
    "---\n",
    "### Ejercicios\n",
    "\n",
    "¿Cuál es el nombre mas adecuado de la variable, `m`, `min` o `minutes`? ¿Por qué? (Sugerencia: piense qué código preferiría heredar de alguien que está dejando el laboratorio):\n",
    "\n",
    "(Utiliza una celda nueva para programar lo que se te pide)\n",
    "\n",
    "```python\n",
    "ts = m * 60 + s\n",
    "tot_sec = min * 60 + sec\n",
    "total_seconds = minutes * 60 + seconds\n",
    "\n",
    "Q1. Cuál es el resultado de la siguiente operación 26 % 2?\n",
    "Q2. Se prepara una solución acuosa de glucosa 0,300 M con un volumen total de 0,150 L. El peso molecular de la glucosa es 180,16 g/mol. ¿Qué masa de glucosa (en gramos) se necesita para la solución?\n",
    "\n",
    "(Hint! mass = mol_weight * molarity * volume)\n",
    "\n",
    "\n",
    "Evalúa las siguientes expresiones y muestra sus resultados:\n",
    "xx = 2\n",
    "xx = xx +2\n",
    "\n",
    "yy  440 * 12\n",
    "zz = yy /100\n",
    "\n",
    "jj = 23\n",
    "kk = jj % 5\n",
    "p = 4 ** 3\n",
    "```\n",
    "---\n",
    "\n"
   ]
  },
  {
   "cell_type": "markdown",
   "metadata": {},
   "source": [
    "---\n",
    "## Resumen: (estudiante)\n"
   ]
  },
  {
   "cell_type": "code",
   "execution_count": null,
   "metadata": {},
   "outputs": [],
   "source": []
  }
 ],
 "metadata": {
  "kernelspec": {
   "display_name": "trial",
   "language": "python",
   "name": "trial"
  },
  "language_info": {
   "codemirror_mode": {
    "name": "ipython",
    "version": 3
   },
   "file_extension": ".py",
   "mimetype": "text/x-python",
   "name": "python",
   "nbconvert_exporter": "python",
   "pygments_lexer": "ipython3",
   "version": "3.9.12"
  }
 },
 "nbformat": 4,
 "nbformat_minor": 2
}
