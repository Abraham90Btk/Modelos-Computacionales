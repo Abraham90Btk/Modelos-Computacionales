{
 "cells": [
  {
   "cell_type": "markdown",
   "metadata": {},
   "source": [
    "## Diccionarios\n"
   ]
  },
  {
   "cell_type": "markdown",
   "metadata": {},
   "source": [
    "- Python proporciona un tipo de datos valioso llamado **diccionario** (a menudo abreviado como \"dict\").\n",
    "- Los diccionarios son *colecciones*: tipos de datos de Python que almacenan múltiples valores, como listas o cadenas.\n",
    "- Sin embargo, los diccionarios son *mapeos*. Al igual que un diccionario tradicional que contiene una palabra, seguida de   una definición, los diccionarios son pares de **claves** y **valores**.\n",
    "- Un diccionario se puede definir usando llaves que especifican asignaciones de llave-valor usando los dos puntos (`:`)\n",
    "- Por ejemplo, lo siguiente define un diccionario con cuatro claves (`First Name`, `Last Name`, etc.), cada una con un valor asociado:"
   ]
  },
  {
   "cell_type": "code",
   "execution_count": 3,
   "metadata": {},
   "outputs": [],
   "source": [
    "my_info = {'First Name':'Annikki', \n",
    "           'Last Name':'Bogdana', \n",
    "           'Age':15, \n",
    "           'Height':1.66}"
   ]
  },
  {
   "cell_type": "markdown",
   "metadata": {},
   "source": [
    "- Al igual que las listas, los diccionarios pueden contener una combinación de tipos de datos.\n",
    "\n",
    "- Las **claves** del diccionario deben ser de un tipo inmutable, como una cadena o un número (int o float). Esto se debe a que los diccionarios están organizados por claves, y una vez que se define una clave, no se puede cambiar.\n",
    "\n",
    "- Los **valores** del diccionario pueden ser de cualquier tipo.\n",
    "\n",
    "- Se accede a los valores en un diccionario usando sus claves dentro de corchetes:\n",
    "\n",
    "Se accede a los valores en un diccionario usando sus llaves dentro de corchetes:"
   ]
  },
  {
   "cell_type": "code",
   "execution_count": 4,
   "metadata": {},
   "outputs": [
    {
     "data": {
      "text/plain": [
       "'Annikki'"
      ]
     },
     "execution_count": 4,
     "metadata": {},
     "output_type": "execute_result"
    }
   ],
   "source": [
    "my_info['First Name']"
   ]
  },
  {
   "cell_type": "markdown",
   "metadata": {},
   "source": [
    "## ¿Por qué  usar diccionarios?\n",
    "\n",
    "- Los diccionarios proporcionan una forma conveniente de etiquetar datos. Por ejemplo, en la lección anterior sobre listas, usamos un ejemplo de una lista de la esperanza de vida para un país (Canadá) para diferentes años:\n",
    "\n",
    "~~~ pitón\n",
    "vida_exp = [48.1, 56.6, 64.0, 71.0, 75.2, 79.2]\n",
    "~~~\n",
    "\n",
    "- Una limitación de usar una lista como esta es que no sabemos con qué años están asociados los valores. Por ejemplo, ¿en qué año era 48,1 la esperanza de vida media?\n",
    "\n",
    "- Los diccionarios resuelven este problema, porque podemos usar las claves para etiquetar los datos. Por ejemplo, defina el siguiente diccionario en el que las claves indican años y los valores son esperanzas de vida:\n",
    "\n",
    "~~~ pitón\n",
    "vida_exp = {1900:48.1, 1920:56.6, 1940:64.0, 1960:71.0, 1980:75.2, 2000:79.2}\n",
    "~~~\n",
    "\n",
    "- Al definir un diccionario, usamos ** llaves {} **\n",
    "- Asociamos claves y valores con dos puntos **`:`**"
   ]
  },
  {
   "cell_type": "code",
   "execution_count": 9,
   "metadata": {},
   "outputs": [],
   "source": [
    "life_exp = {1900:48.1, 1920:56.6, 1940:64.0, 1960:71.0, 1980:75.2, 2000:79.2}"
   ]
  },
  {
   "cell_type": "markdown",
   "metadata": {},
   "source": [
    "- Ahora podemos ver la esperanza de vida asociada a un año determinado así:"
   ]
  },
  {
   "cell_type": "code",
   "execution_count": 10,
   "metadata": {},
   "outputs": [
    {
     "data": {
      "text/plain": [
       "64.0"
      ]
     },
     "execution_count": 10,
     "metadata": {},
     "output_type": "execute_result"
    }
   ],
   "source": [
    "life_exp[1940]"
   ]
  },
  {
   "cell_type": "markdown",
   "metadata": {},
   "source": [
    "¿Qué pasa si pedimos una `clave` que no existe?"
   ]
  },
  {
   "cell_type": "code",
   "execution_count": 11,
   "metadata": {},
   "outputs": [
    {
     "ename": "KeyError",
     "evalue": "2021",
     "output_type": "error",
     "traceback": [
      "\u001b[1;31m---------------------------------------------------------------------------\u001b[0m",
      "\u001b[1;31mKeyError\u001b[0m                                  Traceback (most recent call last)",
      "Input \u001b[1;32mIn [11]\u001b[0m, in \u001b[0;36m<cell line: 1>\u001b[1;34m()\u001b[0m\n\u001b[1;32m----> 1\u001b[0m \u001b[43mlife_exp\u001b[49m\u001b[43m[\u001b[49m\u001b[38;5;241;43m2021\u001b[39;49m\u001b[43m]\u001b[49m\n",
      "\u001b[1;31mKeyError\u001b[0m: 2021"
     ]
    }
   ],
   "source": [
    "life_exp[2021]"
   ]
  },
  {
   "cell_type": "code",
   "execution_count": 12,
   "metadata": {},
   "outputs": [
    {
     "ename": "SyntaxError",
     "evalue": "invalid syntax (3141209036.py, line 1)",
     "output_type": "error",
     "traceback": [
      "\u001b[1;36m  Input \u001b[1;32mIn [12]\u001b[1;36m\u001b[0m\n\u001b[1;33m    Obtenemos un tipo específico de error llamado KeyError, que nos dice que la key no está definida\u001b[0m\n\u001b[1;37m              ^\u001b[0m\n\u001b[1;31mSyntaxError\u001b[0m\u001b[1;31m:\u001b[0m invalid syntax\n"
     ]
    }
   ],
   "source": [
    "Obtenemos un tipo específico de error llamado KeyError, que nos dice que la key no está definida"
   ]
  },
  {
   "cell_type": "markdown",
   "metadata": {},
   "source": [
    "## Los diccionarios son mutables\n",
    "\n",
    "- Anteriormente discutimos la diferencia entre tipos *inmutables* como cadenas, cuyo contenido no se puede cambiar, y tipos *mutables* como listas, que se pueden cambiar. Los diccionarios son mutables.\n",
    "- Esto significa que podemos:\n",
    "     - agregar nuevos pares clave:valor después de definir el diccionario por primera vez, y\n",
    "     - modificar los valores asociados con las claves existentes\n",
    "- Por ejemplo, podemos agregar un nuevo par clave:valor usando el nombre de dictado más corchetes para especificar una nueva clave, seguido de `=` para asignar el valor a esta clave:"
   ]
  },
  {
   "cell_type": "code",
   "execution_count": 14,
   "metadata": {},
   "outputs": [
    {
     "name": "stdout",
     "output_type": "stream",
     "text": [
      "{1900: 48.1, 1920: 56.6, 1940: 64.0, 1960: 71.0, 1980: 75.2, 2000: 79.2, 2020: 83.2}\n"
     ]
    }
   ],
   "source": [
    "life_exp[2020] = 83.2\n",
    "print(life_exp)"
   ]
  },
  {
   "cell_type": "markdown",
   "metadata": {},
   "source": [
    "- También podemos cambiar el valor de una key existente de la misma manera. En el ejemplo anterior, asignamos el valor incorrecto a 2020; debería ser 82.3 no 83.2. Entonces podemos arreglarlo así:"
   ]
  },
  {
   "cell_type": "markdown",
   "metadata": {},
   "source": [
    "### Las claves de los diccionarios no se pueden renombrar\n",
    "\n",
    "- Aunque los diccionarios son mutables, no podemos cambiar el nombre de las claves del diccionario. Sin embargo, podemos eliminar las entradas existentes y crear otras nuevas si es necesario.\n",
    "\n",
    "- Por ejemplo, a continuación agregamos un valor de esperanza de vida para el año 2040, pero por error convertimos la clave en una cadena en lugar de un número entero como las otras claves existentes:"
   ]
  },
  {
   "cell_type": "code",
   "execution_count": 16,
   "metadata": {},
   "outputs": [
    {
     "name": "stdout",
     "output_type": "stream",
     "text": [
      "{1900: 48.1, 1920: 56.6, 1940: 64.0, 1960: 71.0, 1980: 75.2, 2000: 79.2, 2020: 83.2, '2040': 85.1}\n"
     ]
    }
   ],
   "source": [
    "life_exp['2040'] = 85.1\n",
    "print(life_exp)"
   ]
  },
  {
   "cell_type": "markdown",
   "metadata": {},
   "source": [
    "- Podemos agregar otra entrada usando la clave correcta (entero), pero esto no elimina la entrada anterior:"
   ]
  },
  {
   "cell_type": "code",
   "execution_count": 17,
   "metadata": {},
   "outputs": [
    {
     "name": "stdout",
     "output_type": "stream",
     "text": [
      "{1900: 48.1, 1920: 56.6, 1940: 64.0, 1960: 71.0, 1980: 75.2, 2000: 79.2, 2020: 83.2, '2040': 85.1, 2040: 85.1}\n"
     ]
    }
   ],
   "source": [
    "life_exp[2040] = 85.1\n",
    "print(life_exp)"
   ]
  },
  {
   "cell_type": "markdown",
   "metadata": {},
   "source": [
    "- Alternativamente, en lugar de ingresar manualmente el nuevo valor, podemos copiarlo del valor correspondiente a la clave original (incorrecta):"
   ]
  },
  {
   "cell_type": "code",
   "execution_count": 18,
   "metadata": {},
   "outputs": [
    {
     "name": "stdout",
     "output_type": "stream",
     "text": [
      "{1900: 48.1, 1920: 56.6, 1940: 64.0, 1960: 71.0, 1980: 75.2, 2000: 79.2, 2020: 83.2, '2040': 85.1, 2040: 85.1}\n"
     ]
    }
   ],
   "source": [
    "life_exp[2040] = life_exp['2040']\n",
    "print(life_exp)"
   ]
  },
  {
   "cell_type": "markdown",
   "metadata": {},
   "source": [
    "- Ya sea que ingresemos manualmente un nuevo par key:valor o copiemos un valor de una entrada de diccionario existente, aún conservamos la entrada de diccionario original (en este caso, '2040').\n",
    "\n",
    "### Eliminar entradas del diccionario\n"
   ]
  },
  {
   "cell_type": "markdown",
   "metadata": {},
   "source": [
    "- Podemos eliminar una entrada del diccionario con la instrucción del. del es una declaración de Python (no una función o método), por lo que va seguido de un espacio en lugar de paréntesis:"
   ]
  },
  {
   "cell_type": "code",
   "execution_count": 19,
   "metadata": {},
   "outputs": [
    {
     "name": "stdout",
     "output_type": "stream",
     "text": [
      "{1900: 48.1, 1920: 56.6, 1940: 64.0, 1960: 71.0, 1980: 75.2, 2000: 79.2, 2020: 83.2, 2040: 85.1}\n"
     ]
    }
   ],
   "source": [
    "del life_exp['2040']\n",
    "print(life_exp)"
   ]
  },
  {
   "cell_type": "markdown",
   "metadata": {},
   "source": [
    "- Alternativamente, podemos eliminar un elemento del diccionario usando el método .pop(), como vimos la última vez para las listas.\n",
    "\n",
    "- La key para la entrada del diccionario que desea eliminar es el argumento que pasa a .pop()\n",
    "\n",
    "- En este ejemplo, primero creamos una entrada errónea y luego la eliminamos con .pop():"
   ]
  },
  {
   "cell_type": "code",
   "execution_count": 20,
   "metadata": {},
   "outputs": [
    {
     "name": "stdout",
     "output_type": "stream",
     "text": [
      "{1900: 48.1, 1920: 56.6, 1940: 64.0, 1960: 71.0, 1980: 75.2, 2000: 79.2, 2020: 83.2, 2040: 85.1, 200: 79.2}\n",
      "{1900: 48.1, 1920: 56.6, 1940: 64.0, 1960: 71.0, 1980: 75.2, 2000: 79.2, 2020: 83.2, 2040: 85.1}\n"
     ]
    }
   ],
   "source": [
    "# Create incorrect entry\n",
    "life_exp[200] = 79.2\n",
    "print(life_exp)\n",
    "\n",
    "# Remove incorrect entry\n",
    "life_exp.pop(200)\n",
    "print(life_exp)"
   ]
  },
  {
   "cell_type": "markdown",
   "metadata": {},
   "source": [
    "### Los diccionarios están desordenados."
   ]
  },
  {
   "cell_type": "markdown",
   "metadata": {},
   "source": [
    "- Tanto las cadenas como las listas están ordenadas: los elementos existen en una cadena o lista en un orden específico. Es por eso que podemos usar números enteros para indexar cadenas o enumerar elementos en función de su posición\n",
    "\n",
    "- Los diccionarios, por el contrario, están desordenados. Debido a que no están ordenados, no puede acceder a los valores usando la indexación numérica, solo por sus claves. ¿Qué pasa si hacemos lo siguiente?"
   ]
  },
  {
   "cell_type": "code",
   "execution_count": null,
   "metadata": {},
   "outputs": [],
   "source": [
    "life_exp[0]"
   ]
  },
  {
   "cell_type": "markdown",
   "metadata": {},
   "source": [
    "- El código anterior da como resultado un KeyError, porque Python interpreta lo que está entre corchetes como una clave de diccionario, no como un índice secuencial. Esto tiene sentido, ya que las claves del diccionario pueden ser números enteros."
   ]
  },
  {
   "cell_type": "markdown",
   "metadata": {},
   "source": [
    "### Los diccionarios tienen propiedades\n",
    "\n",
    "- Al igual que otras colecciones de Python, los diccionarios tienen una propiedad de longitud, que es el número de pares clave:valor:"
   ]
  },
  {
   "cell_type": "code",
   "execution_count": 22,
   "metadata": {},
   "outputs": [
    {
     "data": {
      "text/plain": [
       "8"
      ]
     },
     "execution_count": 22,
     "metadata": {},
     "output_type": "execute_result"
    }
   ],
   "source": [
    "len(life_exp)"
   ]
  },
  {
   "cell_type": "markdown",
   "metadata": {},
   "source": [
    "### Visualizar todas las claves o valores en un diccionario\n",
    "\n",
    " -Para hacerlo en un diccionario:"
   ]
  },
  {
   "cell_type": "code",
   "execution_count": null,
   "metadata": {},
   "outputs": [],
   "source": [
    "life_exp.keys()"
   ]
  },
  {
   "cell_type": "markdown",
   "metadata": {},
   "source": [
    "- Del mismo modo, puede ver todos los valores usando .values():"
   ]
  },
  {
   "cell_type": "code",
   "execution_count": 25,
   "metadata": {},
   "outputs": [
    {
     "data": {
      "text/plain": [
       "dict_values([48.1, 56.6, 64.0, 71.0, 75.2, 79.2, 83.2, 85.1])"
      ]
     },
     "execution_count": 25,
     "metadata": {},
     "output_type": "execute_result"
    }
   ],
   "source": [
    "life_exp.values()"
   ]
  },
  {
   "cell_type": "markdown",
   "metadata": {},
   "source": [
    "- También puede ver las claves y los valores a la vez, usando .items():"
   ]
  },
  {
   "cell_type": "code",
   "execution_count": 26,
   "metadata": {},
   "outputs": [
    {
     "data": {
      "text/plain": [
       "dict_items([(1900, 48.1), (1920, 56.6), (1940, 64.0), (1960, 71.0), (1980, 75.2), (2000, 79.2), (2020, 83.2), (2040, 85.1)])"
      ]
     },
     "execution_count": 26,
     "metadata": {},
     "output_type": "execute_result"
    }
   ],
   "source": [
    "life_exp.items()"
   ]
  },
  {
   "cell_type": "markdown",
   "metadata": {},
   "source": [
    "- El resultado de .items() es más complejo que simplemente pedirle a Python que imprima el diccionario, pero está organizado de una manera que será útil en lecciones posteriores, por ejemplo, si desea hacer lo mismo sistemáticamente con cada elemento de un diccionario."
   ]
  },
  {
   "cell_type": "markdown",
   "metadata": {},
   "source": [
    "Student Question! ¿Qué tipo de Python son los resultados de los métodos .keys() y .values()?"
   ]
  },
  {
   "cell_type": "markdown",
   "metadata": {},
   "source": [
    "### Encontrar una clave en un diccionario\n",
    "\n",
    "- Si el diccionario es muy grande, puede que no sea factible escanear visualmente todas las entradas para determinar si una clave en particular está presente. Puedes usar la instrucción in para verificar si una clave está en un diccionario:"
   ]
  },
  {
   "cell_type": "code",
   "execution_count": 28,
   "metadata": {},
   "outputs": [
    {
     "name": "stdout",
     "output_type": "stream",
     "text": [
      "True\n",
      "False\n"
     ]
    }
   ],
   "source": [
    "print(1900 in life_exp)\n",
    "print(1800 in life_exp)"
   ]
  },
  {
   "cell_type": "markdown",
   "metadata": {},
   "source": [
    "---\n",
    "## Exercises \n",
    "\n",
    "### Creating a dictionary\n",
    "- Create a dictionary called `weekdays` in which the keys are the names of the days of the week from Monday to Friday (not including weekends), and the values are the dates of the days of the week for this week (e.g., if today is Monday, Sept 20, then your value for `Monday` would be `20`)"
   ]
  },
  {
   "cell_type": "code",
   "execution_count": null,
   "metadata": {},
   "outputs": [],
   "source": []
  },
  {
   "cell_type": "markdown",
   "metadata": {},
   "source": [
    "- Using the `weekdays` list you created, print the value for `Wednesday`"
   ]
  },
  {
   "cell_type": "code",
   "execution_count": null,
   "metadata": {},
   "outputs": [],
   "source": []
  },
  {
   "cell_type": "markdown",
   "metadata": {},
   "source": [
    "### Sorting dictionaries\n",
    "\n",
    "- Although dictionaries are not stored in an ordered fashion, it is possible to view a sorted list of dictionary keys using the `sorted()` function we learned in the previous lesson on lists. Try printing the sorted keys for `weekdays`"
   ]
  },
  {
   "cell_type": "code",
   "execution_count": null,
   "metadata": {},
   "outputs": [],
   "source": []
  },
  {
   "cell_type": "markdown",
   "metadata": {},
   "source": [
    "### Extending dictionaries\n",
    "\n",
    "- Add key:value pairs for the weekend days to `weekdays`"
   ]
  },
  {
   "cell_type": "code",
   "execution_count": null,
   "metadata": {},
   "outputs": [],
   "source": []
  },
  {
   "cell_type": "markdown",
   "metadata": {},
   "source": [
    "### Deleting dictionary entries\n",
    "\n",
    "- remove the entry for `Wednesday` from the `weekdays` dictionary"
   ]
  },
  {
   "cell_type": "code",
   "execution_count": null,
   "metadata": {},
   "outputs": [],
   "source": []
  },
  {
   "cell_type": "markdown",
   "metadata": {},
   "source": [
    "- Remove the entry for 1980 from the `intl_life_exp` dictionary entry for Canada"
   ]
  },
  {
   "cell_type": "code",
   "execution_count": null,
   "metadata": {},
   "outputs": [],
   "source": []
  },
  {
   "cell_type": "markdown",
   "metadata": {},
   "source": [
    "### Checking dictionaries\n",
    "\n",
    "- Check if the year 1940 is a key in the entry for Denmark in the `intl_life_exp` dictionary"
   ]
  },
  {
   "cell_type": "code",
   "execution_count": null,
   "metadata": {},
   "outputs": [],
   "source": []
  },
  {
   "cell_type": "markdown",
   "metadata": {},
   "source": [
    "- Check if the year 2000 is a key in the entry for Egypt in the `intl_life_exp` dictionary"
   ]
  },
  {
   "cell_type": "code",
   "execution_count": null,
   "metadata": {},
   "outputs": [],
   "source": []
  },
  {
   "cell_type": "markdown",
   "metadata": {},
   "source": [
    "Exercise 2. Count how many times adenine (A), cytosine (C), guanine (G), and thymine (T) nucleotides appear in the given DNA string. Save result as a dictionary with four keys, where keys represent the nucleotide and values represent the counts. You can use either the first letters for the dictionary keys (A) or the full names (Adenine).\n",
    "~~~python\n",
    "DNA = \"AGCTTTTCATTCTGACTGCAACGGGCAATATGTCTCTGTGTGGATTAAAAAAAGAGTGTCTGATAGCAGC\"\n",
    "nucleotides = ___\n",
    "print(nucleotides)\n",
    "~~~"
   ]
  },
  {
   "cell_type": "markdown",
   "metadata": {},
   "source": [
    "## Tuplas\n",
    "\n",
    "- Otro tipo de colección en Python es tupla. Definimos listas usando corchetes ([1,2,3]), pero para tuplas usamos paréntesis ((1,2,3)).\n",
    "\n",
    "- Las tuplas son bastante \"aburridas\" ya que no tienen tantos métodos que se les puedan aplicar. Pero hay una razón para eso. Las tuplas son inmutables. Esto significa que ninguna función o método puede cambiar objetos en la tupla."
   ]
  },
  {
   "cell_type": "markdown",
   "metadata": {},
   "source": [
    "- Tuple es una colección ordenada e inmutable. Permite miembros duplicados."
   ]
  },
  {
   "cell_type": "code",
   "execution_count": 2,
   "metadata": {},
   "outputs": [
    {
     "name": "stdout",
     "output_type": "stream",
     "text": [
      "<class 'tuple'>\n"
     ]
    }
   ],
   "source": [
    "brain_lobes = ('frontal', 'parietal', 'temporal', 'occipital')\n",
    "# or:\n",
    "# brain_lobes_list = ['frontal', 'parietal', 'temporal', 'occipital']\n",
    "# brain_lobes = tuple(brain_lobes_list)\n",
    "print(type(brain_lobes))"
   ]
  },
  {
   "cell_type": "markdown",
   "metadata": {},
   "source": [
    "### Conjuntos\n",
    "\n",
    "- Los corchetes de cifras son el indicador de conjuntos, otro tipo de colección. No puede acceder a los elementos de un conjunto haciendo referencia a un índice, ya que los conjuntos no están ordenados y no tienen índice. Pero puede recorrer los elementos del conjunto usando un bucle for, o preguntar si un valor específico está presente en un conjunto, usando la palabra clave in.\n",
    "\n",
    "- Puede aplicar comandos de conjuntos básicos (como unión o intersección). Tenga en cuenta que no obtuvimos 'python' dos veces para la unión, ya que los conjuntos consisten solo en valores únicos. Este hecho puede resultar útil cuando se buscan valores únicos en una lista."
   ]
  },
  {
   "cell_type": "code",
   "execution_count": 3,
   "metadata": {},
   "outputs": [],
   "source": [
    "languages = {'python', 'r', 'java'} # create a set directly\n",
    "snakes = set(['cobra', 'viper', 'python']) # create a set from a list"
   ]
  },
  {
   "cell_type": "markdown",
   "metadata": {},
   "source": [
    "Operaciones con conjuntos:"
   ]
  },
  {
   "cell_type": "code",
   "execution_count": 5,
   "metadata": {},
   "outputs": [
    {
     "data": {
      "text/plain": [
       "{'python'}"
      ]
     },
     "execution_count": 5,
     "metadata": {},
     "output_type": "execute_result"
    }
   ],
   "source": [
    "languages & snakes # intersection, AND"
   ]
  },
  {
   "cell_type": "code",
   "execution_count": 6,
   "metadata": {},
   "outputs": [
    {
     "data": {
      "text/plain": [
       "{'cobra', 'java', 'python', 'r', 'viper'}"
      ]
     },
     "execution_count": 6,
     "metadata": {},
     "output_type": "execute_result"
    }
   ],
   "source": [
    "languages | snakes # union, OR"
   ]
  },
  {
   "cell_type": "code",
   "execution_count": 7,
   "metadata": {},
   "outputs": [
    {
     "data": {
      "text/plain": [
       "{'java', 'r'}"
      ]
     },
     "execution_count": 7,
     "metadata": {},
     "output_type": "execute_result"
    }
   ],
   "source": [
    "languages - snakes # set difference\n"
   ]
  },
  {
   "cell_type": "code",
   "execution_count": null,
   "metadata": {},
   "outputs": [],
   "source": []
  }
 ],
 "metadata": {
  "kernelspec": {
   "display_name": "trial",
   "language": "python",
   "name": "trial"
  },
  "language_info": {
   "codemirror_mode": {
    "name": "ipython",
    "version": 3
   },
   "file_extension": ".py",
   "mimetype": "text/x-python",
   "name": "python",
   "nbconvert_exporter": "python",
   "pygments_lexer": "ipython3",
   "version": "3.9.12"
  }
 },
 "nbformat": 4,
 "nbformat_minor": 2
}
