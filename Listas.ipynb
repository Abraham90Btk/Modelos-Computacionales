{
 "cells": [
  {
   "cell_type": "markdown",
   "metadata": {},
   "source": [
    "## Listas\n",
    "\n",
    "¿Cómo puedo almacenar múltiples valores en una sola variable?\n",
    "\n",
    "\n",
    "### Objetivos de aprendizaje\n",
    "- Explicar por qué los programas necesitan colecciones de valores\n",
    "- Escribir programas que creen listas, las indexen, las corten y las modifiquen a través de asignaciones y llamadas a métodos.\n",
    "---"
   ]
  },
  {
   "cell_type": "markdown",
   "metadata": {},
   "source": [
    "Hasta ahora hemos visto cómo trabajar con variables que contienen un solo objeto (como `edad = 20` o `ADN = \"ATGC\"`). Pero, ¿no sería mejor si pudieramos almacenar varios objetos en una variable (por ejemplo, una variable con la edad de todos los participantes)?\n",
    "\n",
    "**Existen 4 tipos de colección de uso común en Python que verá en las siguientes diapositivas:\n",
    "\n",
    "- **Listas** (lists).\n",
    "- tuplas (tuples).\n",
    "- Conjuntos (sets).\n",
    "- Diccionarios (dictionaries).\n",
    "\n",
    "¿Recuerdas el slicing que hicimos para los strings? Exactamente la misma idea se aplica a las listas. Y no importa qué tipo de slicing haga, mientras no reescriba su variable, permanecerá sin cambios."
   ]
  },
  {
   "cell_type": "markdown",
   "metadata": {},
   "source": [
    "### Una lista almacena muchos valores en una sola estructura\n",
    "\n",
    "- Hemos visto cómo almacenar valores asignándolos a variables.\n",
    "- Con conjuntos de datos de cualquier tamaño razonable, se volvería rápidamente ineficiente y confuso almacenar cada punto de datos con un nombre de variable separado.\n",
    "\n",
    "- Por ejemplo, aquí están las expectativas de vida promedio para Canadá de más de 100 años, del conjunto de datos de Gapminder:"
   ]
  },
  {
   "cell_type": "code",
   "execution_count": 2,
   "metadata": {},
   "outputs": [],
   "source": [
    "life_exp_1900 = 48.1\n",
    "life_exp_1920 = 56.6\n",
    "life_exp_1940 = 64.0\n",
    "life_exp_1960 = 71.0\n",
    "life_exp_1980 = 75.2\n",
    "life_exp_2000 = 79.2"
   ]
  },
  {
   "cell_type": "code",
   "execution_count": null,
   "metadata": {},
   "outputs": [],
   "source": [
    "¿Qué desventajas observamos del conjunto de datos anterior?"
   ]
  },
  {
   "cell_type": "markdown",
   "metadata": {},
   "source": [
    "- Podemos usar una lista para almacenar muchos valores juntos.\n",
    "\n",
    "- Las listas se definen por uno o más elementos contenidos entre corchetes [], con valores individuales (elementos de lista) separados por comas `,`:"
   ]
  },
  {
   "cell_type": "code",
   "execution_count": 5,
   "metadata": {},
   "outputs": [
    {
     "name": "stdout",
     "output_type": "stream",
     "text": [
      "[15, 25, 45, 16, 18, 20, 25]\n"
     ]
    }
   ],
   "source": [
    "age = [15, 25, 45, 16, 18, 20, 25]\n",
    "print(age)"
   ]
  },
  {
   "cell_type": "code",
   "execution_count": 8,
   "metadata": {},
   "outputs": [
    {
     "name": "stdout",
     "output_type": "stream",
     "text": [
      "[15, 25, 45, 16, 18]\n",
      "[15, 25, 45, 16, 18, 20, 25]\n"
     ]
    }
   ],
   "source": [
    "age[:5]   #  que valores devuelve?\n",
    "print(age[:5]  )\n",
    "age[3:7]  #  que valores devuelve?\n",
    "age[::-1]  #  que valores devuelve?\n",
    "age[-2]    #  que valores devuelve?\n",
    "print(age) #  que valores devuelve?"
   ]
  },
  {
   "cell_type": "markdown",
   "metadata": {},
   "source": [
    "### Operaciones básicas con listas\n"
   ]
  },
  {
   "cell_type": "code",
   "execution_count": 9,
   "metadata": {},
   "outputs": [
    {
     "name": "stdout",
     "output_type": "stream",
     "text": [
      "23.43\n"
     ]
    }
   ],
   "source": [
    "age = [15, 25, 45, 16, 18, 20, 25]\n",
    "\n",
    "len(age) # \n",
    "min(age) #\n",
    "max(age) # \n",
    "sum(age) #\n",
    "\n",
    "avg_age = sum(age) / len(age)\n",
    "print(round(avg_age,2))"
   ]
  },
  {
   "cell_type": "code",
   "execution_count": null,
   "metadata": {},
   "outputs": [],
   "source": [
    "### Las listas pueden almacenar diferentes tipos de objectos"
   ]
  },
  {
   "cell_type": "markdown",
   "metadata": {},
   "source": [
    "¿Recuerdas qué es un objeto?"
   ]
  },
  {
   "cell_type": "markdown",
   "metadata": {},
   "source": [
    "**Student answer**\n"
   ]
  },
  {
   "cell_type": "code",
   "execution_count": 11,
   "metadata": {},
   "outputs": [
    {
     "name": "stdout",
     "output_type": "stream",
     "text": [
      "[1, 'Hello', [1, 2, False], 1, False]\n"
     ]
    }
   ],
   "source": [
    "i_am_valid_list = [1, \"Hello\", [1,2,False], True-0, 42<3.14]\n",
    "print(i_am_valid_list)"
   ]
  },
  {
   "cell_type": "markdown",
   "metadata": {},
   "source": [
    "### Las listas pueden contener valores de diferentes tipos\n",
    "Una sola lista puede contener prácticamente cualquier tipo de datos de Python, incluidos números enteros, flotantes, cadenas e incluso otras listas."
   ]
  },
  {
   "cell_type": "code",
   "execution_count": 15,
   "metadata": {},
   "outputs": [
    {
     "name": "stdout",
     "output_type": "stream",
     "text": [
      "['First Name', 'Costanza', 'Last Name', 'Raghnall', 'Age', 42, 'Height', 1.65, 'Children', ['Apoorva', 'Columbanus']]\n"
     ]
    },
    {
     "data": {
      "text/plain": [
       "10"
      ]
     },
     "execution_count": 15,
     "metadata": {},
     "output_type": "execute_result"
    }
   ],
   "source": [
    "personal_info = ['First Name', 'Costanza', \n",
    "                'Last Name', 'Raghnall', \n",
    "                'Age', 42, \n",
    "                'Height', 1.65, \n",
    "                'Children', ['Apoorva', 'Columbanus']\n",
    "               ]\n",
    "print(personal_info)\n",
    "len(personal_info)"
   ]
  },
  {
   "cell_type": "markdown",
   "metadata": {},
   "source": [
    "### La indexación es similar para listas y cadenas.\n"
   ]
  },
  {
   "cell_type": "code",
   "execution_count": 17,
   "metadata": {},
   "outputs": [
    {
     "name": "stdout",
     "output_type": "stream",
     "text": [
      "zeroth character: c\n",
      "third character: b\n"
     ]
    }
   ],
   "source": [
    "#Previamente vimos\n",
    "\n",
    "element = 'carbon'\n",
    "print('zeroth character:', element[0])\n",
    "print('third character:', element[3])"
   ]
  },
  {
   "cell_type": "markdown",
   "metadata": {},
   "source": [
    "### Use el índice de un elemento para obtenerlo de una lista\n"
   ]
  },
  {
   "cell_type": "code",
   "execution_count": 5,
   "metadata": {},
   "outputs": [
    {
     "name": "stdout",
     "output_type": "stream",
     "text": [
      "zeroth item of life_exp: 48.1\n",
      "fourth item of life_exp: 75.2\n"
     ]
    }
   ],
   "source": [
    "life_exp = [48.1, 56.6, 64.0, 71.0, 75.2, 79.2]\n",
    "print('zeroth item of life_exp:', life_exp[0])\n",
    "print('fourth item of life_exp:', life_exp[4])"
   ]
  },
  {
   "cell_type": "markdown",
   "metadata": {},
   "source": [
    "### Slicing is similar for lists and strings\n",
    "- Recuerde que podemos hacer slicing de una cadena para obtener un rango de valores, por ejemplo,"
   ]
  },
  {
   "cell_type": "code",
   "execution_count": 20,
   "metadata": {},
   "outputs": [
    {
     "name": "stdout",
     "output_type": "stream",
     "text": [
      "First three items: car\n"
     ]
    }
   ],
   "source": [
    "print('First three items:', element[0:3])"
   ]
  },
  {
   "cell_type": "markdown",
   "metadata": {},
   "source": [
    "- Podemos hacer lo mismo con las listas\n"
   ]
  },
  {
   "cell_type": "code",
   "execution_count": 21,
   "metadata": {},
   "outputs": [
    {
     "name": "stdout",
     "output_type": "stream",
     "text": [
      "First three items in life_exp: [48.1, 56.6, 64.0, 71.0]\n",
      "Last item in life_exp: 79.2\n"
     ]
    }
   ],
   "source": [
    "print('First three items in life_exp:', life_exp[0:4])\n",
    "print('Last item in life_exp:', life_exp[-1])"
   ]
  },
  {
   "cell_type": "markdown",
   "metadata": {},
   "source": [
    "- la indexación se puede utilizar para reemplazar un valor en una lista"
   ]
  },
  {
   "cell_type": "code",
   "execution_count": 22,
   "metadata": {},
   "outputs": [
    {
     "name": "stdout",
     "output_type": "stream",
     "text": [
      "[48.3, 56.6, 64.0, 71.0, 75.2, 79.2]\n"
     ]
    }
   ],
   "source": [
    "life_exp[0] = 48.3\n",
    "print(life_exp)"
   ]
  },
  {
   "cell_type": "markdown",
   "metadata": {},
   "source": [
    "###  ¿método == función?\n",
    "\n",
    "Seguramente has escuchado hablar de \"método\" y \"función\" y que la mayoría de las veces podrían usarse indistintamente. Pero, de hecho, no son lo mismo. Piense en los métodos como una función, que podría aplicarse solo en un tipo de datos específico. Mientras que la función `len()`, por ejemplo, se puede aplicar en strings, listas y muchos otros objetos. Llamamos función por `function(object)` y método por `object.method()`.\n"
   ]
  },
  {
   "cell_type": "code",
   "execution_count": 39,
   "metadata": {},
   "outputs": [],
   "source": [
    "participants = ['Bob', 'Bill', 'Sarah', 'Max', 'Jill']\n",
    "# métodos para modificar listas.\n",
    "participants.append('Jack') # Agregar un elemento al final\n",
    "# ['Bob', 'Bill', 'Sarah', 'Max', 'Jill', 'Jack']\n",
    "participants.extend(['Anna', 'Bill']) # Agregar múltiples elementos al final\n",
    "# ['Bob', 'Bill', 'Sarah', 'Max', 'Jill', 'Jack', 'Anna', 'Bill']\n",
    "participants.insert(0, 'Louis') # Insertar elementos en el índice 0 (desplaza todo a la derecha)\n",
    "# ['Louis', 'Bob', 'Bill', 'Sarah', 'Max', 'Jill', 'Jack', 'Anna', 'Bill']\n",
    "participants.remove('Jill') # busca la primera instancia y la elimina\n",
    "# ['Louis', 'Bob', 'Bill', 'Sarah', 'Max', Jack', 'Anna', 'Bill']\n",
    "participants.pop(1) # elimina el elemento en el índice 0 y lo regresa.\n",
    "# ['Louis', 'Bill', 'Sarah', 'Max', Jack', 'Anna', 'Bill']\n",
    "\n",
    "# No es un método pero es otra manera de modificar los valores de una lista,\n",
    "participants[2] = 'Ben' # reemplaza el elemento del indice 2\n",
    "# ['Louis', Bill', 'Ben', 'Max', Jack', 'Anna', 'Bill']"
   ]
  },
  {
   "cell_type": "code",
   "execution_count": 1,
   "metadata": {},
   "outputs": [
    {
     "ename": "NameError",
     "evalue": "name 'participants' is not defined",
     "output_type": "error",
     "traceback": [
      "\u001b[1;31m---------------------------------------------------------------------------\u001b[0m",
      "\u001b[1;31mNameError\u001b[0m                                 Traceback (most recent call last)",
      "Input \u001b[1;32mIn [1]\u001b[0m, in \u001b[0;36m<cell line: 2>\u001b[1;34m()\u001b[0m\n\u001b[0;32m      1\u001b[0m \u001b[38;5;66;03m#métodos que no cambian un string  y devuelven un nuevo objeto\u001b[39;00m\n\u001b[1;32m----> 2\u001b[0m \u001b[38;5;28mprint\u001b[39m(\u001b[43mparticipants\u001b[49m\u001b[38;5;241m.\u001b[39mcount(\u001b[38;5;124m'\u001b[39m\u001b[38;5;124mBill\u001b[39m\u001b[38;5;124m'\u001b[39m)) \u001b[38;5;66;03m# returns the number of instances;\u001b[39;00m\n\u001b[0;32m      3\u001b[0m \u001b[38;5;28mprint\u001b[39m(participants\u001b[38;5;241m.\u001b[39mindex(\u001b[38;5;124m'\u001b[39m\u001b[38;5;124mMax\u001b[39m\u001b[38;5;124m'\u001b[39m))\n",
      "\u001b[1;31mNameError\u001b[0m: name 'participants' is not defined"
     ]
    }
   ],
   "source": [
    "#métodos que no cambian un string  y devuelven un nuevo objeto\n",
    "print(participants.count('Bill')) # returns the number of instances;\n",
    "print(participants.index('Max'))  # returns index of first instance;"
   ]
  },
  {
   "cell_type": "markdown",
   "metadata": {},
   "source": [
    "### Métodos\n",
    "-  `.append() ` es un método de una lista.\n",
    "\n",
    "- Los métodos son como funciones, pero están vinculados a un tipo particular de objeto. En otras palabras, el hecho de que haya un método `.append()` para las listas no significa que podamos usar `.append()` con otros objetos de Python que no sean listas.\n",
    "- La forma de llamar a los métodos es la siguiente: `object_name.method_name()`.\n",
    "\n",
    "- Utiliza `help(list)` para visualizar los métodos disponibles para objetos del tipo lista."
   ]
  },
  {
   "cell_type": "code",
   "execution_count": 2,
   "metadata": {},
   "outputs": [
    {
     "name": "stdout",
     "output_type": "stream",
     "text": [
      "Help on class list in module builtins:\n",
      "\n",
      "class list(object)\n",
      " |  list(iterable=(), /)\n",
      " |  \n",
      " |  Built-in mutable sequence.\n",
      " |  \n",
      " |  If no argument is given, the constructor creates a new empty list.\n",
      " |  The argument must be an iterable if specified.\n",
      " |  \n",
      " |  Methods defined here:\n",
      " |  \n",
      " |  __add__(self, value, /)\n",
      " |      Return self+value.\n",
      " |  \n",
      " |  __contains__(self, key, /)\n",
      " |      Return key in self.\n",
      " |  \n",
      " |  __delitem__(self, key, /)\n",
      " |      Delete self[key].\n",
      " |  \n",
      " |  __eq__(self, value, /)\n",
      " |      Return self==value.\n",
      " |  \n",
      " |  __ge__(self, value, /)\n",
      " |      Return self>=value.\n",
      " |  \n",
      " |  __getattribute__(self, name, /)\n",
      " |      Return getattr(self, name).\n",
      " |  \n",
      " |  __getitem__(...)\n",
      " |      x.__getitem__(y) <==> x[y]\n",
      " |  \n",
      " |  __gt__(self, value, /)\n",
      " |      Return self>value.\n",
      " |  \n",
      " |  __iadd__(self, value, /)\n",
      " |      Implement self+=value.\n",
      " |  \n",
      " |  __imul__(self, value, /)\n",
      " |      Implement self*=value.\n",
      " |  \n",
      " |  __init__(self, /, *args, **kwargs)\n",
      " |      Initialize self.  See help(type(self)) for accurate signature.\n",
      " |  \n",
      " |  __iter__(self, /)\n",
      " |      Implement iter(self).\n",
      " |  \n",
      " |  __le__(self, value, /)\n",
      " |      Return self<=value.\n",
      " |  \n",
      " |  __len__(self, /)\n",
      " |      Return len(self).\n",
      " |  \n",
      " |  __lt__(self, value, /)\n",
      " |      Return self<value.\n",
      " |  \n",
      " |  __mul__(self, value, /)\n",
      " |      Return self*value.\n",
      " |  \n",
      " |  __ne__(self, value, /)\n",
      " |      Return self!=value.\n",
      " |  \n",
      " |  __repr__(self, /)\n",
      " |      Return repr(self).\n",
      " |  \n",
      " |  __reversed__(self, /)\n",
      " |      Return a reverse iterator over the list.\n",
      " |  \n",
      " |  __rmul__(self, value, /)\n",
      " |      Return value*self.\n",
      " |  \n",
      " |  __setitem__(self, key, value, /)\n",
      " |      Set self[key] to value.\n",
      " |  \n",
      " |  __sizeof__(self, /)\n",
      " |      Return the size of the list in memory, in bytes.\n",
      " |  \n",
      " |  append(self, object, /)\n",
      " |      Append object to the end of the list.\n",
      " |  \n",
      " |  clear(self, /)\n",
      " |      Remove all items from list.\n",
      " |  \n",
      " |  copy(self, /)\n",
      " |      Return a shallow copy of the list.\n",
      " |  \n",
      " |  count(self, value, /)\n",
      " |      Return number of occurrences of value.\n",
      " |  \n",
      " |  extend(self, iterable, /)\n",
      " |      Extend list by appending elements from the iterable.\n",
      " |  \n",
      " |  index(self, value, start=0, stop=9223372036854775807, /)\n",
      " |      Return first index of value.\n",
      " |      \n",
      " |      Raises ValueError if the value is not present.\n",
      " |  \n",
      " |  insert(self, index, object, /)\n",
      " |      Insert object before index.\n",
      " |  \n",
      " |  pop(self, index=-1, /)\n",
      " |      Remove and return item at index (default last).\n",
      " |      \n",
      " |      Raises IndexError if list is empty or index is out of range.\n",
      " |  \n",
      " |  remove(self, value, /)\n",
      " |      Remove first occurrence of value.\n",
      " |      \n",
      " |      Raises ValueError if the value is not present.\n",
      " |  \n",
      " |  reverse(self, /)\n",
      " |      Reverse *IN PLACE*.\n",
      " |  \n",
      " |  sort(self, /, *, key=None, reverse=False)\n",
      " |      Sort the list in ascending order and return None.\n",
      " |      \n",
      " |      The sort is in-place (i.e. the list itself is modified) and stable (i.e. the\n",
      " |      order of two equal elements is maintained).\n",
      " |      \n",
      " |      If a key function is given, apply it once to each list item and sort them,\n",
      " |      ascending or descending, according to their function values.\n",
      " |      \n",
      " |      The reverse flag can be set to sort in descending order.\n",
      " |  \n",
      " |  ----------------------------------------------------------------------\n",
      " |  Class methods defined here:\n",
      " |  \n",
      " |  __class_getitem__(...) from builtins.type\n",
      " |      See PEP 585\n",
      " |  \n",
      " |  ----------------------------------------------------------------------\n",
      " |  Static methods defined here:\n",
      " |  \n",
      " |  __new__(*args, **kwargs) from builtins.type\n",
      " |      Create and return a new object.  See help(type) for accurate signature.\n",
      " |  \n",
      " |  ----------------------------------------------------------------------\n",
      " |  Data and other attributes defined here:\n",
      " |  \n",
      " |  __hash__ = None\n",
      "\n"
     ]
    }
   ],
   "source": [
    "help(list)"
   ]
  },
  {
   "cell_type": "markdown",
   "metadata": {},
   "source": [
    "### Agregar(***appending***) elementos a una lista la hace mas grande\n",
    "\n",
    "- Podemos usar el método `.append()` para agregar un elemento al final de una lista\n",
    "\n",
    "- Aquí añadiremos la esperanza de vida para 2020 en Canadá para ampliar nuestra lista:\n"
   ]
  },
  {
   "cell_type": "code",
   "execution_count": 23,
   "metadata": {},
   "outputs": [
    {
     "name": "stdout",
     "output_type": "stream",
     "text": [
      "[48.3, 56.6, 64.0, 71.0, 75.2, 79.2]\n",
      "[48.3, 56.6, 64.0, 71.0, 75.2, 79.2, 82.3]\n"
     ]
    }
   ],
   "source": [
    "print(life_exp)\n",
    "life_exp.append(82.3)\n",
    "print(life_exp)"
   ]
  },
  {
   "cell_type": "markdown",
   "metadata": {},
   "source": [
    "### Extender una lista\n",
    "\n",
    "- EL método `.append()` te permite agregar un elemento al final de una lista\n",
    "- Mira que pasa si tratas de agregar una lista a una lista existente:\n",
    "\n"
   ]
  },
  {
   "cell_type": "code",
   "execution_count": 6,
   "metadata": {},
   "outputs": [
    {
     "name": "stdout",
     "output_type": "stream",
     "text": [
      "[48.1, 56.6, 64.0, 71.0, 75.2, 79.2, [85.1, 87.3, 89.5, 91.6]]\n"
     ]
    }
   ],
   "source": [
    "life_exp_2000s = [85.1, 87.3, 89.5, 91.6]\n",
    "life_exp.append(life_exp_2000s)\n",
    "print(life_exp)"
   ]
  },
  {
   "cell_type": "markdown",
   "metadata": {},
   "source": [
    "- A este se le conoce como a *nested list*, lo cual quiere decir que la lista agregada se almacena como un elemento de una lista en la lista original. Esto es consecuencia del hecho de que las listas pueden contener varios tipos.\n",
    "\n",
    "- En este caso lo que queremos es una lista plana, una única lista de flotantes.\n",
    "\n",
    "- El método .extend() hará esto. Es similar a append, pero te permite combinar dos listas. Por ejemplo:"
   ]
  },
  {
   "cell_type": "code",
   "execution_count": 7,
   "metadata": {},
   "outputs": [
    {
     "name": "stdout",
     "output_type": "stream",
     "text": [
      "[48.1, 56.6, 64.0, 71.0, 75.2, 79.2, 82.3, 85.1, 87.3, 89.5, 91.6]\n"
     ]
    }
   ],
   "source": [
    "life_exp = [48.1, 56.6, 64.0, 71.0, 75.2, 79.2]\n",
    "life_exp_2000s = [82.3, 85.1, 87.3, 89.5, 91.6]\n",
    "\n",
    "life_exp.extend(life_exp_2000s)\n",
    "print(life_exp)"
   ]
  },
  {
   "cell_type": "markdown",
   "metadata": {},
   "source": [
    "### Insertar una nueva entrada de lista en una posición específica\n",
    "El resultado de la help(list) incluye un método `.insert()`, que toma dos argumentos: un valor para insertar y el índice (posición) en la lista en la que desea insertar el elemento antes. Por ejemplo, para agregar el valor 46.9 al comienzo de nuestra lista life_exp, usaríamos:"
   ]
  },
  {
   "cell_type": "code",
   "execution_count": 8,
   "metadata": {},
   "outputs": [
    {
     "name": "stdout",
     "output_type": "stream",
     "text": [
      "[46.9, 48.1, 56.6, 64.0, 71.0, 75.2, 79.2, 82.3, 85.1, 87.3, 89.5, 91.6]\n"
     ]
    }
   ],
   "source": [
    "life_exp.insert(0, 46.9)\n",
    "print(life_exp)"
   ]
  },
  {
   "cell_type": "markdown",
   "metadata": {},
   "source": [
    "## Remover elementos de una lista\n",
    "\n",
    "Hay dos métodos para las listas que se puede utilixar para eliminar un elmento de una lista:\n",
    "- `.remove()` elimina la primer instancia con un valor especifico que tu le asignas como un argumento.\n",
    "- `.pop()` elimina un elemento en una posición(índice) específica por medio de un argumento."
   ]
  },
  {
   "cell_type": "code",
   "execution_count": null,
   "metadata": {},
   "outputs": [],
   "source": [
    "life_exp = [48.1, 56.6, 64.0, 71.0, 75.2, 79.2, 82.3]\n",
    "life_exp_2000s = [82.3, 85.1, 87.3, 89.5, 91.6, 91.6]\n",
    "life_exp.extend(life_exp_2000s)\n",
    "print('With duplicated values:', life_exp)"
   ]
  },
  {
   "cell_type": "markdown",
   "metadata": {},
   "source": [
    "Eliminar el elemento duplicado de ambas listas utilizando `.remove()` y `.pop()`"
   ]
  },
  {
   "cell_type": "code",
   "execution_count": null,
   "metadata": {},
   "outputs": [],
   "source": []
  },
  {
   "cell_type": "code",
   "execution_count": null,
   "metadata": {},
   "outputs": [],
   "source": []
  },
  {
   "cell_type": "markdown",
   "metadata": {},
   "source": [
    "## Una lista vacía no contiene valores\n",
    "\n",
    "Podemos asignar `[]` a un nombre de variable, para representar una lista que no contiene ningún valor.\n",
    "\n",
    "Este puede ser un buen punto de partida si queremos crear una lista agregando valores a medida que los calculamos.\n",
    "\n",
    "El siguiente ejemplo es trivial, pero en lecciones posteriores veremos mejores usos para las listas vacías."
   ]
  },
  {
   "cell_type": "code",
   "execution_count": null,
   "metadata": {},
   "outputs": [],
   "source": [
    "x = []\n",
    "y = 1\n",
    "x.append(y)\n",
    "x.append(y + 7)\n",
    "print(x)"
   ]
  },
  {
   "cell_type": "markdown",
   "metadata": {},
   "source": [
    "## Diferencia entre cadenas y listas\n",
    "\n",
    "- Tanto las cadenas como las listas se denominan **colecciones** en Python, por lo que se pueden indexar\n",
    "- Aunque la indexación funciona de manera similar para cadenas y listas, los dos tipos de datos son diferentes en otros aspectos.\n",
    "- Es importante destacar que las cadenas son **inmutables**: no se pueden cambiar una vez creadas.\n",
    "     - Python considera que la cadena es un valor único con partes, no una colección de valores\n",
    "- Por el contrario, las listas son **mutables**: como vimos anteriormente, se pueden cambiar de la siguiente manera:\n",
    "     - usar la indexación para cambiar un solo elemento de la lista\n",
    "     - añadir elementos a una lista con `.append()` o `.extend()`\n",
    "     - eliminar elementos de una lista con `remove`\n",
    "\n",
    "Entonces, debido a que definimos 'elemento' arriba como una cadena, no podemos cambiar una letra en la cadena:\n",
    "    \n",
    "~~~python\n",
    "elemento[0] = 'C'\n",
    "~~~"
   ]
  },
  {
   "cell_type": "code",
   "execution_count": null,
   "metadata": {},
   "outputs": [],
   "source": [
    "element[0] = 'C'\n"
   ]
  },
  {
   "cell_type": "code",
   "execution_count": null,
   "metadata": {},
   "outputs": [],
   "source": [
    "print('99th element of life_exp is:', life_exp[99])"
   ]
  },
  {
   "cell_type": "code",
   "execution_count": null,
   "metadata": {},
   "outputs": [],
   "source": []
  },
  {
   "cell_type": "raw",
   "metadata": {},
   "source": [
    "## Investigar \n",
    "\n",
    "### Tuples\n",
    "### Conjuntos\n",
    "### Diccionarios"
   ]
  },
  {
   "cell_type": "code",
   "execution_count": null,
   "metadata": {},
   "outputs": [],
   "source": []
  },
  {
   "cell_type": "code",
   "execution_count": null,
   "metadata": {},
   "outputs": [],
   "source": []
  }
 ],
 "metadata": {
  "kernelspec": {
   "display_name": "trial",
   "language": "python",
   "name": "trial"
  },
  "language_info": {
   "codemirror_mode": {
    "name": "ipython",
    "version": 3
   },
   "file_extension": ".py",
   "mimetype": "text/x-python",
   "name": "python",
   "nbconvert_exporter": "python",
   "pygments_lexer": "ipython3",
   "version": "3.9.12"
  }
 },
 "nbformat": 4,
 "nbformat_minor": 2
}
