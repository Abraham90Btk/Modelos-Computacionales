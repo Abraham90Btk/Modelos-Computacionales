{
 "cells": [
  {
   "attachments": {
    "image.png": {
     "image/png": "[encoded data removed]"
    }
   },
   "cell_type": "markdown",
   "metadata": {},
   "source": [
    "## Tipos de datos y conversión\n",
    "\n",
    "### Objetivos de aprendizaje\n",
    "\n",
    "* Explicar las diferencias clave entre números enteros y números de coma flotante.\n",
    "\n",
    "* Explicar las diferencias clave entre números y cadenas de caracteres.\n",
    "\n",
    "* Utilice funciones integradas (Built-in) para convertir entre números enteros, números flotantes y cadenas.\n",
    "\n",
    "\n",
    "### Cada valor tiene un tipo\n",
    "![image.png](attachment:image.png)\n",
    "* En Python las variables, literales, y constantes tiene un “type”\n",
    "*   Integer (`int`): representa números positivos o negativos  cómo `3` o `-512`\n",
    "*   Floating point number (`float`): representa números reales cómo `3.14159` or `-2.5`, tienen parte decimal\n",
    "*   Character (`char`): caracteres sencillos, por ejemplo `\"a\"`, `\"j\"`, `\"8\"`, `\"(\"`\n",
    "    * Se pueden escribir con comillas sencillas o dobles (siempre y cuando coincidan) \n",
    "    * Los números entre comillas se tratarán como caracteres, no como números enteros ni flotantes.\n",
    "*   Cadenas de caracteres (usualmente llamadas \"string\", `str`): text\n",
    "    *   Se pueden escribir con comillas sencillas o dobles (siempre y cuando coincidan) \n",
    "    *   Las comillas no se imprimen cuando se muestra la cadena"
   ]
  },
  {
   "cell_type": "markdown",
   "metadata": {},
   "source": [
    "### Use el tipo de función incorporada para encontrar el tipo de un valor\n",
    "\n",
    "#### Use the built-in function `type` to find the type of a value\n",
    "\n",
    "*   Use el tipo de función `type` incorporada para averiguar qué tipo tiene un valor \n",
    "*   Funciona en variables también\n",
    "    *   Pero recuerda: el *valor* tiene el tipo; la *variable* es solo una etiqueta"
   ]
  },
  {
   "cell_type": "code",
   "execution_count": 2,
   "metadata": {},
   "outputs": [
    {
     "name": "stdout",
     "output_type": "stream",
     "text": [
      "<class 'int'>\n"
     ]
    }
   ],
   "source": [
    "print(type(52))"
   ]
  },
  {
   "cell_type": "code",
   "execution_count": 1,
   "metadata": {},
   "outputs": [
    {
     "name": "stdout",
     "output_type": "stream",
     "text": [
      "<class 'str'>\n"
     ]
    }
   ],
   "source": [
    "fitness = type('average')\n",
    "print(fitness)"
   ]
  },
  {
   "cell_type": "markdown",
   "metadata": {},
   "source": [
    "#### Operaciones que se pueden realizar dependiendo del tipo de valor"
   ]
  },
  {
   "cell_type": "code",
   "execution_count": 1,
   "metadata": {},
   "outputs": [
    {
     "name": "stdout",
     "output_type": "stream",
     "text": [
      "<class 'str'>\n",
      "Neurociencia Modelos Computacionales Neuroplasticidad\n",
      "NeurocienciaNeurocienciaNeurociencia\n",
      "53\n"
     ]
    }
   ],
   "source": [
    "Semestre5 = \"Neurociencia\"\n",
    "Materia = \"Modelos Computacionales\"\n",
    "Materia2= \"Neuroplasticidad\"\n",
    "print(type(Semestre5))\n",
    "#Suma, resta, multiplicacion, division, exponenciacion\n",
    "\n",
    "sumaSemestre = Semestre5 + \" \" + Materia + \" \" + Materia2\n",
    "multSemestre = Semestre5 * 3\n",
    "#divSemestre = Semestre5 / 3\n",
    "\n",
    "print(sumaSemestre)\n",
    "print(multSemestre)\n",
    "#print(divSemestre)\n",
    "print(len(sumaSemestre))\n",
    "\n",
    "#len(5)"
   ]
  },
  {
   "cell_type": "markdown",
   "metadata": {},
   "source": [
    "\n",
    "#### Puede usar los operadores + y * en cadenas\n",
    "#### Las cadenas tienen una longitud (pero los números no)\n",
    "\n",
    "#### Use un índice para obtener un solo carácter de una cadena\n",
    "\n",
    "*   Los caracteres (letras individuales, números, etc.) en una cadena están ordenados. Por ejemplo,      la cadena `'AB'` no es lo mismo que `'BA'`. Debido a este orden, podemos tratar la cadena como una    lista de caracteres. \n",
    "*   Cada posición en la cadena (primera, segunda, etc.) recibe un número. Este número se llama        **índice**.    \n",
    "*   La numeráción de los índices empieza en 0.\n",
    "*  Use el índice de posición entre corchetes para obtener el carácter en esa posición.\n",
    "    \n",
    "![an illustration of indexing](./imagenes/2_indexing.svg)\n"
   ]
  },
  {
   "cell_type": "code",
   "execution_count": 26,
   "metadata": {},
   "outputs": [
    {
     "name": "stdout",
     "output_type": "stream",
     "text": [
      "m\n"
     ]
    }
   ],
   "source": [
    "atom_name = \"helium\"\n",
    "print(atom_name[-1])"
   ]
  },
  {
   "cell_type": "markdown",
   "metadata": {},
   "source": [
    "#### Usa un segmento (Slice) para obtener una subcadena\n",
    "\n",
    "* Una parte de una cadena se llama subcadena. Una subcadena puede ser tan corta como un solo carácter.\n",
    "\n",
    "* Un elemento de una lista se denomina elemento. Siempre que tratamos una cadena como si fuera una lista, los elementos de la cadena son sus caracteres individuales.\n",
    "\n",
    "* Un segmento es una parte de una cadena (o, más generalmente, cualquier cosa similar a una lista).\n",
    "\n",
    "* Tomamos un segmento usando `[start:stop]`, donde `start` se reemplaza con el índice del primer elemento que queremos y `stop` se reemplaza con el índice del elemento justo después del último elemento que queremos.\n",
    "\n",
    "* La diferencia entre `stop` y `start` es la longitud del segmento.\n",
    "\n",
    "* Tomar un segmento no cambia el contenido de la cadena original. En cambio, el segmento es una copia de parte de la cadena original."
   ]
  },
  {
   "cell_type": "code",
   "execution_count": 32,
   "metadata": {},
   "outputs": [
    {
     "name": "stdout",
     "output_type": "stream",
     "text": [
      "li\n"
     ]
    }
   ],
   "source": [
    "print(atom_name[2:-2])"
   ]
  },
  {
   "cell_type": "markdown",
   "metadata": {},
   "source": [
    "#### Segmentación de números (Slicing numbers)?\n",
    "\n",
    "Si asigna `a = 123`, ¿qué sucede si intenta obtener el segundo dígito de `a` mediante `a[1]`?"
   ]
  },
  {
   "cell_type": "code",
   "execution_count": 34,
   "metadata": {},
   "outputs": [
    {
     "ename": "TypeError",
     "evalue": "'int' object is not subscriptable",
     "output_type": "error",
     "traceback": [
      "\u001b[1;31m---------------------------------------------------------------------------\u001b[0m",
      "\u001b[1;31mTypeError\u001b[0m                                 Traceback (most recent call last)",
      "Input \u001b[1;32mIn [34]\u001b[0m, in \u001b[0;36m<cell line: 2>\u001b[1;34m()\u001b[0m\n\u001b[0;32m      1\u001b[0m aux \u001b[38;5;241m=\u001b[39m \u001b[38;5;241m123\u001b[39m\n\u001b[1;32m----> 2\u001b[0m \u001b[38;5;28mprint\u001b[39m(\u001b[43maux\u001b[49m\u001b[43m[\u001b[49m\u001b[38;5;241;43m1\u001b[39;49m\u001b[43m]\u001b[49m)\n",
      "\u001b[1;31mTypeError\u001b[0m: 'int' object is not subscriptable"
     ]
    }
   ],
   "source": [
    "aux = 123\n",
    "print(aux[1])"
   ]
  },
  {
   "cell_type": "markdown",
   "metadata": {},
   "source": [
    "#### Slicing practice\n",
    "\n",
    "¿Qué imprime el siguiente programa?\n",
    "\n",
    "~~~python\n",
    "atom_name = 'carbon'\n",
    "print('atom_name[1:3] is:', atom_name[1:3])\n",
    "~~~\n",
    "\n",
    "#### Slicing concepts\n",
    "\n",
    "~~~python\n",
    "cell_name = 'neuron'\n",
    "~~~\n",
    "* ¿Que hace la siguiente instrucción cell_name[1:5]?\n",
    "* ¿Que hace la siguiente instrucción cell_name[0:5]?\n",
    "* ¿Que hace la siguiente instrucción cell_name[0:6]?\n",
    "* ¿Que hace la siguiente instrucción cell_name[:] ?\n",
    "* ¿Que hace la siguiente instrucción cell_name[1:-1] ?\n",
    "* ¿Qué sucede cuando elige un valor alto (por ejemplo, el valor después de los dos puntos) que está fuera de rango?"
   ]
  },
  {
   "cell_type": "markdown",
   "metadata": {},
   "source": [
    "#### Debe convertir números en cadenas o viceversa cuando trabajes con estos\n",
    "\n",
    "No se pueden agregar números y cadenas."
   ]
  },
  {
   "cell_type": "code",
   "execution_count": 3,
   "metadata": {},
   "outputs": [
    {
     "ename": "TypeError",
     "evalue": "unsupported operand type(s) for +: 'int' and 'str'",
     "output_type": "error",
     "traceback": [
      "\u001b[1;31m---------------------------------------------------------------------------\u001b[0m",
      "\u001b[1;31mTypeError\u001b[0m                                 Traceback (most recent call last)",
      "Input \u001b[1;32mIn [3]\u001b[0m, in \u001b[0;36m<cell line: 1>\u001b[1;34m()\u001b[0m\n\u001b[1;32m----> 1\u001b[0m \u001b[38;5;28mprint\u001b[39m(\u001b[38;5;241;43m1\u001b[39;49m\u001b[43m \u001b[49m\u001b[38;5;241;43m+\u001b[39;49m\u001b[43m \u001b[49m\u001b[38;5;124;43m'\u001b[39;49m\u001b[38;5;124;43m2\u001b[39;49m\u001b[38;5;124;43m'\u001b[39;49m)\n",
      "\u001b[1;31mTypeError\u001b[0m: unsupported operand type(s) for +: 'int' and 'str'"
     ]
    }
   ],
   "source": [
    "print(1 + '2')"
   ]
  },
  {
   "cell_type": "markdown",
   "metadata": {},
   "source": [
    "Esto no está permitido porque es ambiguo para Python: ¿`1` + `2` debería ser `3` o `12`?\n",
    "\n",
    "Algunos tipos se pueden convertir en otros tipos usando el `type name`  como una función:"
   ]
  },
  {
   "cell_type": "code",
   "execution_count": 5,
   "metadata": {},
   "outputs": [
    {
     "name": "stdout",
     "output_type": "stream",
     "text": [
      "3\n"
     ]
    }
   ],
   "source": [
    "print(1 + int('2'))"
   ]
  },
  {
   "cell_type": "code",
   "execution_count": 6,
   "metadata": {},
   "outputs": [
    {
     "name": "stdout",
     "output_type": "stream",
     "text": [
      "12\n"
     ]
    }
   ],
   "source": [
    "print(str(1) + '2')"
   ]
  },
  {
   "cell_type": "markdown",
   "metadata": {},
   "source": [
    "#### Puede mezclar enteros y flotantes  en las operaciones\n",
    "\n",
    "Python 3 de manera automática convierte los `integer` a `float` según se requiera.\n",
    "\n"
   ]
  },
  {
   "cell_type": "code",
   "execution_count": 7,
   "metadata": {},
   "outputs": [
    {
     "name": "stdout",
     "output_type": "stream",
     "text": [
      "half is 0.5\n",
      "three squared is 9.0\n"
     ]
    }
   ],
   "source": [
    "print('half is', 1 / 2.0)\n",
    "print('three squared is', 3.0 ** 2)"
   ]
  },
  {
   "cell_type": "markdown",
   "metadata": {},
   "source": [
    "#### Comparacion de objetos\n",
    "\n",
    "Ahora que cómo crear nuevas variables, podemos hacer aún mas. Compararlas. ¡Esto nos abre muchas posibilidades para una mayor manipulación de datos!\n",
    "\n",
    "La comparación siempre devuelve un objeto booleano que puede ser `True` o `false`. Puede combinar múltiples comparaciones usando declaraciones del tipo `&` (AND) o `|` (OR) . Tenga en cuenta que Verdadero es igual a `1` y Falso es igual a `0`.\n",
    "\n",
    "| Operación |  Significado |\n",
    "| --- | --- |\n",
    "| < | menor que |\n",
    "| <= | menor o igual que  |\n",
    "| > | mayor que  |\n",
    "| >= | mayor o igual que  |\n",
    "| == | igual |\n",
    "| != | diferente|\n",
    "\n",
    "Es importante tener en cuenta cuando se trata de comparaciones múltiples. \n",
    "\n",
    "| Operación |  Indicación |\n",
    "| --- | --- |\n",
    "| x | y | if x is False, then y, else x |\n",
    "| x & y | if x is False, then x, else y  |\n",
    "| not x | if x is False, then True, else False\n",
    "  |\n",
    "\n",
    "Imagina que tienes seleccionar solo hombres mayores de 45 años para tu análisis de datos (grupo control). Su código sería algo así:\n",
    "\n",
    "~~~python\n",
    "(sex == \"Male\") & (age > 45)\n",
    "~~~\n",
    "\n",
    "Una mujer de 50 años tendría un resultado Falso y Verdadero de dos comparaciones, lo que daría como resultado un resultado Falso final. Y eso es exactamente lo que querías ya que quieres que dos condiciones sean Verdaderas (se cumplan) al mismo tiempo."
   ]
  },
  {
   "cell_type": "markdown",
   "metadata": {},
   "source": [
    "El ejemplo #1 es bastante sencillo. x es de hecho menor que 100, por lo que el resultado es verdadero.\n",
    "~~~python\n",
    "# example 1\n",
    "x = 45\n",
    "x <= 100\n",
    "~~~\n",
    "\n",
    "En el segundo ejemplo, la condición de la izquierda era Verdadera (x es mayor que 10) y la condición de la derecha era Falsa (y no es menor que 5), lo que da como resultado final Verdadero (en otras palabras, al menos una condición fue Verdadera).\n",
    "\n",
    "~~~python\n",
    "# example 2\n",
    "y = 20\n",
    "(x > 10) | (y < 5)\n",
    "~~~\n",
    "\n",
    "En el tercer ejemplo, queremos verificar si ambas condiciones son verdaderas, lo cual no es el caso, por eso el resultado final es falso. También puede guardar el resultado de una operación de condición en un nuevo objeto (como resultado en este ejemplo) para su uso posterior.\n",
    "\n",
    "~~~python\n",
    "# example 3\n",
    "result = (x > 10) & (y < 5)\n",
    "print(result)\n",
    "print(type(result))\n",
    "~~~\n",
    "\n"
   ]
  },
  {
   "cell_type": "markdown",
   "metadata": {},
   "source": [
    "### Let's code!\n",
    "\n",
    "1. Realiza un experimento con dos grupos: control (\"control\") y tratamiento (\"tratamiento\"). Desea filtrar algunos participantes del grupo de tratamiento que no cumplan con los criterios mínimos de IMC (el IMC debe ser igual o superior a 15). ¿Este participante cumple con este criterio?\n",
    "\n",
    "~~~python\n",
    "age = 30\n",
    "group = \"control\"\n",
    "BMI = 20\n",
    "\n",
    "condition = (group ___ \"treatment\") ___ (___ >= 15)\n",
    "print(condition)\n",
    "~~~\n",
    "\n",
    "2. Ahora quieres ser más sofisticado (por la razón que sea). Actualiza sus criterios para el grupo de tratamiento. Quiere mantener al participante si tiene más de 40 años o su IMC es igual o superior a 15. ¿Este participante se ajusta a las condiciones actualizadas?\n",
    "\n",
    "~~~python\n",
    "age = 30\n",
    "group = \"control\"\n",
    "BMI = 20\n",
    "\n",
    "condition = ((BMI ___ 15) ___ (age ___ 40)) ___ (group ___ \"treatment\")\n",
    "print(condition)\n",
    "~~~\n",
    "\n",
    "3. ¿Qué tipo de valor (entero, número de punto flotante o cadena de caracteres) usaría para representar cada uno de los siguientes? Trate de pensar en la mejor respuesta para cada problema. Por ejemplo, en (1), ¿cuándo tendría más sentido contar los días con una variable de punto flotante que usar un número entero?\n",
    "\n",
    "    1. Número de días desde el inicio del año.\n",
    "\n",
    "    1. Tiempo transcurrido desde el inicio del año hasta ahora en días.\n",
    "\n",
    "    1. Número de serie de un equipo de laboratorio.\n",
    "\n",
    "    1. La edad de una muestra de laboratorio.\n",
    "\n",
    "    1. Población actual de una ciudad.\n",
    "\n",
    "    1. Población media de una ciudad a lo largo del tiempo."
   ]
  },
  {
   "cell_type": "markdown",
   "metadata": {},
   "source": [
    "#### Tipos de División\n",
    "En Python 3\n",
    "\n",
    "- El operador `//` realiza una división de enteros y redondea el resultado.\n",
    "- El operador `/` realiza una división de números de punto flotante.\n",
    "- El operador '%' (or *modulo*) calcula y regresa el residuo de una divisón de números enteros:\n",
    "\n",
    "~~~python\n",
    "print('5 // 3 = ', 5 // 3)\n",
    "~~~\n"
   ]
  },
  {
   "cell_type": "code",
   "execution_count": 9,
   "metadata": {},
   "outputs": [
    {
     "name": "stdout",
     "output_type": "stream",
     "text": [
      "5 / 3 =  1\n"
     ]
    }
   ],
   "source": [
    "print('5 // 3 = ', 5 // 3)"
   ]
  },
  {
   "cell_type": "code",
   "execution_count": 10,
   "metadata": {},
   "outputs": [
    {
     "name": "stdout",
     "output_type": "stream",
     "text": [
      "5 / 3 =  1.6666666666666667\n"
     ]
    }
   ],
   "source": [
    "print('5 / 3 = ', 5 / 3)"
   ]
  },
  {
   "cell_type": "code",
   "execution_count": 11,
   "metadata": {},
   "outputs": [
    {
     "ename": "TypeError",
     "evalue": "unsupported operand type(s) for +: 'int' and 'str'",
     "output_type": "error",
     "traceback": [
      "\u001b[1;31m---------------------------------------------------------------------------\u001b[0m",
      "\u001b[1;31mTypeError\u001b[0m                                 Traceback (most recent call last)",
      "Input \u001b[1;32mIn [11]\u001b[0m, in \u001b[0;36m<cell line: 1>\u001b[1;34m()\u001b[0m\n\u001b[1;32m----> 1\u001b[0m \u001b[38;5;28mprint\u001b[39m(\u001b[38;5;241;43m1\u001b[39;49m\u001b[43m \u001b[49m\u001b[38;5;241;43m+\u001b[39;49m\u001b[43m \u001b[49m\u001b[38;5;124;43m'\u001b[39;49m\u001b[38;5;124;43m2\u001b[39;49m\u001b[38;5;124;43m'\u001b[39;49m)\n",
      "\u001b[1;31mTypeError\u001b[0m: unsupported operand type(s) for +: 'int' and 'str'"
     ]
    }
   ],
   "source": [
    "print(1 + '2')"
   ]
  },
  {
   "cell_type": "code",
   "execution_count": 12,
   "metadata": {},
   "outputs": [
    {
     "name": "stdout",
     "output_type": "stream",
     "text": [
      "5 % 3 = 2\n"
     ]
    }
   ],
   "source": [
    "print('5 % 3 =', 5 % 3)"
   ]
  },
  {
   "cell_type": "code",
   "execution_count": 13,
   "metadata": {},
   "outputs": [
    {
     "name": "stdout",
     "output_type": "stream",
     "text": [
      "3\n"
     ]
    }
   ],
   "source": [
    "print(1 + int('2'))"
   ]
  },
  {
   "cell_type": "markdown",
   "metadata": {},
   "source": [
    "#### Let's code!"
   ]
  },
  {
   "cell_type": "markdown",
   "metadata": {},
   "source": [
    "Imagine que estamos preparando un evento para 100 invitados y, como postre, queremos servir a cada persona una rebanada de pastel. Cada pastel rinde 8 piezas. ¿Cómo calculamos el número de pasteles que necesitamos?\n",
    "\n",
    "Podemos comenzar simplemente dividiendo el número de invitados por el número de rebanadas por pastel:\n"
   ]
  },
  {
   "cell_type": "code",
   "execution_count": 2,
   "metadata": {},
   "outputs": [
    {
     "name": "stdout",
     "output_type": "stream",
     "text": [
      "100 Invitados requiere 12.5 pasteles\n"
     ]
    }
   ],
   "source": [
    "pie_eaters = 100\n",
    "slice_per_pie = 8\n",
    "num_pies = pie_eaters / slice_per_pie\n",
    "print(pie_eaters, 'invitados', 'requiere', num_pies, 'pasteles')"
   ]
  },
  {
   "cell_type": "markdown",
   "metadata": {},
   "source": [
    "Sin embargo, esto produce un número de coma flotante. No podemos hornear fácilmente la mitad de un pastel, por lo que debemos redondear para asegurarnos de tener suficientes pasteles. Podemos usar la  `floor` división  para esto:"
   ]
  },
  {
   "cell_type": "code",
   "execution_count": 3,
   "metadata": {},
   "outputs": [
    {
     "name": "stdout",
     "output_type": "stream",
     "text": [
      "100 invitados requiere 12 pasteles\n"
     ]
    }
   ],
   "source": [
    "num_pies = pie_eaters // slice_per_pie\n",
    "print(pie_eaters, 'invitados', 'requiere', num_pies, 'pasteles')"
   ]
  },
  {
   "cell_type": "markdown",
   "metadata": {},
   "source": [
    "Por supuesto, en realidad necesitamos un pastel más que eso, pero Python no proporciona un operador para redondear (`ceiling division`). Así que simplemente podemos agregar 1 a nuestra respuesta:"
   ]
  },
  {
   "cell_type": "code",
   "execution_count": 4,
   "metadata": {},
   "outputs": [
    {
     "name": "stdout",
     "output_type": "stream",
     "text": [
      "100 invitados requiere 13 pasteles\n"
     ]
    }
   ],
   "source": [
    "num_pies = pie_eaters // slice_per_pie + 1\n",
    "print(pie_eaters, 'invitados', 'requiere', num_pies, 'pasteles')"
   ]
  }
 ],
 "metadata": {
  "kernelspec": {
   "display_name": "trial",
   "language": "python",
   "name": "trial"
  },
  "language_info": {
   "codemirror_mode": {
    "name": "ipython",
    "version": 3
   },
   "file_extension": ".py",
   "mimetype": "text/x-python",
   "name": "python",
   "nbconvert_exporter": "python",
   "pygments_lexer": "ipython3",
   "version": "3.9.12"
  }
 },
 "nbformat": 4,
 "nbformat_minor": 2
}
