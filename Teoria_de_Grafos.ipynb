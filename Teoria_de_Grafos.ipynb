{
 "cells": [
  {
   "cell_type": "markdown",
   "metadata": {},
   "source": [
    "## Teoría de gráfos\n"
   ]
  },
  {
   "cell_type": "markdown",
   "metadata": {},
   "source": [
    "## Objetivos de aprendizaje\n",
    "\n",
    "- Conceptos básicos.\n",
    "- Creación de funciones para realizar grafos\n",
    "- Implementación de una clase para grafos en Python\n"
   ]
  },
  {
   "cell_type": "markdown",
   "metadata": {},
   "source": [
    "## Un poco de historia sobre Teoría de grafos\n",
    "\n",
    "Un área de creciente interés para los científicos que exploran la importancia, el poder o la influencia entre entidades se llama Teoría de grafos. Las raíces de la teoría de grafos comenzaron en 1736 cuando el matemático Carl Ehler presentó a Leonhard Euler el problema de los puentes de Konigsberg.\n",
    "\n",
    "El problema de los puentes de Konigsberg se basa en la antigua ciudad alemana de Konigsberg, que se encuentra a ambos lados del río Pregel. En el centro había dos grandes islas que estaban conectadas entre sí y con las orillas del río por siete puentes. Carl Ehler se obsesionó con encontrar una ruta para caminar a través de cada uno de los siete puentes sin pasar por ninguno de ellos más de una vez. Ehler contactó a Leonhard Euler, un matemático suizo. Euler confirmó la hipótesis de Ehler de que el problema no tenía solución, y la explicación de Euler informó un nuevo paradigma matemático llamado Geometría de Posición.\n",
    "\n",
    "El nuevo paradigma geométrico de Euler establecía que la ubicación de los puentes no importaba. El problema, en cambio, se puede simplificar convirtiendo cada puente en un punto (nodo) con líneas (aristas) para representar enlaces entre ellos. Esta práctica de usar nodos y aristas ahora se conoce como teoría de grafos.\n",
    "\n",
    "[Mas información sobre el problema de los puentes en Konigsberg](https://en.wikipedia.org/wiki/Seven_Bridges_of_K%C3%B6nigsberg)\n"
   ]
  },
  {
   "cell_type": "markdown",
   "metadata": {},
   "source": [
    "## Introducción a Teoría de gráfos con Python\n",
    "\n",
    "Un `grafo` en matemáticas y en ciencias computacionales, consta de `nodos`, también conocidos como `vértices`. Los nodos pueden o no estar conectados entre sí. \n",
    "\n",
    "<center><img src=\"./imagenes/Nodes.png\" width=\"200px\"/></center>\n"
   ]
  },
  {
   "cell_type": "markdown",
   "metadata": {},
   "source": [
    "- El nodo `a` está conectado con el nodo `c`, pero `a` no está conectado con `b`. La línea de conexión entre dos nodos se llama borde. Si los bordes entre los nodos no están dirigidos, el grafo se llama grafo no dirigido. Si una arista se dirige de un vértice (nodo) a otro, un grafo se llama grafo dirigido. Un borde dirigido se llama arco.\n",
    "- Aunque los grafos pueden parecer muy teóricos, muchos problemas prácticos se pueden representar mediante grafos. Suelen utilizarse para modelar problemas o situaciones en física, biología, psicología y sobre todo en ciencias de la computación. Por ejemplo, los gráficos se utilizan para representar redes de comunicación, organización de datos, dispositivos computacionales, el flujo de computación.\n",
    "- En este último caso, se utilizan para representar la organización de los datos, como el sistema de archivos de un sistema operativo o las redes de comunicación.\n",
    "- La estructura de enlaces de los sitios web también se puede ver como un grafo, es decir, un grafo dirigido, porque un enlace es un borde dirigido o un arco. \n",
    "- Python no tiene un tipo o clase de datos integrados para grafos, pero es fácil implementarlos en Python. \n",
    "- Un tipo de datos  ideal para representar grafos en Python, son los diccionarios.\n",
    "- Implmentación del grafo mostrado en la figura anterior:"
   ]
  },
  {
   "cell_type": "code",
   "execution_count": 12,
   "metadata": {},
   "outputs": [
    {
     "name": "stdout",
     "output_type": "stream",
     "text": [
      "{'a': {'c'}, 'b': {'e', 'c'}, 'c': {'a', 'd', 'b', 'e'}, 'd': {'c'}, 'e': {'b', 'c'}, 'f': {}}\n"
     ]
    }
   ],
   "source": [
    "graph = { \"a\" : {\"c\"},\n",
    "          \"b\" : {\"c\", \"e\"},\n",
    "          \"c\" : {\"a\", \"b\", \"d\", \"e\"},\n",
    "          \"d\" : {\"c\"},\n",
    "          \"e\" : {\"c\", \"b\"},\n",
    "          \"f\" : {}\n",
    "        }\n",
    "print(graph)"
   ]
  },
  {
   "cell_type": "markdown",
   "metadata": {},
   "source": [
    "- Las claves del diccionario anterior son los nodos de nuestro gráfico. Los valores correspondientes se establecen con los nodos, que están conectados por un borde. Un conjunto es mejor que una lista o una tupla, porque de esta manera, solo podemos tener una arista entre dos nodos. No existe una forma más sencilla y elegante de representar un gráfico.\n",
    "\n",
    "- Un borde también se puede implementar idealmente como un conjunto con dos elementos, es decir, los nodos finales. Esto es ideal para grafos no dirigidos. Para grafos dirigidos, preferiríamos listas o tuplas para implementar bordes."
   ]
  },
  {
   "cell_type": "code",
   "execution_count": 5,
   "metadata": {},
   "outputs": [
    {
     "name": "stdout",
     "output_type": "stream",
     "text": [
      "[{'a', 'c'}, {'b', 'e'}, {'b', 'c'}, {'a', 'c'}, {'d', 'c'}, {'b', 'c'}, {'e', 'c'}, {'d', 'c'}, {'b', 'e'}, {'c', 'e'}]\n"
     ]
    }
   ],
   "source": [
    "def generate_edges(graph):\n",
    "    edges = []\n",
    "    for node in graph:\n",
    "        for neighbour in graph[node]:\n",
    "            edges.append({node, neighbour})\n",
    "\n",
    "    return edges\n",
    "\n",
    "print(generate_edges(graph))"
   ]
  },
  {
   "cell_type": "markdown",
   "metadata": {},
   "source": [
    "- Como podemos ver, no hay ninguna arista que contenga el nodo `f`. `f` es un nodo aislado de nuestro grafo. \n",
    "- La siguiente función de Python calcula los nodos aislados de un gráfico dado:"
   ]
  },
  {
   "cell_type": "code",
   "execution_count": 7,
   "metadata": {},
   "outputs": [
    {
     "name": "stdout",
     "output_type": "stream",
     "text": [
      "{'f'}\n"
     ]
    }
   ],
   "source": [
    "def find_isolated_nodes(graph):\n",
    "    \"\"\" returns a set of isolated nodes. \"\"\"\n",
    "    isolated = set()\n",
    "    for node in graph:\n",
    "        if not graph[node]:\n",
    "            isolated.add(node)\n",
    "    return isolated\n",
    "print(find_isolated_nodes(graph))"
   ]
  },
  {
   "cell_type": "markdown",
   "metadata": {},
   "source": [
    "## Grafos como una clase de Python"
   ]
  },
  {
   "cell_type": "markdown",
   "metadata": {},
   "source": [
    "\n",
    "<center><img src=\"./imagenes/Nodes_dos.png\" width=\"200px\"/></center>\n",
    "\n",
    "Antes de continuar con la escritura de funciones para grafos, tenemos una primera implementación de una clase de gráfico de Python.\n",
    "\n",
    "Si observa la siguiente lista de nuestra clase, puede ver en el método de inicio que usamos un diccionario \"self._graph_dict\" para almacenar los vértices y sus vértices adyacentes correspondientes."
   ]
  },
  {
   "cell_type": "code",
   "execution_count": 21,
   "metadata": {},
   "outputs": [
    {
     "name": "stdout",
     "output_type": "stream",
     "text": [
      "Edges of vertice a:  {'d'}\n",
      "Edges of vertice b:  {'c'}\n",
      "Edges of vertice c:  {'d', 'c', 'b', 'e'}\n",
      "Edges of vertice d:  {'a', 'c'}\n",
      "Edges of vertice e:  {'c'}\n",
      "Edges of vertice f:  {}\n"
     ]
    }
   ],
   "source": [
    "\"\"\" A Python Class\n",
    "A simple Python graph class, demonstrating the essential \n",
    "facts and functionalities of graphs.\n",
    "\"\"\"\n",
    "\n",
    "\n",
    "class Graph(object):\n",
    "\n",
    "    def __init__(self, graph_dict=None):\n",
    "        \"\"\" initializes a graph object \n",
    "            If no dictionary or None is given, \n",
    "            an empty dictionary will be used\n",
    "        \"\"\"\n",
    "        if graph_dict == None:\n",
    "            graph_dict = {}\n",
    "        self._graph_dict = graph_dict\n",
    "\n",
    "    def edges(self, vertice):\n",
    "        \"\"\" returns a list of all the edges of a vertice\"\"\"\n",
    "        return self._graph_dict[vertice]\n",
    "        \n",
    "    def all_vertices(self):\n",
    "        \"\"\" returns the vertices of a graph as a set \"\"\"\n",
    "        return set(self._graph_dict.keys())\n",
    "\n",
    "    def all_edges(self):\n",
    "        \"\"\" returns the edges of a graph \"\"\"\n",
    "        return self.__generate_edges()\n",
    "\n",
    "    def add_vertex(self, vertex):\n",
    "        \"\"\" If the vertex \"vertex\" is not in \n",
    "            self._graph_dict, a key \"vertex\" with an empty\n",
    "            list as a value is added to the dictionary. \n",
    "            Otherwise nothing has to be done. \n",
    "        \"\"\"\n",
    "        if vertex not in self._graph_dict:\n",
    "            self._graph_dict[vertex] = []\n",
    "\n",
    "    def add_edge(self, edge):\n",
    "        \"\"\" assumes that edge is of type set, tuple or list; \n",
    "            between two vertices can be multiple edges! \n",
    "        \"\"\"\n",
    "        edge = set(edge)\n",
    "        vertex1, vertex2 = tuple(edge)\n",
    "        for x, y in [(vertex1, vertex2), (vertex2, vertex1)]:\n",
    "            if x in self._graph_dict:\n",
    "                self._graph_dict[x].add(y)\n",
    "            else:\n",
    "                self._graph_dict[x] = [y]\n",
    "\n",
    "    def __generate_edges(self):\n",
    "        \"\"\" A static method generating the edges of the \n",
    "            graph \"graph\". Edges are represented as sets \n",
    "            with one (a loop back to the vertex) or two \n",
    "            vertices \n",
    "        \"\"\"\n",
    "        edges = []\n",
    "        for vertex in self._graph_dict:\n",
    "            for neighbour in self._graph_dict[vertex]:\n",
    "                if {neighbour, vertex} not in edges:\n",
    "                    edges.append({vertex, neighbour})\n",
    "        return edges\n",
    "    \n",
    "    def __iter__(self):\n",
    "        self._iter_obj = iter(self._graph_dict)\n",
    "        return self._iter_obj\n",
    "    \n",
    "    def __next__(self):\n",
    "        \"\"\" allows us to iterate over the vertices \"\"\"\n",
    "        return next(self._iter_obj)\n",
    "\n",
    "    def __str__(self):\n",
    "        res = \"vertices: \"\n",
    "        for k in self._graph_dict:\n",
    "            res += str(k) + \" \"\n",
    "        res += \"\\nedges: \"\n",
    "        for edge in self.__generate_edges():\n",
    "            res += str(edge) + \" \"\n",
    "        return res\n",
    "\n",
    "\n",
    "\n",
    "\n",
    "g = { \"a\" : {\"d\"},\n",
    "      \"b\" : {\"c\"},\n",
    "      \"c\" : {\"b\", \"c\", \"d\", \"e\"},\n",
    "      \"d\" : {\"a\", \"c\"},\n",
    "      \"e\" : {\"c\"},\n",
    "      \"f\" : {}\n",
    "    }\n",
    "\n",
    "graph = Graph(g)\n",
    "\n",
    "for vertice in graph:\n",
    "    print(f\"Edges of vertice {vertice}: \", graph.edges(vertice))"
   ]
  },
  {
   "cell_type": "markdown",
   "metadata": {},
   "source": [
    "- Agregamos dos bordes:"
   ]
  },
  {
   "cell_type": "code",
   "execution_count": 22,
   "metadata": {},
   "outputs": [
    {
     "name": "stdout",
     "output_type": "stream",
     "text": [
      "\n",
      "Vertices of graph:\n",
      "{'f', 'd', 'ab', 'b', 'xyz', 'e', 'a', 'bla', 'fg', 'c'}\n",
      "Edges of graph:\n",
      "[{'a', 'd'}, {'b', 'c'}, {'d', 'c'}, {'c'}, {'e', 'c'}, {'ab', 'fg'}, {'bla', 'xyz'}]\n"
     ]
    }
   ],
   "source": [
    "graph.add_edge({\"ab\", \"fg\"})\n",
    "graph.add_edge({\"xyz\", \"bla\"})\n",
    "\n",
    "print(\"\")\n",
    "print(\"Vertices of graph:\")\n",
    "print(graph.all_vertices())\n",
    "\n",
    "print(\"Edges of graph:\")\n",
    "print(graph.all_edges())"
   ]
  },
  {
   "cell_type": "markdown",
   "metadata": {},
   "source": [
    "Calculemos la lista de todos los vértices y la lista de todas las aristas (bordes) de nuestro grafo:"
   ]
  },
  {
   "cell_type": "code",
   "execution_count": 24,
   "metadata": {},
   "outputs": [
    {
     "name": "stdout",
     "output_type": "stream",
     "text": [
      "\n",
      "Vertices del grafo:\n",
      "{'f', 'd', 'ab', 'b', 'xyz', 'e', 'a', 'bla', 'fg', 'c'}\n",
      "aristas (bordes) del grafo:\n",
      "[{'a', 'd'}, {'b', 'c'}, {'d', 'c'}, {'c'}, {'e', 'c'}, {'ab', 'fg'}, {'bla', 'xyz'}]\n"
     ]
    }
   ],
   "source": [
    "print(\"\")\n",
    "print(\"Vértices del grafo:\")\n",
    "print(graph.all_vertices())\n",
    "\n",
    "print(\"aristas (bordes) del grafo:\")\n",
    "print(graph.all_edges())"
   ]
  },
  {
   "cell_type": "markdown",
   "metadata": {},
   "source": [
    "- Añadimos un vértice y una arista al grafo:"
   ]
  },
  {
   "cell_type": "code",
   "execution_count": 26,
   "metadata": {},
   "outputs": [
    {
     "name": "stdout",
     "output_type": "stream",
     "text": [
      "Agregar vértice:\n",
      "Agregar un arista:\n",
      "Vértices del gráfo:\n",
      "{'f', 'z', 'd', 'ab', 'b', 'xyz', 'e', 'a', 'bla', 'fg', 'c'}\n",
      "Aristas del grafo:\n",
      "[{'a', 'd'}, {'b', 'c'}, {'d', 'c'}, {'c'}, {'e', 'c'}, {'ab', 'fg'}, {'bla', 'xyz'}]\n"
     ]
    }
   ],
   "source": [
    "print(\"Agregar vértice:\")\n",
    "graph.add_vertex(\"z\")\n",
    "\n",
    "print(\"Agregar un arista:\")\n",
    "graph.add_edge({\"a\", \"d\"})\n",
    "\n",
    "print(\"Vértices del gráfo:\")\n",
    "print(graph.all_vertices())\n",
    "\n",
    "print(\"Aristas del grafo:\")\n",
    "print(graph.all_edges())"
   ]
  },
  {
   "cell_type": "markdown",
   "metadata": {},
   "source": [
    "## Caminos en grafos\n",
    "\n",
    "- Encontrar el camino más corto de un nodo a otro nodo. Antes de llegar al código de Python para este problema, tendremos que presentar algunas definiciones formales.\n",
    "### Vértices adyacentes\n",
    "- Dos vértices son adyacentes cuando ambos inciden en una arista común.\n",
    "#### Camino en un gráfico no dirigido:\n",
    "Un camino en un grafo no dirigido es una secuencia de vértices $P=(v_{1}, v_{2}, ..., v_{n})$ ∈ $V x V x ... x V$ tal que $v_{i}$es adyacente a $v_{i+1}$ para 1 ≤ i < n. Tal camino P se llama camino de longitud n desde $v_{1}$ hasta $v_{n}$.\n",
    "\n",
    "#### Camino sencillo:\n",
    "- Un camino sin vértices repetidos se llama camino simple.\n"
   ]
  },
  {
   "cell_type": "markdown",
   "metadata": {},
   "source": []
  }
 ],
 "metadata": {
  "kernelspec": {
   "display_name": "Python 3.9.12 ('base')",
   "language": "python",
   "name": "python3"
  },
  "language_info": {
   "codemirror_mode": {
    "name": "ipython",
    "version": 3
   },
   "file_extension": ".py",
   "mimetype": "text/x-python",
   "name": "python",
   "nbconvert_exporter": "python",
   "pygments_lexer": "ipython3",
   "version": "3.9.12"
  },
  "orig_nbformat": 4,
  "vscode": {
   "interpreter": {
    "hash": "213a5d771efc885c0a0d146cb9398e98aa15d9474476d60ee972b98bffb9e082"
   }
  }
 },
 "nbformat": 4,
 "nbformat_minor": 2
}
